{
 "cells": [
  {
   "cell_type": "markdown",
   "metadata": {},
   "source": [
    "# Reduction to Hessenberg form\n",
    "\n",
    "The upper-triangular Hessenberg form has zeros below the first sub-diagonal\n",
    "\n",
    "$$\n",
    "\\begin{bmatrix}\n",
    "* & * & * & * & * & * \\\\\n",
    "* & * & * & * & * & * \\\\\n",
    "0 & * & * & * & * & * \\\\\n",
    "0 & 0 & * & * & * & * \\\\\n",
    "0 & 0 & 0 & * & * & * \\\\\n",
    "0 & 0 & 0 & 0 & * & * \\\\\n",
    "\\end{bmatrix}\n",
    "$$"
   ]
  },
  {
   "cell_type": "code",
   "execution_count": 1,
   "metadata": {},
   "outputs": [],
   "source": [
    "import numpy as np"
   ]
  },
  {
   "cell_type": "code",
   "execution_count": 2,
   "metadata": {},
   "outputs": [],
   "source": [
    "# We need sign function with sign(0) = 1\n",
    "def sign(x):\n",
    "    if x >= 0.0:\n",
    "        return 1.0\n",
    "    else:\n",
    "        return -1.0\n",
    "\n",
    "# Algorithm 26.1\n",
    "def hessenberg(A):\n",
    "    m = A.shape[0]\n",
    "    for k in range(m-2):\n",
    "        x = A[k+1:m, k]\n",
    "        e1 = np.zeros_like(x)\n",
    "        e1[0] = 1.0\n",
    "        v = sign(x[0]) * np.linalg.norm(x) * e1 + x\n",
    "        v = v / np.linalg.norm(v)\n",
    "        A[k+1:m,k:m] = A[k+1:m,k:m] - 2.0 * np.outer(v, np.dot(v, A[k+1:m,k:m]))\n",
    "        A[0:m,k+1:m] = A[0:m,k+1:m] - 2.0 * np.outer(A[0:m,k+1:m] @ v, v)\n",
    "    return A"
   ]
  },
  {
   "cell_type": "markdown",
   "metadata": {},
   "source": [
    "Test on a random matrix."
   ]
  },
  {
   "cell_type": "code",
   "execution_count": 3,
   "metadata": {},
   "outputs": [
    {
     "name": "stdout",
     "output_type": "stream",
     "text": [
      "[[ 8.19e-01 -1.77e+00 -5.47e-03 -4.16e-01 -3.43e-01  2.17e-01  2.99e-01]\n",
      " [-1.77e+00  2.66e+00  3.26e-01  3.47e-01  4.29e-01  3.84e-01 -8.53e-02]\n",
      " [ 5.55e-17  1.12e+00 -2.32e-01 -1.75e-01 -9.08e-02  4.57e-01 -5.22e-02]\n",
      " [ 1.11e-16  0.00e+00 -3.32e-01 -3.05e-01 -4.36e-01 -1.38e-01  2.47e-01]\n",
      " [ 0.00e+00  0.00e+00  0.00e+00  7.32e-01  8.65e-02 -2.46e-01  1.22e-01]\n",
      " [-1.11e-16  0.00e+00  0.00e+00  0.00e+00 -1.82e-01 -1.28e-01  6.11e-01]\n",
      " [ 0.00e+00  0.00e+00  0.00e+00  0.00e+00  3.47e-18 -5.79e-01 -6.70e-02]]\n"
     ]
    }
   ],
   "source": [
    "m = 7\n",
    "A = np.random.rand(m,m)\n",
    "H = hessenberg(A)\n",
    "print(np.array_str(H, precision=2))"
   ]
  },
  {
   "cell_type": "markdown",
   "metadata": {},
   "source": [
    "Extract the lower triangular part which is supposed to be zero."
   ]
  },
  {
   "cell_type": "code",
   "execution_count": 4,
   "metadata": {},
   "outputs": [
    {
     "name": "stdout",
     "output_type": "stream",
     "text": [
      "[[ 0.00e+00  0.00e+00  0.00e+00  0.00e+00  0.00e+00  0.00e+00  0.00e+00]\n",
      " [ 0.00e+00  0.00e+00  0.00e+00  0.00e+00  0.00e+00  0.00e+00  0.00e+00]\n",
      " [ 5.55e-17  0.00e+00  0.00e+00  0.00e+00  0.00e+00  0.00e+00  0.00e+00]\n",
      " [ 1.11e-16  0.00e+00  0.00e+00  0.00e+00  0.00e+00  0.00e+00  0.00e+00]\n",
      " [ 0.00e+00  0.00e+00  0.00e+00  0.00e+00  0.00e+00  0.00e+00  0.00e+00]\n",
      " [-1.11e-16  0.00e+00  0.00e+00  0.00e+00  0.00e+00  0.00e+00  0.00e+00]\n",
      " [ 0.00e+00  0.00e+00  0.00e+00  0.00e+00  3.47e-18  0.00e+00  0.00e+00]]\n"
     ]
    }
   ],
   "source": [
    "L = np.tril(H,k=-2)\n",
    "print(np.array_str(L, precision=2))"
   ]
  },
  {
   "cell_type": "markdown",
   "metadata": {},
   "source": [
    "Compute the maximum over the zero elements."
   ]
  },
  {
   "cell_type": "code",
   "execution_count": 5,
   "metadata": {},
   "outputs": [
    {
     "name": "stdout",
     "output_type": "stream",
     "text": [
      "1.1102230246251565e-16\n"
     ]
    }
   ],
   "source": [
    "print(np.abs(L).max())"
   ]
  },
  {
   "cell_type": "markdown",
   "metadata": {},
   "source": [
    "Test on a larger matrix without printing."
   ]
  },
  {
   "cell_type": "code",
   "execution_count": 6,
   "metadata": {},
   "outputs": [
    {
     "name": "stdout",
     "output_type": "stream",
     "text": [
      "8.881784197001252e-16\n"
     ]
    }
   ],
   "source": [
    "m = 100\n",
    "A = np.random.rand(m, m)\n",
    "H = hessenberg(A)\n",
    "L = np.tril(H,k=-2)\n",
    "print(np.abs(L).max())"
   ]
  }
 ],
 "metadata": {
  "kernelspec": {
   "display_name": "Python 3.10.8 ('base')",
   "language": "python",
   "name": "python3"
  },
  "language_info": {
   "codemirror_mode": {
    "name": "ipython",
    "version": 3
   },
   "file_extension": ".py",
   "mimetype": "text/x-python",
   "name": "python",
   "nbconvert_exporter": "python",
   "pygments_lexer": "ipython3",
   "version": "3.10.8"
  },
  "orig_nbformat": 4,
  "vscode": {
   "interpreter": {
    "hash": "c6e4e9f98eb68ad3b7c296f83d20e6de614cb42e90992a65aa266555a3137d0d"
   }
  }
 },
 "nbformat": 4,
 "nbformat_minor": 2
}
