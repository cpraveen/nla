{
 "cells": [
  {
   "cell_type": "markdown",
   "metadata": {},
   "source": [
    "# Reduction to Hessenberg form\n",
    "\n",
    "The upper-triangular Hessenberg form has zeros below the first sub-diagonal\n",
    "\n",
    "$$\n",
    "\\begin{bmatrix}\n",
    "* & * & * & * & * & * \\\\\n",
    "* & * & * & * & * & * \\\\\n",
    "0 & * & * & * & * & * \\\\\n",
    "0 & 0 & * & * & * & * \\\\\n",
    "0 & 0 & 0 & * & * & * \\\\\n",
    "0 & 0 & 0 & 0 & * & * \\\\\n",
    "\\end{bmatrix}\n",
    "$$"
   ]
  },
  {
   "cell_type": "code",
   "execution_count": 1,
   "metadata": {},
   "outputs": [],
   "source": [
    "import numpy as np"
   ]
  },
  {
   "cell_type": "code",
   "execution_count": 2,
   "metadata": {},
   "outputs": [],
   "source": [
    "# We need sign function with sign(0) = 1\n",
    "def sign(x):\n",
    "    if x >= 0.0:\n",
    "        return 1.0\n",
    "    else:\n",
    "        return -1.0\n",
    "\n",
    "# Algorithm 26.1\n",
    "def hessenberg(A):\n",
    "    m = A.shape[0]\n",
    "    for k in range(m-2):\n",
    "        x = A[k+1:m, k]\n",
    "        e1 = np.zeros_like(x)\n",
    "        e1[0] = 1.0\n",
    "        v = sign(x[0]) * np.linalg.norm(x) * e1 + x\n",
    "        v = v / np.linalg.norm(v)\n",
    "        A[k+1:m,k:m] = A[k+1:m,k:m] - 2.0 * np.outer(v, np.dot(v, A[k+1:m,k:m]))\n",
    "        A[0:m,k+1:m] = A[0:m,k+1:m] - 2.0 * np.outer(A[0:m,k+1:m] @ v, v)\n",
    "    return A"
   ]
  },
  {
   "cell_type": "markdown",
   "metadata": {},
   "source": [
    "Test on a random matrix."
   ]
  },
  {
   "cell_type": "code",
   "execution_count": 3,
   "metadata": {},
   "outputs": [
    {
     "name": "stdout",
     "output_type": "stream",
     "text": [
      "[[ 6.41e-01 -1.19e+00 -6.06e-01  1.22e-01  5.97e-02 -2.07e-01 -2.26e-01]\n",
      " [-1.40e+00  2.50e+00  1.49e+00 -1.82e-02 -1.19e-01 -2.91e-01 -5.98e-01]\n",
      " [ 0.00e+00  1.33e+00  4.47e-01  2.82e-01 -3.55e-01  3.57e-01  1.43e-01]\n",
      " [ 0.00e+00  0.00e+00  6.07e-01  9.64e-02  3.53e-01  5.64e-01 -5.65e-01]\n",
      " [ 0.00e+00  0.00e+00  2.78e-17  8.61e-01  8.42e-02  2.32e-01  1.89e-01]\n",
      " [ 0.00e+00  0.00e+00  5.55e-17 -1.11e-16 -1.36e-01 -1.25e-01 -1.40e-01]\n",
      " [ 0.00e+00  0.00e+00  5.55e-17  5.55e-17 -2.78e-17 -2.18e-03 -5.96e-02]]\n"
     ]
    }
   ],
   "source": [
    "m = 7\n",
    "A = np.random.rand(m,m)\n",
    "H = hessenberg(A)\n",
    "print(np.array_str(H, precision=2))"
   ]
  },
  {
   "cell_type": "markdown",
   "metadata": {},
   "source": [
    "Extract the lower triangular part which is supposed to be zero."
   ]
  },
  {
   "cell_type": "code",
   "execution_count": 4,
   "metadata": {},
   "outputs": [
    {
     "name": "stdout",
     "output_type": "stream",
     "text": [
      "[[ 0.00e+00  0.00e+00  0.00e+00  0.00e+00  0.00e+00  0.00e+00  0.00e+00]\n",
      " [ 0.00e+00  0.00e+00  0.00e+00  0.00e+00  0.00e+00  0.00e+00  0.00e+00]\n",
      " [ 0.00e+00  0.00e+00  0.00e+00  0.00e+00  0.00e+00  0.00e+00  0.00e+00]\n",
      " [ 0.00e+00  0.00e+00  0.00e+00  0.00e+00  0.00e+00  0.00e+00  0.00e+00]\n",
      " [ 0.00e+00  0.00e+00  2.78e-17  0.00e+00  0.00e+00  0.00e+00  0.00e+00]\n",
      " [ 0.00e+00  0.00e+00  5.55e-17 -1.11e-16  0.00e+00  0.00e+00  0.00e+00]\n",
      " [ 0.00e+00  0.00e+00  5.55e-17  5.55e-17 -2.78e-17  0.00e+00  0.00e+00]]\n"
     ]
    }
   ],
   "source": [
    "L = np.tril(H,k=-2)\n",
    "print(np.array_str(L, precision=2))"
   ]
  },
  {
   "cell_type": "markdown",
   "metadata": {},
   "source": [
    "Compute the maximum over the zero elements."
   ]
  },
  {
   "cell_type": "code",
   "execution_count": 5,
   "metadata": {},
   "outputs": [
    {
     "name": "stdout",
     "output_type": "stream",
     "text": [
      "1.1102230246251565e-16\n"
     ]
    }
   ],
   "source": [
    "print(np.abs(L).max())"
   ]
  },
  {
   "cell_type": "markdown",
   "metadata": {},
   "source": [
    "Test on a larger matrix without printing."
   ]
  },
  {
   "cell_type": "code",
   "execution_count": 6,
   "metadata": {},
   "outputs": [
    {
     "name": "stdout",
     "output_type": "stream",
     "text": [
      "1.7763568394002505e-15\n"
     ]
    }
   ],
   "source": [
    "m = 100\n",
    "A = np.random.rand(m, m)\n",
    "H = hessenberg(A)\n",
    "L = np.tril(H,k=-2)\n",
    "print(np.abs(L).max())"
   ]
  },
  {
   "attachments": {},
   "cell_type": "markdown",
   "metadata": {},
   "source": [
    "## Hermitian case\n",
    "\n",
    "In this case, the Hessenberg reduction should give a tridiagonal matrix."
   ]
  },
  {
   "cell_type": "code",
   "execution_count": 8,
   "metadata": {},
   "outputs": [
    {
     "name": "stdout",
     "output_type": "stream",
     "text": [
      "[[ 0.33 -1.26 -0.   -0.    0.   -0.   -0.  ]\n",
      " [-1.26  2.8  -0.7   0.   -0.   -0.    0.  ]\n",
      " [ 0.   -0.7   0.18 -0.45 -0.    0.    0.  ]\n",
      " [ 0.    0.   -0.45  0.28  0.61 -0.   -0.  ]\n",
      " [ 0.    0.    0.    0.61 -0.05  0.24 -0.  ]\n",
      " [ 0.    0.    0.    0.    0.24 -0.25 -0.38]\n",
      " [ 0.    0.    0.   -0.    0.   -0.38 -0.12]]\n"
     ]
    }
   ],
   "source": [
    "m = 7\n",
    "A = np.random.rand(m,m)\n",
    "A = 0.5 * (A + A.T)\n",
    "H = hessenberg(A)\n",
    "print(np.array_str(H, precision=2, suppress_small=True))"
   ]
  }
 ],
 "metadata": {
  "kernelspec": {
   "display_name": "Python 3.10.8 ('base')",
   "language": "python",
   "name": "python3"
  },
  "language_info": {
   "codemirror_mode": {
    "name": "ipython",
    "version": 3
   },
   "file_extension": ".py",
   "mimetype": "text/x-python",
   "name": "python",
   "nbconvert_exporter": "python",
   "pygments_lexer": "ipython3",
   "version": "3.10.8"
  },
  "orig_nbformat": 4,
  "vscode": {
   "interpreter": {
    "hash": "c6e4e9f98eb68ad3b7c296f83d20e6de614cb42e90992a65aa266555a3137d0d"
   }
  }
 },
 "nbformat": 4,
 "nbformat_minor": 2
}
