{
 "cells": [
  {
   "cell_type": "markdown",
   "id": "0bb8950c",
   "metadata": {},
   "source": [
    "# Power and inverse iterations"
   ]
  },
  {
   "cell_type": "code",
   "execution_count": 48,
   "id": "685b7ea2-cf87-41c7-8dbe-ee68afc34035",
   "metadata": {},
   "outputs": [],
   "source": [
    "import numpy as np"
   ]
  },
  {
   "cell_type": "markdown",
   "id": "376d7f39-1eb1-43ee-a743-c514af4bde9f",
   "metadata": {},
   "source": [
    "## Power iteration\n",
    "\n",
    "We slightly re-arrange the Algorithm 27.1 so as to perform only one matrix-vector product per iteration."
   ]
  },
  {
   "cell_type": "code",
   "execution_count": 49,
   "id": "9b6b517b-e825-4ef3-a25b-5c3a12da6df9",
   "metadata": {},
   "outputs": [],
   "source": [
    "def power_iter(A, v, maxiter=1000, reltol=1.0e-6):\n",
    "    v /= np.linalg.norm(v)\n",
    "    w = A @ v\n",
    "    lam = np.dot(v, w)\n",
    "    print(0, lam)\n",
    "    for k in range(maxiter):\n",
    "        v = w /np.linalg.norm(w)\n",
    "        w = A @ v\n",
    "        lam_new = np.dot(v, w)\n",
    "        print(k+1, lam_new)\n",
    "        if np.abs(lam_new - lam) < reltol * np.abs(lam_new):\n",
    "            return v, lam_new\n",
    "        else:\n",
    "            lam = lam_new\n",
    "    print('Did not converge !!!')\n",
    "    return v, lam"
   ]
  },
  {
   "cell_type": "markdown",
   "id": "df81725e-6fbc-4444-8cdc-914f16af8c34",
   "metadata": {},
   "source": [
    "## Example 27.1\n",
    "\n",
    "$$\n",
    "A = \\begin{bmatrix}\n",
    "2 & 1 & 1 \\\\\n",
    "1 & 3 & 1 \\\\\n",
    "1 & 1 & 4 \\end{bmatrix}\n",
    "$$\n",
    "\n",
    "The eigenvalues as given by Matlab are\n",
    "\n",
    "```\n",
    "1.324869129433354\n",
    "2.460811127189110\n",
    "5.214319743377535\n",
    "```\n",
    "\n",
    "We start with \n",
    "\n",
    "$$\n",
    "v = \\frac{1}{\\sqrt{3}} \\begin{bmatrix} 1 \\\\ 1 \\\\ 1 \\end{bmatrix}\n",
    "$$\n",
    "\n",
    "The eigenvector closest to $v$ has eigenvalue $\\lambda = 5.214319743377...$"
   ]
  },
  {
   "cell_type": "code",
   "execution_count": 50,
   "id": "32c5c9b0-ed82-41ae-bcc8-8f8df645b47c",
   "metadata": {},
   "outputs": [
    {
     "name": "stdout",
     "output_type": "stream",
     "text": [
      "0 5.000000000000002\n",
      "1 5.181818181818181\n",
      "2 5.208192771084338\n",
      "3 5.213028887981392\n",
      "4 5.214037052110615\n",
      "5 5.21425709431699\n",
      "6 5.214305810348445\n",
      "7 5.214316641508852\n",
      "8 5.214319052610873\n",
      "9 5.214319589534747\n",
      "10 5.214319709113864\n",
      "11 5.214319735746316\n",
      "12 5.214319741677905\n",
      "13 5.214319742998992\n",
      "14 5.214319743293227\n",
      "15 5.2143197433587565\n",
      "16 5.214319743373353\n",
      "17 5.214319743376604\n"
     ]
    }
   ],
   "source": [
    "A = np.array([[2, 1, 1],\n",
    "              [1, 3, 1],\n",
    "              [1, 1, 4]])\n",
    "v = np.array([1, 1, 1]) / np.sqrt(3.0)\n",
    "v, lam = power_iter(A, v, reltol=1.0e-12)"
   ]
  },
  {
   "cell_type": "markdown",
   "id": "ec9a863f-2b72-4dfa-a386-369d6c2868f4",
   "metadata": {},
   "source": [
    "## Inverse iteration"
   ]
  },
  {
   "cell_type": "code",
   "execution_count": 51,
   "id": "d2da8cba-7353-46dc-bdc1-b08d893154a4",
   "metadata": {},
   "outputs": [],
   "source": [
    "def inv_iter(A, mu, maxiter=1000, reltol=1.0e-6):\n",
    "    v = 2 * np.random.rand(A.shape[0]) - 1\n",
    "    v /= np.linalg.norm(v)\n",
    "    lam = np.dot(v, A @ v)\n",
    "    print(0, lam)\n",
    "    for k in range(maxiter):\n",
    "        B = A - mu * np.eye(A.shape[0])\n",
    "        w = np.linalg.solve(B, v)\n",
    "        v = w /np.linalg.norm(w)\n",
    "        lam_new = np.dot(v, A @ v)\n",
    "        print(k+1, lam_new)\n",
    "        if np.abs(lam_new - lam) < reltol * np.abs(lam_new):\n",
    "            return v, lam_new\n",
    "        else:\n",
    "            lam = lam_new\n",
    "    print('Did not converge !!!')\n",
    "    return v, lam"
   ]
  },
  {
   "cell_type": "markdown",
   "id": "45a749b1-2418-40eb-8271-964d7f5bb4a5",
   "metadata": {},
   "source": [
    "We apply this on Example 27.1 starting with a random initial $v$ and $\\mu = 5$."
   ]
  },
  {
   "cell_type": "code",
   "execution_count": 52,
   "id": "0821231c-c629-44cb-9cf2-bbcc143d9c3c",
   "metadata": {},
   "outputs": [
    {
     "name": "stdout",
     "output_type": "stream",
     "text": [
      "0 1.5201079117238103\n",
      "1 4.336807057196631\n",
      "2 5.209588968236146\n",
      "3 5.214297960557239\n",
      "4 5.214319628886997\n",
      "5 5.2143197427002805\n",
      "6 5.214319743373182\n",
      "7 5.214319743377505\n"
     ]
    }
   ],
   "source": [
    "A = np.array([[2, 1, 1],\n",
    "              [1, 3, 1],\n",
    "              [1, 1, 4]])\n",
    "mu = 5.0\n",
    "v, lam = inv_iter(A, mu, reltol=1.0e-12)"
   ]
  },
  {
   "cell_type": "markdown",
   "id": "eb9034ef-2de1-48d8-9b1a-0de935acef0c",
   "metadata": {},
   "source": [
    "## Rayleigh quotient iteration"
   ]
  },
  {
   "cell_type": "code",
   "execution_count": 53,
   "id": "64f9a26c-3e3c-4c91-b457-1d39bc8b66da",
   "metadata": {},
   "outputs": [],
   "source": [
    "def ray_iter(A, v, maxiter=1000, reltol=1.0e-6):\n",
    "    v /= np.linalg.norm(v)\n",
    "    lam = np.dot(v, A @ v)\n",
    "    print(0, lam)\n",
    "    for k in range(maxiter):\n",
    "        B = A - lam * np.eye(A.shape[0])\n",
    "        w = np.linalg.solve(B, v)\n",
    "        v = w /np.linalg.norm(w)\n",
    "        lam_new = np.dot(v, A @ v)\n",
    "        print(k+1, lam_new)\n",
    "        if np.abs(lam_new - lam) < reltol * np.abs(lam_new):\n",
    "            return v, lam_new\n",
    "        else:\n",
    "            lam = lam_new\n",
    "    print('Did not converge !!!')\n",
    "    return v, lam"
   ]
  },
  {
   "cell_type": "markdown",
   "id": "1d4b373b-b1ca-47cd-a729-a19e7ddfe70f",
   "metadata": {},
   "source": [
    "We apply this on Example 27.1."
   ]
  },
  {
   "cell_type": "code",
   "execution_count": 54,
   "id": "1022c3b4-a676-4512-b027-3fe9149116da",
   "metadata": {},
   "outputs": [
    {
     "name": "stdout",
     "output_type": "stream",
     "text": [
      "0 5.000000000000002\n",
      "1 5.213114754098361\n",
      "2 5.214319743184031\n",
      "3 5.214319743377534\n",
      "4 5.214319743377536\n"
     ]
    }
   ],
   "source": [
    "A = np.array([[2, 1, 1],\n",
    "              [1, 3, 1],\n",
    "              [1, 1, 4]])\n",
    "v = np.array([1, 1, 1]) / np.sqrt(3.0)\n",
    "v, lam = ray_iter(A, v, reltol=1.0e-12)"
   ]
  },
  {
   "cell_type": "markdown",
   "id": "98114233-aa24-487f-b793-ead0924e0973",
   "metadata": {},
   "source": [
    "Let us try the same problem with a random initial $v$."
   ]
  },
  {
   "cell_type": "code",
   "execution_count": 55,
   "id": "561b3946-90b1-4da1-9499-c64e5ea25c75",
   "metadata": {},
   "outputs": [
    {
     "name": "stdout",
     "output_type": "stream",
     "text": [
      "0 5.2060200442168885\n",
      "1 5.2143196674076755\n",
      "2 5.214319743377534\n",
      "3 5.214319743377536\n"
     ]
    }
   ],
   "source": [
    "v = 2 * np.random.rand(3) - 1\n",
    "v, lam = ray_iter(A, v, reltol=1.0e-12)"
   ]
  },
  {
   "cell_type": "markdown",
   "id": "2278c903-b826-4bd5-bc25-540453476cd1",
   "metadata": {},
   "source": [
    "Depending on which eigenvector is closest to the starting $v$, we may converge to any of the three eigenvalues."
   ]
  }
 ],
 "metadata": {
  "kernelspec": {
   "display_name": "Python 3 (ipykernel)",
   "language": "python",
   "name": "python3"
  },
  "language_info": {
   "codemirror_mode": {
    "name": "ipython",
    "version": 3
   },
   "file_extension": ".py",
   "mimetype": "text/x-python",
   "name": "python",
   "nbconvert_exporter": "python",
   "pygments_lexer": "ipython3",
   "version": "3.10.8"
  },
  "vscode": {
   "interpreter": {
    "hash": "c6e4e9f98eb68ad3b7c296f83d20e6de614cb42e90992a65aa266555a3137d0d"
   }
  }
 },
 "nbformat": 4,
 "nbformat_minor": 5
}
