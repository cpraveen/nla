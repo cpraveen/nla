{
 "cells": [
  {
   "cell_type": "markdown",
   "id": "2bfa6211-9c8f-41ec-96f4-2b60d0e15d60",
   "metadata": {},
   "source": [
    "# QR algorithm for eigenvalues"
   ]
  },
  {
   "cell_type": "code",
   "execution_count": 8,
   "id": "a3a3ffd6-b364-400d-9400-b6a2978ed661",
   "metadata": {
    "tags": []
   },
   "outputs": [],
   "source": [
    "import numpy as np\n",
    "from numpy.linalg import qr, eig\n",
    "from scipy.linalg import hessenberg"
   ]
  },
  {
   "cell_type": "markdown",
   "id": "c86a69f2-3572-4f5b-a427-394c53507b0f",
   "metadata": {},
   "source": [
    "## Pure QR algorithm"
   ]
  },
  {
   "cell_type": "code",
   "execution_count": 9,
   "id": "fa7fd5ca-1d4a-4463-96f1-defebd4f0ed8",
   "metadata": {
    "tags": []
   },
   "outputs": [],
   "source": [
    "# Algorithm 28.1\n",
    "def qr_pure(A, maxiter=100):\n",
    "    for k in range(maxiter):\n",
    "        Q, R = qr(A)\n",
    "        A = R @ Q\n",
    "    return A"
   ]
  },
  {
   "cell_type": "code",
   "execution_count": 10,
   "id": "c5eb9b1b-73e9-406a-a4d0-1e4db2eae2af",
   "metadata": {
    "tags": []
   },
   "outputs": [
    {
     "name": "stdout",
     "output_type": "stream",
     "text": [
      "[[ 2.44366622 -0.          0.         -0.          0.        ]\n",
      " [ 0.         -0.67227122 -0.         -0.         -0.        ]\n",
      " [-0.         -0.          0.16794289  0.00000018  0.        ]\n",
      " [-0.         -0.          0.00000018 -0.14330105  0.        ]\n",
      " [ 0.          0.         -0.          0.         -0.00470832]]\n"
     ]
    }
   ],
   "source": [
    "m = 5\n",
    "B = np.random.random((m,m))\n",
    "A = 0.5 * (B + B.T)\n",
    "A = qr_pure(A)\n",
    "print(np.array_str(A,suppress_small=True))"
   ]
  },
  {
   "cell_type": "code",
   "execution_count": 11,
   "id": "8467c1ab-1270-4424-a9ac-4ca7f33e875e",
   "metadata": {
    "tags": []
   },
   "outputs": [
    {
     "name": "stdout",
     "output_type": "stream",
     "text": [
      "Eigenvalues =  [ 2.44366622 -0.67227122  0.16794289 -0.14330105 -0.00470832]\n"
     ]
    }
   ],
   "source": [
    "evals,evecs = eig(A)\n",
    "print('Eigenvalues = ', evals)"
   ]
  },
  {
   "cell_type": "markdown",
   "id": "dfb51f09-2a24-4005-bd63-b3e2fe7aa60a",
   "metadata": {},
   "source": [
    "## QR algorithm with well-chosen shifts"
   ]
  },
  {
   "cell_type": "code",
   "execution_count": 12,
   "id": "79b5ffe9-3416-4e5b-9fc5-24cc10c00f4f",
   "metadata": {},
   "outputs": [],
   "source": [
    "# Algorithm 28.2\n",
    "def qr_with_shifts(A, maxiter=100):\n",
    "    m = A.shape[0]\n",
    "    H = hessenberg(A)\n",
    "    for k in range(maxiter):\n",
    "        mu = H[-1,-1]\n",
    "        Q, R = qr(H - mu*np.eye(m))\n",
    "        H = R @ Q + mu * np.eye(m)\n",
    "    return np.diag(H)"
   ]
  },
  {
   "cell_type": "code",
   "execution_count": 13,
   "id": "70e75fb2-5af5-47ee-be81-5f953e34647a",
   "metadata": {
    "tags": []
   },
   "outputs": [
    {
     "name": "stdout",
     "output_type": "stream",
     "text": [
      "[ 2.44366622 -0.67227122  0.16794289 -0.14330105 -0.00470832]\n"
     ]
    }
   ],
   "source": [
    "D = qr_with_shifts(A)\n",
    "print(D)"
   ]
  }
 ],
 "metadata": {
  "kernelspec": {
   "display_name": "Python 3 (ipykernel)",
   "language": "python",
   "name": "python3"
  },
  "language_info": {
   "codemirror_mode": {
    "name": "ipython",
    "version": 3
   },
   "file_extension": ".py",
   "mimetype": "text/x-python",
   "name": "python",
   "nbconvert_exporter": "python",
   "pygments_lexer": "ipython3",
   "version": "3.10.8"
  }
 },
 "nbformat": 4,
 "nbformat_minor": 5
}
