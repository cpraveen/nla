{
 "cells": [
  {
   "cell_type": "markdown",
   "id": "29bafe28-9459-4330-ad2d-4b3735dc154a",
   "metadata": {},
   "source": [
    "# Singular value decomposition\n",
    "\n",
    "The SVD of a $m \\times n$ matrix $A$ is\n",
    "\n",
    "$$\n",
    "A = U \\Sigma V^\\star\n",
    "$$\n",
    "\n",
    "We use [numpy.linalg.svd](https://numpy.org/doc/stable/reference/generated/numpy.linalg.svd.html) or [scipy.linalg.svd](https://docs.scipy.org/doc/scipy/reference/generated/scipy.linalg.svd.html) to compute this. Below we use numpy."
   ]
  },
  {
   "cell_type": "code",
   "execution_count": 24,
   "id": "59a29901-933c-4c7d-9de0-fbad49067886",
   "metadata": {},
   "outputs": [],
   "source": [
    "import numpy as np\n",
    "import matplotlib.pyplot as plt"
   ]
  },
  {
   "cell_type": "markdown",
   "id": "d9484e6e-be2e-4679-a05e-1c5aaccb150d",
   "metadata": {},
   "source": [
    "Construct a random $3 \\times 2$ matrix."
   ]
  },
  {
   "cell_type": "code",
   "execution_count": 25,
   "id": "02cf2b24-0026-4c64-be73-42ba15efeaf6",
   "metadata": {},
   "outputs": [],
   "source": [
    "A = 2 * np.random.rand(3,2) - 1"
   ]
  },
  {
   "cell_type": "markdown",
   "id": "5b888eb2-ee28-464d-9404-9f72f0de0460",
   "metadata": {},
   "source": [
    "## Reduced SVD\n",
    "\n",
    "The reduced SVD is given by\n",
    "\n",
    "```\n",
    "U,S,Vh = np.linalg.svd(A, full_matrices=False)\n",
    "```\n",
    "\n",
    "The function returns $\\textrm{Vh} = V^\\star$.\n",
    "\n",
    "The singular vectors and values are given by\n",
    "\n",
    "\\begin{align*}\n",
    "u_j &= \\textrm{U[:,j]}, & 0 \\le j < n \\\\\n",
    "v_j &= \\textrm{Vh[j,:]}, & 0 \\le j < n \\\\\n",
    "\\sigma_j &= \\textrm{S[j]}, & 0 \\le j < n\n",
    "\\end{align*}"
   ]
  },
  {
   "cell_type": "code",
   "execution_count": 26,
   "id": "2d4064e9-dc1e-4de3-87b4-08d6fa4bdfae",
   "metadata": {},
   "outputs": [
    {
     "name": "stdout",
     "output_type": "stream",
     "text": [
      "U = \n",
      " [[ 0.16482124  0.90554822]\n",
      " [-0.48858867  0.41925307]\n",
      " [-0.85680516 -0.06487906]]\n",
      "sigma =  0.6511960681451465 0.12091614067200726\n",
      "V = \n",
      " [[ 0.04946146  0.99877603]\n",
      " [ 0.99877603 -0.04946146]]\n"
     ]
    }
   ],
   "source": [
    "U,S,Vh = np.linalg.svd(A, full_matrices=False)\n",
    "print('U = \\n', U)\n",
    "print('sigma = ', *S)\n",
    "print('V = \\n', Vh.T)"
   ]
  },
  {
   "cell_type": "markdown",
   "id": "6ddfa1ec-997d-418c-9a57-b7198d7caf54",
   "metadata": {},
   "source": [
    "$U$ is $m \\times n$ and $V$ is $n \\times n$. We can verify that $A = U \\Sigma V^\\star$ by computing the element-wise maximum difference"
   ]
  },
  {
   "cell_type": "code",
   "execution_count": 27,
   "id": "c968db87-e787-4cee-a605-c8e84f1b32b4",
   "metadata": {},
   "outputs": [
    {
     "name": "stdout",
     "output_type": "stream",
     "text": [
      "1.1102230246251565e-16\n"
     ]
    }
   ],
   "source": [
    "print(np.abs(A - U@np.diag(S)@Vh).max())"
   ]
  },
  {
   "cell_type": "markdown",
   "id": "756ce453-70a4-4e7d-82cb-32a0984b3816",
   "metadata": {},
   "source": [
    "## Full SVD\n",
    "\n",
    "The full SVD is given by\n",
    "\n",
    "```\n",
    "U,S,Vh = np.linalg.svd(A, full_matrices=True)\n",
    "```\n",
    "\n",
    "The singular vectors and values are given by\n",
    "\n",
    "\\begin{align*}\n",
    "u_j &= \\textrm{U[:,j]}, & 0 \\le j < m \\\\\n",
    "v_j &= \\textrm{Vh[j,:]}, & 0 \\le j < n \\\\\n",
    "\\sigma_j &= \\textrm{S[j]}, & 0 \\le j < n\n",
    "\\end{align*}"
   ]
  },
  {
   "cell_type": "code",
   "execution_count": 28,
   "id": "954582c2-9cf4-48f6-9145-896ed2cfceac",
   "metadata": {},
   "outputs": [
    {
     "name": "stdout",
     "output_type": "stream",
     "text": [
      "U = \n",
      " [[ 0.16482124  0.90554822  0.39091736]\n",
      " [-0.48858867  0.41925307 -0.76518493]\n",
      " [-0.85680516 -0.06487906  0.51154241]]\n",
      "sigma =  0.6511960681451465 0.12091614067200726\n",
      "V = \n",
      " [[ 0.04946146  0.99877603]\n",
      " [ 0.99877603 -0.04946146]]\n"
     ]
    }
   ],
   "source": [
    "U,S,Vh = np.linalg.svd(A, full_matrices=True)\n",
    "print('U = \\n', U)\n",
    "print('sigma = ', *S)\n",
    "print('V = \\n', Vh.T)"
   ]
  },
  {
   "cell_type": "markdown",
   "id": "57f48c99-f0cf-45c5-8313-9ecbbb61d56a",
   "metadata": {},
   "source": [
    "$U$ is $m \\times m$ and $V$ is $n \\times n$."
   ]
  },
  {
   "cell_type": "markdown",
   "id": "de2e01d8-4b2d-4361-afa8-492e3538c026",
   "metadata": {},
   "source": [
    "## Rank deficient case\n",
    "\n",
    "Construct a random $4 \\times 3$ matrix whose last column is sum of first two columns. Its rank is 2."
   ]
  },
  {
   "cell_type": "code",
   "execution_count": 29,
   "id": "1d36fff6-bb71-4881-8e31-bab6aba44fb8",
   "metadata": {},
   "outputs": [],
   "source": [
    "A = 2 * np.random.rand(4,3) - 1\n",
    "A[:,2] = A[:,0] + A[:,1]"
   ]
  },
  {
   "cell_type": "markdown",
   "id": "588d50ac-24fb-4f12-b118-86adc61c5c20",
   "metadata": {},
   "source": [
    "Compute the reduced SVD"
   ]
  },
  {
   "cell_type": "code",
   "execution_count": 30,
   "id": "97832fb4-a15b-4c3d-ba63-5b4a47b20c6c",
   "metadata": {},
   "outputs": [
    {
     "name": "stdout",
     "output_type": "stream",
     "text": [
      "U = \n",
      " [[-0.73395838 -0.12517813 -0.33579402]\n",
      " [-0.10903625 -0.41879931  0.85985282]\n",
      " [-0.54752869 -0.33771886  0.00725199]\n",
      " [-0.38681846  0.83359675  0.38450346]]\n",
      "sigma =  1.9921183552558448 1.0565545201910542 1.431644719927487e-17\n",
      "V = \n",
      " [[ 0.3000202  -0.75937773 -0.57735027]\n",
      " [ 0.50763031  0.63951399 -0.57735027]\n",
      " [ 0.80765051 -0.11986375  0.57735027]]\n"
     ]
    }
   ],
   "source": [
    "U,S,Vh = np.linalg.svd(A, full_matrices=False)\n",
    "print('U = \\n', U)\n",
    "print('sigma = ', *S)\n",
    "print('V = \\n', Vh.T)"
   ]
  },
  {
   "cell_type": "markdown",
   "id": "e8955be3-14df-47e3-ae0a-7224cef84b0b",
   "metadata": {},
   "source": [
    "We notice that one out of three singular values is zero. The number of non-zero singular values corresponds to the rank of the matrix.\n",
    "\n",
    "## Random matrix"
   ]
  },
  {
   "cell_type": "code",
   "execution_count": 31,
   "id": "504a27ae-4311-4caf-960b-9026524e2dd9",
   "metadata": {},
   "outputs": [
    {
     "data": {
      "image/png": "[encoded data removed]",
      "text/plain": [
       "<Figure size 640x480 with 2 Axes>"
      ]
     },
     "metadata": {},
     "output_type": "display_data"
    }
   ],
   "source": [
    "m, n = 100, 50\n",
    "A = 2 * np.random.rand(m,n) - 1\n",
    "U,S,Vh = np.linalg.svd(A, full_matrices=False)\n",
    "\n",
    "plt.subplot(121)\n",
    "plt.plot(S,'o')\n",
    "plt.xlabel('j')\n",
    "plt.title('$\\\\sigma_j$')\n",
    "\n",
    "plt.subplot(122)\n",
    "plt.plot(S/S[0],'o')\n",
    "plt.xlabel('j')\n",
    "plt.title('$\\\\sigma_j/\\\\sigma_1$');"
   ]
  },
  {
   "cell_type": "markdown",
   "id": "8bbc5210-ab24-41f6-bf74-541c13d8eca6",
   "metadata": {},
   "source": [
    "All singular values are of very similar size."
   ]
  }
 ],
 "metadata": {
  "kernelspec": {
   "display_name": "Python 3 (ipykernel)",
   "language": "python",
   "name": "python3"
  },
  "language_info": {
   "codemirror_mode": {
    "name": "ipython",
    "version": 3
   },
   "file_extension": ".py",
   "mimetype": "text/x-python",
   "name": "python",
   "nbconvert_exporter": "python",
   "pygments_lexer": "ipython3",
   "version": "3.10.8"
  }
 },
 "nbformat": 4,
 "nbformat_minor": 5
}
