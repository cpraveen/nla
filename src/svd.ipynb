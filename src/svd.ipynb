{
 "cells": [
  {
   "cell_type": "markdown",
   "id": "29bafe28-9459-4330-ad2d-4b3735dc154a",
   "metadata": {},
   "source": [
    "# Singular value decomposition\n",
    "\n",
    "The SVD of a $m \\times n$ matrix $A$ is\n",
    "\n",
    "$$\n",
    "A = U \\Sigma V^\\star\n",
    "$$\n",
    "\n",
    "We use [numpy.linalg.svd](https://numpy.org/doc/stable/reference/generated/numpy.linalg.svd.html) or [scipy.linalg.svd](https://docs.scipy.org/doc/scipy/reference/generated/scipy.linalg.svd.html) to compute this. Below we use numpy."
   ]
  },
  {
   "cell_type": "code",
   "execution_count": 10,
   "id": "59a29901-933c-4c7d-9de0-fbad49067886",
   "metadata": {},
   "outputs": [],
   "source": [
    "import numpy as np"
   ]
  },
  {
   "cell_type": "markdown",
   "id": "d9484e6e-be2e-4679-a05e-1c5aaccb150d",
   "metadata": {},
   "source": [
    "Construct a random $3 \\times 2$ matrix."
   ]
  },
  {
   "cell_type": "code",
   "execution_count": 11,
   "id": "02cf2b24-0026-4c64-be73-42ba15efeaf6",
   "metadata": {},
   "outputs": [],
   "source": [
    "A = 2 * np.random.rand(3,2) - 1"
   ]
  },
  {
   "cell_type": "markdown",
   "id": "5b888eb2-ee28-464d-9404-9f72f0de0460",
   "metadata": {},
   "source": [
    "## Reduced SVD\n",
    "\n",
    "The reduced SVD is given by\n",
    "\n",
    "```\n",
    "U,S,Vh = np.linalg.svd(A, full_matrices=False)\n",
    "```\n",
    "\n",
    "The function returns the $\\textrm{Vh} = V^\\star$.\n",
    "\n",
    "The singular vectors and values are given by\n",
    "\n",
    "$$\n",
    "u_j = \\textrm{U[:,j]}, \\qquad 0 \\le j < n\n",
    "$$\n",
    "\n",
    "$$\n",
    "v_j = \\textrm{Vh[j,:]}, \\qquad 0 \\le j < n\n",
    "$$\n",
    "\n",
    "$$\n",
    "\\sigma_j = \\textrm{S[j]}, \\qquad 0 \\le j < n\n",
    "$$"
   ]
  },
  {
   "cell_type": "code",
   "execution_count": 12,
   "id": "2d4064e9-dc1e-4de3-87b4-08d6fa4bdfae",
   "metadata": {},
   "outputs": [
    {
     "name": "stdout",
     "output_type": "stream",
     "text": [
      "U = \n",
      " [[-0.05242745  0.42378567]\n",
      " [ 0.82647453 -0.48983746]\n",
      " [-0.56052762 -0.76188251]]\n",
      "sigma =  1.3043405743518146 0.5653402691737763\n",
      "V = \n",
      " [[-0.96593836 -0.25877227]\n",
      " [-0.25877227  0.96593836]]\n"
     ]
    }
   ],
   "source": [
    "U,S,Vh = np.linalg.svd(A, full_matrices=False)\n",
    "print('U = \\n', U)\n",
    "print('sigma = ', *S)\n",
    "print('V = \\n', Vh.T)"
   ]
  },
  {
   "cell_type": "markdown",
   "id": "6ddfa1ec-997d-418c-9a57-b7198d7caf54",
   "metadata": {},
   "source": [
    "$U$ is $m \\times n$ and $V$ is $n \\times n$."
   ]
  },
  {
   "cell_type": "markdown",
   "id": "756ce453-70a4-4e7d-82cb-32a0984b3816",
   "metadata": {},
   "source": [
    "## Full SVD\n",
    "\n",
    "The full SVD is given by\n",
    "\n",
    "```\n",
    "U,S,Vh = np.linalg.svd(A, full_matrices=True)\n",
    "```\n",
    "\n",
    "The singular vectors and values are given by\n",
    "\n",
    "$$\n",
    "u_j = \\textrm{U[:,j]}, \\qquad 0 \\le j < m\n",
    "$$\n",
    "\n",
    "$$\n",
    "v_j = \\textrm{Vh[j,:]}, \\qquad 0 \\le j < n\n",
    "$$\n",
    "\n",
    "$$\n",
    "\\sigma_j = \\textrm{S[j]}, \\qquad 0 \\le j < n\n",
    "$$"
   ]
  },
  {
   "cell_type": "code",
   "execution_count": 15,
   "id": "954582c2-9cf4-48f6-9145-896ed2cfceac",
   "metadata": {},
   "outputs": [
    {
     "name": "stdout",
     "output_type": "stream",
     "text": [
      "U = \n",
      " [[-0.05242745  0.42378567 -0.90424392]\n",
      " [ 0.82647453 -0.48983746 -0.27748714]\n",
      " [-0.56052762 -0.76188251 -0.32456713]]\n",
      "sigma =  1.3043405743518146 0.5653402691737763\n",
      "V = \n",
      " [[-0.96593836 -0.25877227]\n",
      " [-0.25877227  0.96593836]]\n"
     ]
    }
   ],
   "source": [
    "U,S,Vh = np.linalg.svd(A, full_matrices=True)\n",
    "print('U = \\n', U)\n",
    "print('sigma = ', *S)\n",
    "print('V = \\n', Vh.T)"
   ]
  },
  {
   "cell_type": "markdown",
   "id": "57f48c99-f0cf-45c5-8313-9ecbbb61d56a",
   "metadata": {},
   "source": [
    "$U$ is $m \\times m$ and $V$ is $n \\times n$."
   ]
  }
 ],
 "metadata": {
  "kernelspec": {
   "display_name": "Python 3 (ipykernel)",
   "language": "python",
   "name": "python3"
  },
  "language_info": {
   "codemirror_mode": {
    "name": "ipython",
    "version": 3
   },
   "file_extension": ".py",
   "mimetype": "text/x-python",
   "name": "python",
   "nbconvert_exporter": "python",
   "pygments_lexer": "ipython3",
   "version": "3.10.8"
  }
 },
 "nbformat": 4,
 "nbformat_minor": 5
}
