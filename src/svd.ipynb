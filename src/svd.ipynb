{
 "cells": [
  {
   "cell_type": "markdown",
   "id": "29bafe28-9459-4330-ad2d-4b3735dc154a",
   "metadata": {},
   "source": [
    "# Singular value decomposition\n",
    "\n",
    "The SVD of a $m \\times n$ matrix $A$ is\n",
    "\n",
    "$$\n",
    "A = U \\Sigma V^\\star\n",
    "$$\n",
    "\n",
    "We use [numpy.linalg.svd](https://numpy.org/doc/stable/reference/generated/numpy.linalg.svd.html) or [scipy.linalg.svd](https://docs.scipy.org/doc/scipy/reference/generated/scipy.linalg.svd.html) to compute this. Below we use numpy."
   ]
  },
  {
   "cell_type": "code",
   "execution_count": 16,
   "id": "59a29901-933c-4c7d-9de0-fbad49067886",
   "metadata": {},
   "outputs": [],
   "source": [
    "import numpy as np"
   ]
  },
  {
   "cell_type": "markdown",
   "id": "d9484e6e-be2e-4679-a05e-1c5aaccb150d",
   "metadata": {},
   "source": [
    "Construct a random $3 \\times 2$ matrix."
   ]
  },
  {
   "cell_type": "code",
   "execution_count": 17,
   "id": "02cf2b24-0026-4c64-be73-42ba15efeaf6",
   "metadata": {},
   "outputs": [],
   "source": [
    "A = 2 * np.random.rand(3,2) - 1"
   ]
  },
  {
   "cell_type": "markdown",
   "id": "5b888eb2-ee28-464d-9404-9f72f0de0460",
   "metadata": {},
   "source": [
    "## Reduced SVD\n",
    "\n",
    "The reduced SVD is given by\n",
    "\n",
    "```\n",
    "U,S,Vh = np.linalg.svd(A, full_matrices=False)\n",
    "```\n",
    "\n",
    "The function returns the $\\textrm{Vh} = V^\\star$.\n",
    "\n",
    "The singular vectors and values are given by\n",
    "\n",
    "$$\n",
    "u_j = \\textrm{U[:,j]}, \\qquad 0 \\le j < n\n",
    "$$\n",
    "\n",
    "$$\n",
    "v_j = \\textrm{Vh[j,:]}, \\qquad 0 \\le j < n\n",
    "$$\n",
    "\n",
    "$$\n",
    "\\sigma_j = \\textrm{S[j]}, \\qquad 0 \\le j < n\n",
    "$$"
   ]
  },
  {
   "cell_type": "code",
   "execution_count": 18,
   "id": "2d4064e9-dc1e-4de3-87b4-08d6fa4bdfae",
   "metadata": {},
   "outputs": [
    {
     "name": "stdout",
     "output_type": "stream",
     "text": [
      "U = \n",
      " [[-0.21671993  0.93354606]\n",
      " [-0.61699789  0.09567315]\n",
      " [ 0.75653558  0.3454539 ]]\n",
      "sigma =  1.7089575424847805 0.28986156370423594\n",
      "V = \n",
      " [[ 0.69502575 -0.71898484]\n",
      " [-0.71898484 -0.69502575]]\n"
     ]
    }
   ],
   "source": [
    "U,S,Vh = np.linalg.svd(A, full_matrices=False)\n",
    "print('U = \\n', U)\n",
    "print('sigma = ', *S)\n",
    "print('V = \\n', Vh.T)"
   ]
  },
  {
   "cell_type": "markdown",
   "id": "6ddfa1ec-997d-418c-9a57-b7198d7caf54",
   "metadata": {},
   "source": [
    "$U$ is $m \\times n$ and $V$ is $n \\times n$."
   ]
  },
  {
   "cell_type": "markdown",
   "id": "756ce453-70a4-4e7d-82cb-32a0984b3816",
   "metadata": {},
   "source": [
    "## Full SVD\n",
    "\n",
    "The full SVD is given by\n",
    "\n",
    "```\n",
    "U,S,Vh = np.linalg.svd(A, full_matrices=True)\n",
    "```\n",
    "\n",
    "The singular vectors and values are given by\n",
    "\n",
    "$$\n",
    "u_j = \\textrm{U[:,j]}, \\qquad 0 \\le j < m\n",
    "$$\n",
    "\n",
    "$$\n",
    "v_j = \\textrm{Vh[j,:]}, \\qquad 0 \\le j < n\n",
    "$$\n",
    "\n",
    "$$\n",
    "\\sigma_j = \\textrm{S[j]}, \\qquad 0 \\le j < n\n",
    "$$"
   ]
  },
  {
   "cell_type": "code",
   "execution_count": 19,
   "id": "954582c2-9cf4-48f6-9145-896ed2cfceac",
   "metadata": {},
   "outputs": [
    {
     "name": "stdout",
     "output_type": "stream",
     "text": [
      "U = \n",
      " [[-0.21671993  0.93354606 -0.28552447]\n",
      " [-0.61699789  0.09567315  0.78112755]\n",
      " [ 0.75653558  0.3454539   0.55526167]]\n",
      "sigma =  1.7089575424847805 0.28986156370423594\n",
      "V = \n",
      " [[ 0.69502575 -0.71898484]\n",
      " [-0.71898484 -0.69502575]]\n"
     ]
    }
   ],
   "source": [
    "U,S,Vh = np.linalg.svd(A, full_matrices=True)\n",
    "print('U = \\n', U)\n",
    "print('sigma = ', *S)\n",
    "print('V = \\n', Vh.T)"
   ]
  },
  {
   "cell_type": "markdown",
   "id": "57f48c99-f0cf-45c5-8313-9ecbbb61d56a",
   "metadata": {},
   "source": [
    "$U$ is $m \\times m$ and $V$ is $n \\times n$."
   ]
  },
  {
   "cell_type": "markdown",
   "id": "de2e01d8-4b2d-4361-afa8-492e3538c026",
   "metadata": {},
   "source": [
    "## Rank deficient case\n",
    "\n",
    "Construct a random $4 \\times 3$ matrix whose last column is sum of first two columns. Its rank is 2."
   ]
  },
  {
   "cell_type": "code",
   "execution_count": 20,
   "id": "1d36fff6-bb71-4881-8e31-bab6aba44fb8",
   "metadata": {},
   "outputs": [],
   "source": [
    "A = 2 * np.random.rand(4,3) - 1\n",
    "A[:,2] = A[:,0] + A[:,1]"
   ]
  },
  {
   "cell_type": "markdown",
   "id": "588d50ac-24fb-4f12-b118-86adc61c5c20",
   "metadata": {},
   "source": [
    "Compute the reduced SVD"
   ]
  },
  {
   "cell_type": "code",
   "execution_count": 21,
   "id": "97832fb4-a15b-4c3d-ba63-5b4a47b20c6c",
   "metadata": {},
   "outputs": [
    {
     "name": "stdout",
     "output_type": "stream",
     "text": [
      "U = \n",
      " [[-0.77917876 -0.11014872 -0.48757047]\n",
      " [ 0.29934452 -0.83540078  0.06439926]\n",
      " [ 0.47840435  0.48116799 -0.39076192]\n",
      " [-0.2727684   0.24176468  0.77809568]]\n",
      "sigma =  2.9491932894112627 0.8854830887185966 1.2006599845361527e-16\n",
      "V = \n",
      " [[ 0.38085711  0.72222886 -0.57735027]\n",
      " [ 0.43503998 -0.69094637 -0.57735027]\n",
      " [ 0.8158971   0.03128249  0.57735027]]\n"
     ]
    }
   ],
   "source": [
    "U,S,Vh = np.linalg.svd(A, full_matrices=False)\n",
    "print('U = \\n', U)\n",
    "print('sigma = ', *S)\n",
    "print('V = \\n', Vh.T)"
   ]
  },
  {
   "cell_type": "markdown",
   "id": "e8955be3-14df-47e3-ae0a-7224cef84b0b",
   "metadata": {},
   "source": [
    "We notice that one out of three singular values is zero. The number of non-zero singular values corresponds to the rank of the matrix."
   ]
  }
 ],
 "metadata": {
  "kernelspec": {
   "display_name": "Python 3 (ipykernel)",
   "language": "python",
   "name": "python3"
  },
  "language_info": {
   "codemirror_mode": {
    "name": "ipython",
    "version": 3
   },
   "file_extension": ".py",
   "mimetype": "text/x-python",
   "name": "python",
   "nbconvert_exporter": "python",
   "pygments_lexer": "ipython3",
   "version": "3.10.8"
  }
 },
 "nbformat": 4,
 "nbformat_minor": 5
}
