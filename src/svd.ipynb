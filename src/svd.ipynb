{
 "cells": [
  {
   "cell_type": "markdown",
   "id": "29bafe28-9459-4330-ad2d-4b3735dc154a",
   "metadata": {},
   "source": [
    "# Singular value decomposition\n",
    "\n",
    "The SVD of a $m \\times n$ matrix $A$ is\n",
    "\n",
    "$$\n",
    "A = U \\Sigma V^\\star\n",
    "$$\n",
    "\n",
    "We use [numpy.linalg.svd](https://numpy.org/doc/stable/reference/generated/numpy.linalg.svd.html) or [scipy.linalg.svd](https://docs.scipy.org/doc/scipy/reference/generated/scipy.linalg.svd.html) to compute this. Below we use numpy."
   ]
  },
  {
   "cell_type": "code",
   "execution_count": 1,
   "id": "59a29901-933c-4c7d-9de0-fbad49067886",
   "metadata": {},
   "outputs": [],
   "source": [
    "import numpy as np"
   ]
  },
  {
   "cell_type": "markdown",
   "id": "d9484e6e-be2e-4679-a05e-1c5aaccb150d",
   "metadata": {},
   "source": [
    "Construct a random $3 \\times 2$ matrix."
   ]
  },
  {
   "cell_type": "code",
   "execution_count": 2,
   "id": "02cf2b24-0026-4c64-be73-42ba15efeaf6",
   "metadata": {},
   "outputs": [],
   "source": [
    "A = 2 * np.random.rand(3,2) - 1"
   ]
  },
  {
   "cell_type": "markdown",
   "id": "5b888eb2-ee28-464d-9404-9f72f0de0460",
   "metadata": {},
   "source": [
    "## Reduced SVD\n",
    "\n",
    "The reduced SVD is given by\n",
    "\n",
    "```\n",
    "U,S,Vh = np.linalg.svd(A, full_matrices=False)\n",
    "```\n",
    "\n",
    "The function returns $\\textrm{Vh} = V^\\star$.\n",
    "\n",
    "The singular vectors and values are given by\n",
    "\n",
    "\\begin{align*}\n",
    "u_j &= \\textrm{U[:,j]}, & 0 \\le j < n \\\\\n",
    "v_j &= \\textrm{Vh[j,:]}, & 0 \\le j < n \\\\\n",
    "\\sigma_j &= \\textrm{S[j]}, & 0 \\le j < n\n",
    "\\end{align*}"
   ]
  },
  {
   "cell_type": "code",
   "execution_count": 3,
   "id": "2d4064e9-dc1e-4de3-87b4-08d6fa4bdfae",
   "metadata": {},
   "outputs": [
    {
     "name": "stdout",
     "output_type": "stream",
     "text": [
      "U = \n",
      " [[-0.73230062  0.58725142]\n",
      " [-0.134568   -0.6211028 ]\n",
      " [ 0.66755319  0.51900585]]\n",
      "sigma =  1.2456940406735095 0.6197107111257151\n",
      "V = \n",
      " [[-0.9958988  -0.09047417]\n",
      " [ 0.09047417 -0.9958988 ]]\n"
     ]
    }
   ],
   "source": [
    "U,S,Vh = np.linalg.svd(A, full_matrices=False)\n",
    "print('U = \\n', U)\n",
    "print('sigma = ', *S)\n",
    "print('V = \\n', Vh.T)"
   ]
  },
  {
   "cell_type": "markdown",
   "id": "6ddfa1ec-997d-418c-9a57-b7198d7caf54",
   "metadata": {},
   "source": [
    "$U$ is $m \\times n$ and $V$ is $n \\times n$."
   ]
  },
  {
   "cell_type": "markdown",
   "id": "756ce453-70a4-4e7d-82cb-32a0984b3816",
   "metadata": {},
   "source": [
    "## Full SVD\n",
    "\n",
    "The full SVD is given by\n",
    "\n",
    "```\n",
    "U,S,Vh = np.linalg.svd(A, full_matrices=True)\n",
    "```\n",
    "\n",
    "The singular vectors and values are given by\n",
    "\n",
    "\\begin{align*}\n",
    "u_j &= \\textrm{U[:,j]}, & 0 \\le j < m \\\\\n",
    "v_j &= \\textrm{Vh[j,:]}, & 0 \\le j < n \\\\\n",
    "\\sigma_j &= \\textrm{S[j]}, & 0 \\le j < n\n",
    "\\end{align*}"
   ]
  },
  {
   "cell_type": "code",
   "execution_count": 4,
   "id": "954582c2-9cf4-48f6-9145-896ed2cfceac",
   "metadata": {},
   "outputs": [
    {
     "name": "stdout",
     "output_type": "stream",
     "text": [
      "U = \n",
      " [[-0.73230062  0.58725142  0.34477758]\n",
      " [-0.134568   -0.6211028   0.77208986]\n",
      " [ 0.66755319  0.51900585  0.53385922]]\n",
      "sigma =  1.2456940406735095 0.6197107111257151\n",
      "V = \n",
      " [[-0.9958988  -0.09047417]\n",
      " [ 0.09047417 -0.9958988 ]]\n"
     ]
    }
   ],
   "source": [
    "U,S,Vh = np.linalg.svd(A, full_matrices=True)\n",
    "print('U = \\n', U)\n",
    "print('sigma = ', *S)\n",
    "print('V = \\n', Vh.T)"
   ]
  },
  {
   "cell_type": "markdown",
   "id": "57f48c99-f0cf-45c5-8313-9ecbbb61d56a",
   "metadata": {},
   "source": [
    "$U$ is $m \\times m$ and $V$ is $n \\times n$."
   ]
  },
  {
   "cell_type": "markdown",
   "id": "de2e01d8-4b2d-4361-afa8-492e3538c026",
   "metadata": {},
   "source": [
    "## Rank deficient case\n",
    "\n",
    "Construct a random $4 \\times 3$ matrix whose last column is sum of first two columns. Its rank is 2."
   ]
  },
  {
   "cell_type": "code",
   "execution_count": 5,
   "id": "1d36fff6-bb71-4881-8e31-bab6aba44fb8",
   "metadata": {},
   "outputs": [],
   "source": [
    "A = 2 * np.random.rand(4,3) - 1\n",
    "A[:,2] = A[:,0] + A[:,1]"
   ]
  },
  {
   "cell_type": "markdown",
   "id": "588d50ac-24fb-4f12-b118-86adc61c5c20",
   "metadata": {},
   "source": [
    "Compute the reduced SVD"
   ]
  },
  {
   "cell_type": "code",
   "execution_count": 6,
   "id": "97832fb4-a15b-4c3d-ba63-5b4a47b20c6c",
   "metadata": {},
   "outputs": [
    {
     "name": "stdout",
     "output_type": "stream",
     "text": [
      "U = \n",
      " [[ 0.03907547  0.12867712 -0.52711324]\n",
      " [-0.28494964 -0.87203441  0.25384707]\n",
      " [ 0.95751292 -0.27325583  0.07925634]\n",
      " [ 0.02111459  0.38513562  0.80711321]]\n",
      "sigma =  1.9861259715664707 1.069905056712703 7.548716289322322e-18\n",
      "V = \n",
      " [[ 0.25551336 -0.77548668 -0.57735027]\n",
      " [ 0.54383448  0.6090244  -0.57735027]\n",
      " [ 0.79934785 -0.16646228  0.57735027]]\n"
     ]
    }
   ],
   "source": [
    "U,S,Vh = np.linalg.svd(A, full_matrices=False)\n",
    "print('U = \\n', U)\n",
    "print('sigma = ', *S)\n",
    "print('V = \\n', Vh.T)"
   ]
  },
  {
   "cell_type": "markdown",
   "id": "e8955be3-14df-47e3-ae0a-7224cef84b0b",
   "metadata": {},
   "source": [
    "We notice that one out of three singular values is zero. The number of non-zero singular values corresponds to the rank of the matrix."
   ]
  }
 ],
 "metadata": {
  "kernelspec": {
   "display_name": "Python 3 (ipykernel)",
   "language": "python",
   "name": "python3"
  },
  "language_info": {
   "codemirror_mode": {
    "name": "ipython",
    "version": 3
   },
   "file_extension": ".py",
   "mimetype": "text/x-python",
   "name": "python",
   "nbconvert_exporter": "python",
   "pygments_lexer": "ipython3",
   "version": "3.10.8"
  }
 },
 "nbformat": 4,
 "nbformat_minor": 5
}
