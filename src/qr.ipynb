{
 "cells": [
  {
   "cell_type": "markdown",
   "id": "0bb8950c",
   "metadata": {},
   "source": [
    "$\\newcommand{\\re}{\\mathbb{R}}$\n",
    "# QR factorization\n",
    "Given $A \\in \\re^{m \\times n}$ with $m \\ge n$ and $rank(A)=n$, we want to write it as\n",
    "\n",
    "$$\n",
    "A = Q R\n",
    "$$\n",
    "\n",
    "where $Q$ has orthonormal columns, $Q^\\top Q = I_{n \\times n}$ and $R$ is upper triangular matrix."
   ]
  },
  {
   "cell_type": "code",
   "execution_count": 19,
   "id": "84ea0ec9",
   "metadata": {},
   "outputs": [],
   "source": [
    "%config InlineBackend.figure_format = 'svg'\n",
    "import numpy as np\n",
    "import matplotlib.pyplot as plt"
   ]
  },
  {
   "cell_type": "markdown",
   "id": "c4aa6138",
   "metadata": {},
   "source": [
    "## Classical Gram-Schmidt algorithm"
   ]
  },
  {
   "cell_type": "markdown",
   "id": "6e6b3c46",
   "metadata": {},
   "source": [
    "We now implement the Gram-Schmidt algorithm."
   ]
  },
  {
   "cell_type": "code",
   "execution_count": 20,
   "id": "3b974c01",
   "metadata": {},
   "outputs": [],
   "source": [
    "def clgs(A):\n",
    "    m, n = A.shape\n",
    "    Q, R = np.empty((m,n)), np.zeros((n,n))\n",
    "    for j in range(n):\n",
    "        v = A[:,j]\n",
    "        for i in range(j):\n",
    "            R[i,j] = Q[:,i].dot(A[:,j])\n",
    "            v = v - R[i,j] * Q[:,i]\n",
    "        R[j,j] = np.linalg.norm(v)\n",
    "        Q[:,j] = v / R[j,j]\n",
    "    return Q, R"
   ]
  },
  {
   "cell_type": "markdown",
   "id": "597840cf",
   "metadata": {},
   "source": [
    "Generate a random matrix and compute the decomposition"
   ]
  },
  {
   "cell_type": "code",
   "execution_count": 21,
   "id": "0128c75f",
   "metadata": {},
   "outputs": [],
   "source": [
    "m, n = 10, 5\n",
    "A = 2 * np.random.rand(m,n) - 1\n",
    "Q, R = clgs(A)"
   ]
  },
  {
   "cell_type": "markdown",
   "id": "492873d8",
   "metadata": {},
   "source": [
    "Test that $A = Q R$ is satisfied, compute $\\| A - Q R \\|$"
   ]
  },
  {
   "cell_type": "code",
   "execution_count": 22,
   "id": "d1bce2ed",
   "metadata": {
    "scrolled": false
   },
   "outputs": [
    {
     "data": {
      "text/plain": [
       "3.0969551373968003e-16"
      ]
     },
     "execution_count": 22,
     "metadata": {},
     "output_type": "execute_result"
    }
   ],
   "source": [
    "np.linalg.norm(A - Q @ R)"
   ]
  },
  {
   "cell_type": "markdown",
   "id": "953b3bfa",
   "metadata": {},
   "source": [
    "Are the columns of $Q$ orthonormal, i.e., $Q^\\top Q = I_{n\\times n}$ ? We compute $\\| Q^\\top Q - I_{n \\times n}\\|$"
   ]
  },
  {
   "cell_type": "code",
   "execution_count": 23,
   "id": "9b4e4524",
   "metadata": {},
   "outputs": [
    {
     "data": {
      "text/plain": [
       "1.0273136727759103e-15"
      ]
     },
     "execution_count": 23,
     "metadata": {},
     "output_type": "execute_result"
    }
   ],
   "source": [
    "np.linalg.norm(Q.T @ Q - np.eye(n))"
   ]
  },
  {
   "cell_type": "markdown",
   "id": "2c7a772a",
   "metadata": {},
   "source": [
    "## Modified Gram-Schmidt\n",
    "\n",
    "We now implement the modified Gram-Schmidt algorithm."
   ]
  },
  {
   "cell_type": "code",
   "execution_count": 24,
   "id": "d246e594",
   "metadata": {},
   "outputs": [],
   "source": [
    "def mgs(A):\n",
    "    m, n = A.shape\n",
    "    V = A.copy()\n",
    "    Q, R = np.empty((m,n)), np.zeros((n,n))\n",
    "    for i in range(n):\n",
    "        R[i,i] = np.linalg.norm(V[:,i])\n",
    "        Q[:,i] = V[:,i] / R[i,i]\n",
    "        for j in range(i+1,n):\n",
    "            R[i,j] = Q[:,i].dot(V[:,j])\n",
    "            V[:,j] = V[:,j] - R[i,j] * Q[:,i]\n",
    "    return Q, R"
   ]
  },
  {
   "cell_type": "markdown",
   "id": "786c9896",
   "metadata": {},
   "source": [
    "Let us test it following similar approach as above."
   ]
  },
  {
   "cell_type": "code",
   "execution_count": 25,
   "id": "1909cd1d",
   "metadata": {},
   "outputs": [],
   "source": [
    "Q, R = mgs(A)"
   ]
  },
  {
   "cell_type": "markdown",
   "id": "909a53b1",
   "metadata": {},
   "source": [
    "Test that $A = Q R$ is satisfied, compute $\\| A - Q R \\|$"
   ]
  },
  {
   "cell_type": "code",
   "execution_count": 26,
   "id": "73ee47ca",
   "metadata": {
    "scrolled": false
   },
   "outputs": [
    {
     "data": {
      "text/plain": [
       "3.6088919696935627e-16"
      ]
     },
     "execution_count": 26,
     "metadata": {},
     "output_type": "execute_result"
    }
   ],
   "source": [
    "np.linalg.norm(A - Q @ R)"
   ]
  },
  {
   "cell_type": "markdown",
   "id": "9730223d",
   "metadata": {},
   "source": [
    "Are the columns of $Q$ orthonormal, i.e., $Q^\\top Q = I_{n\\times n}$ ? We compute $\\| Q^\\top Q - I_{n \\times n}\\|$"
   ]
  },
  {
   "cell_type": "code",
   "execution_count": 27,
   "id": "049e6630",
   "metadata": {},
   "outputs": [
    {
     "data": {
      "text/plain": [
       "6.618759527634268e-16"
      ]
     },
     "execution_count": 27,
     "metadata": {},
     "output_type": "execute_result"
    }
   ],
   "source": [
    "np.linalg.norm(Q.T @ Q - np.eye(n))"
   ]
  },
  {
   "cell_type": "markdown",
   "id": "064ff0b3",
   "metadata": {},
   "source": [
    "## Comparing the two algorithms"
   ]
  },
  {
   "cell_type": "markdown",
   "id": "fb211c8d",
   "metadata": {},
   "source": [
    "Generate random unitary matrices"
   ]
  },
  {
   "cell_type": "code",
   "execution_count": 28,
   "id": "5e99d69b",
   "metadata": {},
   "outputs": [],
   "source": [
    "U, X = np.linalg.qr(np.random.rand(80,80))\n",
    "V, X = np.linalg.qr(np.random.rand(80,80))\n",
    "S = np.diag(2.0**np.arange(-1,-81,-1))\n",
    "A = U @ S @ V"
   ]
  },
  {
   "cell_type": "code",
   "execution_count": 29,
   "id": "6747aa38",
   "metadata": {},
   "outputs": [],
   "source": [
    "Qc, Rc = clgs(A)\n",
    "Qm, Rm = mgs(A)"
   ]
  },
  {
   "cell_type": "code",
   "execution_count": 30,
   "id": "cc02e42b",
   "metadata": {},
   "outputs": [
    {
     "data": {
      "image/svg+xml": "<?xml version=\"1.0\" encoding=\"utf-8\" standalone=\"no\"?>\n<!DOCTYPE svg PUBLIC \"-//W3C//DTD SVG 1.1//EN\"\n  \"http://www.w3.org/Graphics/SVG/1.1/DTD/svg11.dtd\">\n<svg xmlns:xlink=\"http://www.w3.org/1999/xlink\" width=\"453.6pt\" height=\"338.4pt\" viewBox=\"0 0 453.6 338.4\" xmlns=\"http://www.w3.org/2000/svg\" version=\"1.1\">\n <metadata>\n  <rdf:RDF xmlns:dc=\"http://purl.org/dc/elements/1.1/\" xmlns:cc=\"http://creativecommons.org/ns#\" xmlns:rdf=\"http://www.w3.org/1999/02/22-rdf-syntax-ns#\">\n   <cc:Work>\n    <dc:type rdf:resource=\"http://purl.org/dc/dcmitype/StillImage\"/>\n    <dc:date>2022-11-08T11:33:21.254148</dc:date>\n    <dc:format>image/svg+xml</dc:format>\n    <dc:creator>\n     <cc:Agent>\n      <dc:title>Matplotlib v3.6.1, https://matplotlib.org/</dc:title>\n     </cc:Agent>\n    </dc:creator>\n   </cc:Work>\n  </rdf:RDF>\n </metadata>\n <defs>\n  <style type=\"text/css\">*{stroke-linejoin: round; stroke-linecap: butt}</style>\n </defs>\n <g id=\"figure_1\">\n  <g id=\"patch_1\">\n   <path d=\"M 0 338.4 \nL 453.6 338.4 \nL 453.6 0 \nL 0 0 \nz\n\" style=\"fill: #ffffff\"/>\n  </g>\n  <g id=\"axes_1\">\n   <g id=\"patch_2\">\n    <path d=\"M 55.778125 300.84375 \nL 446.4 300.84375 \nL 446.4 22.318125 \nL 55.778125 22.318125 \nz\n\" style=\"fill: #ffffff\"/>\n   </g>\n   <g id=\"matplotlib.axis_1\">\n    <g id=\"xtick_1\">\n     <g id=\"line2d_1\">\n      <path d=\"M 73.533665 300.84375 \nL 73.533665 22.318125 \n\" clip-path=\"url(#pf8ca69ed65)\" style=\"fill: none; stroke: #b0b0b0; stroke-width: 0.8; stroke-linecap: square\"/>\n     </g>\n     <g id=\"line2d_2\">\n      <defs>\n       <path id=\"m07854ef19f\" d=\"M 0 0 \nL 0 3.5 \n\" style=\"stroke: #000000; stroke-width: 0.8\"/>\n      </defs>\n      <g>\n       <use xlink:href=\"#m07854ef19f\" x=\"73.533665\" y=\"300.84375\" style=\"stroke: #000000; stroke-width: 0.8\"/>\n      </g>\n     </g>\n     <g id=\"text_1\">\n      <!-- 0 -->\n      <g transform=\"translate(70.352415 315.442187) scale(0.1 -0.1)\">\n       <defs>\n        <path id=\"DejaVuSerif-30\" d=\"M 2034 219 \nQ 2513 219 2750 744 \nQ 2988 1269 2988 2328 \nQ 2988 3391 2750 3916 \nQ 2513 4441 2034 4441 \nQ 1556 4441 1318 3916 \nQ 1081 3391 1081 2328 \nQ 1081 1269 1318 744 \nQ 1556 219 2034 219 \nz\nM 2034 -91 \nQ 1275 -91 848 546 \nQ 422 1184 422 2328 \nQ 422 3475 848 4112 \nQ 1275 4750 2034 4750 \nQ 2797 4750 3222 4112 \nQ 3647 3475 3647 2328 \nQ 3647 1184 3222 546 \nQ 2797 -91 2034 -91 \nz\n\" transform=\"scale(0.015625)\"/>\n       </defs>\n       <use xlink:href=\"#DejaVuSerif-30\"/>\n      </g>\n     </g>\n    </g>\n    <g id=\"xtick_2\">\n     <g id=\"line2d_3\">\n      <path d=\"M 118.484398 300.84375 \nL 118.484398 22.318125 \n\" clip-path=\"url(#pf8ca69ed65)\" style=\"fill: none; stroke: #b0b0b0; stroke-width: 0.8; stroke-linecap: square\"/>\n     </g>\n     <g id=\"line2d_4\">\n      <g>\n       <use xlink:href=\"#m07854ef19f\" x=\"118.484398\" y=\"300.84375\" style=\"stroke: #000000; stroke-width: 0.8\"/>\n      </g>\n     </g>\n     <g id=\"text_2\">\n      <!-- 10 -->\n      <g transform=\"translate(112.121898 315.442187) scale(0.1 -0.1)\">\n       <defs>\n        <path id=\"DejaVuSerif-31\" d=\"M 909 0 \nL 909 331 \nL 1722 331 \nL 1722 4213 \nL 781 3603 \nL 781 4013 \nL 1919 4750 \nL 2350 4750 \nL 2350 331 \nL 3163 331 \nL 3163 0 \nL 909 0 \nz\n\" transform=\"scale(0.015625)\"/>\n       </defs>\n       <use xlink:href=\"#DejaVuSerif-31\"/>\n       <use xlink:href=\"#DejaVuSerif-30\" x=\"63.623047\"/>\n      </g>\n     </g>\n    </g>\n    <g id=\"xtick_3\">\n     <g id=\"line2d_5\">\n      <path d=\"M 163.435132 300.84375 \nL 163.435132 22.318125 \n\" clip-path=\"url(#pf8ca69ed65)\" style=\"fill: none; stroke: #b0b0b0; stroke-width: 0.8; stroke-linecap: square\"/>\n     </g>\n     <g id=\"line2d_6\">\n      <g>\n       <use xlink:href=\"#m07854ef19f\" x=\"163.435132\" y=\"300.84375\" style=\"stroke: #000000; stroke-width: 0.8\"/>\n      </g>\n     </g>\n     <g id=\"text_3\">\n      <!-- 20 -->\n      <g transform=\"translate(157.072632 315.442187) scale(0.1 -0.1)\">\n       <defs>\n        <path id=\"DejaVuSerif-32\" d=\"M 819 3553 \nL 469 3553 \nL 469 4384 \nQ 803 4563 1142 4656 \nQ 1481 4750 1806 4750 \nQ 2534 4750 2956 4397 \nQ 3378 4044 3378 3438 \nQ 3378 2753 2422 1800 \nQ 2347 1728 2309 1691 \nL 1131 513 \nL 3078 513 \nL 3078 1088 \nL 3444 1088 \nL 3444 0 \nL 434 0 \nL 434 341 \nL 1850 1753 \nQ 2319 2222 2519 2614 \nQ 2719 3006 2719 3438 \nQ 2719 3909 2473 4175 \nQ 2228 4441 1797 4441 \nQ 1350 4441 1106 4219 \nQ 863 3997 819 3553 \nz\n\" transform=\"scale(0.015625)\"/>\n       </defs>\n       <use xlink:href=\"#DejaVuSerif-32\"/>\n       <use xlink:href=\"#DejaVuSerif-30\" x=\"63.623047\"/>\n      </g>\n     </g>\n    </g>\n    <g id=\"xtick_4\">\n     <g id=\"line2d_7\">\n      <path d=\"M 208.385866 300.84375 \nL 208.385866 22.318125 \n\" clip-path=\"url(#pf8ca69ed65)\" style=\"fill: none; stroke: #b0b0b0; stroke-width: 0.8; stroke-linecap: square\"/>\n     </g>\n     <g id=\"line2d_8\">\n      <g>\n       <use xlink:href=\"#m07854ef19f\" x=\"208.385866\" y=\"300.84375\" style=\"stroke: #000000; stroke-width: 0.8\"/>\n      </g>\n     </g>\n     <g id=\"text_4\">\n      <!-- 30 -->\n      <g transform=\"translate(202.023366 315.442187) scale(0.1 -0.1)\">\n       <defs>\n        <path id=\"DejaVuSerif-33\" d=\"M 622 4469 \nQ 988 4606 1323 4678 \nQ 1659 4750 1953 4750 \nQ 2638 4750 3022 4454 \nQ 3406 4159 3406 3634 \nQ 3406 3213 3140 2930 \nQ 2875 2647 2388 2547 \nQ 2963 2466 3280 2130 \nQ 3597 1794 3597 1259 \nQ 3597 606 3158 257 \nQ 2719 -91 1894 -91 \nQ 1528 -91 1179 -12 \nQ 831 66 488 225 \nL 488 1131 \nL 838 1131 \nQ 869 681 1141 450 \nQ 1413 219 1906 219 \nQ 2384 219 2661 495 \nQ 2938 772 2938 1253 \nQ 2938 1803 2653 2086 \nQ 2369 2369 1819 2369 \nL 1522 2369 \nL 1522 2688 \nL 1678 2688 \nQ 2225 2688 2498 2914 \nQ 2772 3141 2772 3597 \nQ 2772 4006 2547 4223 \nQ 2322 4441 1900 4441 \nQ 1478 4441 1245 4241 \nQ 1013 4041 972 3647 \nL 622 3647 \nL 622 4469 \nz\n\" transform=\"scale(0.015625)\"/>\n       </defs>\n       <use xlink:href=\"#DejaVuSerif-33\"/>\n       <use xlink:href=\"#DejaVuSerif-30\" x=\"63.623047\"/>\n      </g>\n     </g>\n    </g>\n    <g id=\"xtick_5\">\n     <g id=\"line2d_9\">\n      <path d=\"M 253.336599 300.84375 \nL 253.336599 22.318125 \n\" clip-path=\"url(#pf8ca69ed65)\" style=\"fill: none; stroke: #b0b0b0; stroke-width: 0.8; stroke-linecap: square\"/>\n     </g>\n     <g id=\"line2d_10\">\n      <g>\n       <use xlink:href=\"#m07854ef19f\" x=\"253.336599\" y=\"300.84375\" style=\"stroke: #000000; stroke-width: 0.8\"/>\n      </g>\n     </g>\n     <g id=\"text_5\">\n      <!-- 40 -->\n      <g transform=\"translate(246.974099 315.442187) scale(0.1 -0.1)\">\n       <defs>\n        <path id=\"DejaVuSerif-34\" d=\"M 2234 1581 \nL 2234 4063 \nL 641 1581 \nL 2234 1581 \nz\nM 3609 0 \nL 1484 0 \nL 1484 331 \nL 2234 331 \nL 2234 1247 \nL 197 1247 \nL 197 1588 \nL 2241 4750 \nL 2859 4750 \nL 2859 1581 \nL 3750 1581 \nL 3750 1247 \nL 2859 1247 \nL 2859 331 \nL 3609 331 \nL 3609 0 \nz\n\" transform=\"scale(0.015625)\"/>\n       </defs>\n       <use xlink:href=\"#DejaVuSerif-34\"/>\n       <use xlink:href=\"#DejaVuSerif-30\" x=\"63.623047\"/>\n      </g>\n     </g>\n    </g>\n    <g id=\"xtick_6\">\n     <g id=\"line2d_11\">\n      <path d=\"M 298.287333 300.84375 \nL 298.287333 22.318125 \n\" clip-path=\"url(#pf8ca69ed65)\" style=\"fill: none; stroke: #b0b0b0; stroke-width: 0.8; stroke-linecap: square\"/>\n     </g>\n     <g id=\"line2d_12\">\n      <g>\n       <use xlink:href=\"#m07854ef19f\" x=\"298.287333\" y=\"300.84375\" style=\"stroke: #000000; stroke-width: 0.8\"/>\n      </g>\n     </g>\n     <g id=\"text_6\">\n      <!-- 50 -->\n      <g transform=\"translate(291.924833 315.442187) scale(0.1 -0.1)\">\n       <defs>\n        <path id=\"DejaVuSerif-35\" d=\"M 3219 4666 \nL 3219 4153 \nL 1081 4153 \nL 1081 2816 \nQ 1244 2928 1461 2984 \nQ 1678 3041 1947 3041 \nQ 2703 3041 3140 2622 \nQ 3578 2203 3578 1478 \nQ 3578 738 3136 323 \nQ 2694 -91 1894 -91 \nQ 1572 -91 1234 -12 \nQ 897 66 544 225 \nL 544 1131 \nL 897 1131 \nQ 925 688 1179 453 \nQ 1434 219 1894 219 \nQ 2388 219 2653 544 \nQ 2919 869 2919 1478 \nQ 2919 2084 2655 2407 \nQ 2391 2731 1894 2731 \nQ 1613 2731 1398 2631 \nQ 1184 2531 1019 2322 \nL 750 2322 \nL 750 4666 \nL 3219 4666 \nz\n\" transform=\"scale(0.015625)\"/>\n       </defs>\n       <use xlink:href=\"#DejaVuSerif-35\"/>\n       <use xlink:href=\"#DejaVuSerif-30\" x=\"63.623047\"/>\n      </g>\n     </g>\n    </g>\n    <g id=\"xtick_7\">\n     <g id=\"line2d_13\">\n      <path d=\"M 343.238066 300.84375 \nL 343.238066 22.318125 \n\" clip-path=\"url(#pf8ca69ed65)\" style=\"fill: none; stroke: #b0b0b0; stroke-width: 0.8; stroke-linecap: square\"/>\n     </g>\n     <g id=\"line2d_14\">\n      <g>\n       <use xlink:href=\"#m07854ef19f\" x=\"343.238066\" y=\"300.84375\" style=\"stroke: #000000; stroke-width: 0.8\"/>\n      </g>\n     </g>\n     <g id=\"text_7\">\n      <!-- 60 -->\n      <g transform=\"translate(336.875566 315.442187) scale(0.1 -0.1)\">\n       <defs>\n        <path id=\"DejaVuSerif-36\" d=\"M 2094 219 \nQ 2534 219 2771 542 \nQ 3009 866 3009 1472 \nQ 3009 2078 2771 2401 \nQ 2534 2725 2094 2725 \nQ 1647 2725 1412 2412 \nQ 1178 2100 1178 1509 \nQ 1178 888 1415 553 \nQ 1653 219 2094 219 \nz\nM 1075 2569 \nQ 1288 2803 1556 2918 \nQ 1825 3034 2163 3034 \nQ 2859 3034 3264 2615 \nQ 3669 2197 3669 1472 \nQ 3669 763 3233 336 \nQ 2797 -91 2069 -91 \nQ 1278 -91 853 498 \nQ 428 1088 428 2181 \nQ 428 3406 931 4078 \nQ 1434 4750 2350 4750 \nQ 2597 4750 2869 4703 \nQ 3141 4656 3425 4563 \nL 3425 3794 \nL 3072 3794 \nQ 3034 4109 2831 4275 \nQ 2628 4441 2284 4441 \nQ 1678 4441 1381 3981 \nQ 1084 3522 1075 2569 \nz\n\" transform=\"scale(0.015625)\"/>\n       </defs>\n       <use xlink:href=\"#DejaVuSerif-36\"/>\n       <use xlink:href=\"#DejaVuSerif-30\" x=\"63.623047\"/>\n      </g>\n     </g>\n    </g>\n    <g id=\"xtick_8\">\n     <g id=\"line2d_15\">\n      <path d=\"M 388.1888 300.84375 \nL 388.1888 22.318125 \n\" clip-path=\"url(#pf8ca69ed65)\" style=\"fill: none; stroke: #b0b0b0; stroke-width: 0.8; stroke-linecap: square\"/>\n     </g>\n     <g id=\"line2d_16\">\n      <g>\n       <use xlink:href=\"#m07854ef19f\" x=\"388.1888\" y=\"300.84375\" style=\"stroke: #000000; stroke-width: 0.8\"/>\n      </g>\n     </g>\n     <g id=\"text_8\">\n      <!-- 70 -->\n      <g transform=\"translate(381.8263 315.442187) scale(0.1 -0.1)\">\n       <defs>\n        <path id=\"DejaVuSerif-37\" d=\"M 3609 4347 \nL 1784 0 \nL 1319 0 \nL 3059 4153 \nL 903 4153 \nL 903 3578 \nL 538 3578 \nL 538 4666 \nL 3609 4666 \nL 3609 4347 \nz\n\" transform=\"scale(0.015625)\"/>\n       </defs>\n       <use xlink:href=\"#DejaVuSerif-37\"/>\n       <use xlink:href=\"#DejaVuSerif-30\" x=\"63.623047\"/>\n      </g>\n     </g>\n    </g>\n    <g id=\"xtick_9\">\n     <g id=\"line2d_17\">\n      <path d=\"M 433.139534 300.84375 \nL 433.139534 22.318125 \n\" clip-path=\"url(#pf8ca69ed65)\" style=\"fill: none; stroke: #b0b0b0; stroke-width: 0.8; stroke-linecap: square\"/>\n     </g>\n     <g id=\"line2d_18\">\n      <g>\n       <use xlink:href=\"#m07854ef19f\" x=\"433.139534\" y=\"300.84375\" style=\"stroke: #000000; stroke-width: 0.8\"/>\n      </g>\n     </g>\n     <g id=\"text_9\">\n      <!-- 80 -->\n      <g transform=\"translate(426.777034 315.442187) scale(0.1 -0.1)\">\n       <defs>\n        <path id=\"DejaVuSerif-38\" d=\"M 2981 1275 \nQ 2981 1775 2732 2051 \nQ 2484 2328 2034 2328 \nQ 1584 2328 1336 2051 \nQ 1088 1775 1088 1275 \nQ 1088 772 1336 495 \nQ 1584 219 2034 219 \nQ 2484 219 2732 495 \nQ 2981 772 2981 1275 \nz\nM 2853 3541 \nQ 2853 3966 2637 4203 \nQ 2422 4441 2034 4441 \nQ 1650 4441 1433 4203 \nQ 1216 3966 1216 3541 \nQ 1216 3113 1433 2875 \nQ 1650 2638 2034 2638 \nQ 2422 2638 2637 2875 \nQ 2853 3113 2853 3541 \nz\nM 2516 2484 \nQ 3047 2413 3344 2092 \nQ 3641 1772 3641 1275 \nQ 3641 619 3225 264 \nQ 2809 -91 2034 -91 \nQ 1263 -91 845 264 \nQ 428 619 428 1275 \nQ 428 1772 725 2092 \nQ 1022 2413 1556 2484 \nQ 1084 2569 832 2842 \nQ 581 3116 581 3541 \nQ 581 4103 968 4426 \nQ 1356 4750 2034 4750 \nQ 2713 4750 3100 4426 \nQ 3488 4103 3488 3541 \nQ 3488 3116 3236 2842 \nQ 2984 2569 2516 2484 \nz\n\" transform=\"scale(0.015625)\"/>\n       </defs>\n       <use xlink:href=\"#DejaVuSerif-38\"/>\n       <use xlink:href=\"#DejaVuSerif-30\" x=\"63.623047\"/>\n      </g>\n     </g>\n    </g>\n    <g id=\"text_10\">\n     <!-- j -->\n     <g transform=\"translate(249.539062 328.978125) scale(0.1 -0.1)\">\n      <defs>\n       <path id=\"DejaVuSerif-6a\" d=\"M 641 4353 \nQ 641 4497 745 4603 \nQ 850 4709 997 4709 \nQ 1141 4709 1245 4603 \nQ 1350 4497 1350 4353 \nQ 1350 4206 1248 4103 \nQ 1147 4000 997 4000 \nQ 850 4000 745 4103 \nQ 641 4206 641 4353 \nz\nM 781 2988 \nL 238 2988 \nL 238 3322 \nL 1356 3322 \nL 1356 -325 \nQ 1356 -838 1051 -1130 \nQ 747 -1422 213 -1422 \nQ -13 -1422 -217 -1370 \nQ -422 -1319 -616 -1216 \nL -616 -531 \nL -319 -531 \nQ -297 -831 -164 -972 \nQ -31 -1113 225 -1113 \nQ 509 -1113 645 -920 \nQ 781 -728 781 -325 \nL 781 2988 \nz\n\" transform=\"scale(0.015625)\"/>\n      </defs>\n      <use xlink:href=\"#DejaVuSerif-6a\"/>\n     </g>\n    </g>\n   </g>\n   <g id=\"matplotlib.axis_2\">\n    <g id=\"ytick_1\">\n     <g id=\"line2d_19\">\n      <path d=\"M 55.778125 276.658964 \nL 446.4 276.658964 \n\" clip-path=\"url(#pf8ca69ed65)\" style=\"fill: none; stroke: #b0b0b0; stroke-width: 0.8; stroke-linecap: square\"/>\n     </g>\n     <g id=\"line2d_20\">\n      <defs>\n       <path id=\"m474c4b0df7\" d=\"M 0 0 \nL -3.5 0 \n\" style=\"stroke: #000000; stroke-width: 0.8\"/>\n      </defs>\n      <g>\n       <use xlink:href=\"#m474c4b0df7\" x=\"55.778125\" y=\"276.658964\" style=\"stroke: #000000; stroke-width: 0.8\"/>\n      </g>\n     </g>\n     <g id=\"text_11\">\n      <!-- $\\mathdefault{10^{-23}}$ -->\n      <g transform=\"translate(20.878125 280.458182) scale(0.1 -0.1)\">\n       <defs>\n        <path id=\"DejaVuSerif-2212\" d=\"M 678 2259 \nL 4684 2259 \nL 4684 1753 \nL 678 1753 \nL 678 2259 \nz\n\" transform=\"scale(0.015625)\"/>\n       </defs>\n       <use xlink:href=\"#DejaVuSerif-31\" transform=\"translate(0 0.7125)\"/>\n       <use xlink:href=\"#DejaVuSerif-30\" transform=\"translate(63.623047 0.7125)\"/>\n       <use xlink:href=\"#DejaVuSerif-2212\" transform=\"translate(128.154453 37.046875) scale(0.7)\"/>\n       <use xlink:href=\"#DejaVuSerif-32\" transform=\"translate(186.806797 37.046875) scale(0.7)\"/>\n       <use xlink:href=\"#DejaVuSerif-33\" transform=\"translate(231.34293 37.046875) scale(0.7)\"/>\n      </g>\n     </g>\n    </g>\n    <g id=\"ytick_2\">\n     <g id=\"line2d_21\">\n      <path d=\"M 55.778125 244.717349 \nL 446.4 244.717349 \n\" clip-path=\"url(#pf8ca69ed65)\" style=\"fill: none; stroke: #b0b0b0; stroke-width: 0.8; stroke-linecap: square\"/>\n     </g>\n     <g id=\"line2d_22\">\n      <g>\n       <use xlink:href=\"#m474c4b0df7\" x=\"55.778125\" y=\"244.717349\" style=\"stroke: #000000; stroke-width: 0.8\"/>\n      </g>\n     </g>\n     <g id=\"text_12\">\n      <!-- $\\mathdefault{10^{-20}}$ -->\n      <g transform=\"translate(20.878125 248.516568) scale(0.1 -0.1)\">\n       <use xlink:href=\"#DejaVuSerif-31\" transform=\"translate(0 0.7125)\"/>\n       <use xlink:href=\"#DejaVuSerif-30\" transform=\"translate(63.623047 0.7125)\"/>\n       <use xlink:href=\"#DejaVuSerif-2212\" transform=\"translate(128.154453 37.046875) scale(0.7)\"/>\n       <use xlink:href=\"#DejaVuSerif-32\" transform=\"translate(186.806797 37.046875) scale(0.7)\"/>\n       <use xlink:href=\"#DejaVuSerif-30\" transform=\"translate(231.34293 37.046875) scale(0.7)\"/>\n      </g>\n     </g>\n    </g>\n    <g id=\"ytick_3\">\n     <g id=\"line2d_23\">\n      <path d=\"M 55.778125 212.775735 \nL 446.4 212.775735 \n\" clip-path=\"url(#pf8ca69ed65)\" style=\"fill: none; stroke: #b0b0b0; stroke-width: 0.8; stroke-linecap: square\"/>\n     </g>\n     <g id=\"line2d_24\">\n      <g>\n       <use xlink:href=\"#m474c4b0df7\" x=\"55.778125\" y=\"212.775735\" style=\"stroke: #000000; stroke-width: 0.8\"/>\n      </g>\n     </g>\n     <g id=\"text_13\">\n      <!-- $\\mathdefault{10^{-17}}$ -->\n      <g transform=\"translate(20.878125 216.574953) scale(0.1 -0.1)\">\n       <use xlink:href=\"#DejaVuSerif-31\" transform=\"translate(0 0.7125)\"/>\n       <use xlink:href=\"#DejaVuSerif-30\" transform=\"translate(63.623047 0.7125)\"/>\n       <use xlink:href=\"#DejaVuSerif-2212\" transform=\"translate(128.154453 37.046875) scale(0.7)\"/>\n       <use xlink:href=\"#DejaVuSerif-31\" transform=\"translate(186.806797 37.046875) scale(0.7)\"/>\n       <use xlink:href=\"#DejaVuSerif-37\" transform=\"translate(231.34293 37.046875) scale(0.7)\"/>\n      </g>\n     </g>\n    </g>\n    <g id=\"ytick_4\">\n     <g id=\"line2d_25\">\n      <path d=\"M 55.778125 180.83412 \nL 446.4 180.83412 \n\" clip-path=\"url(#pf8ca69ed65)\" style=\"fill: none; stroke: #b0b0b0; stroke-width: 0.8; stroke-linecap: square\"/>\n     </g>\n     <g id=\"line2d_26\">\n      <g>\n       <use xlink:href=\"#m474c4b0df7\" x=\"55.778125\" y=\"180.83412\" style=\"stroke: #000000; stroke-width: 0.8\"/>\n      </g>\n     </g>\n     <g id=\"text_14\">\n      <!-- $\\mathdefault{10^{-14}}$ -->\n      <g transform=\"translate(20.878125 184.633339) scale(0.1 -0.1)\">\n       <use xlink:href=\"#DejaVuSerif-31\" transform=\"translate(0 0.7125)\"/>\n       <use xlink:href=\"#DejaVuSerif-30\" transform=\"translate(63.623047 0.7125)\"/>\n       <use xlink:href=\"#DejaVuSerif-2212\" transform=\"translate(128.154453 37.046875) scale(0.7)\"/>\n       <use xlink:href=\"#DejaVuSerif-31\" transform=\"translate(186.806797 37.046875) scale(0.7)\"/>\n       <use xlink:href=\"#DejaVuSerif-34\" transform=\"translate(231.34293 37.046875) scale(0.7)\"/>\n      </g>\n     </g>\n    </g>\n    <g id=\"ytick_5\">\n     <g id=\"line2d_27\">\n      <path d=\"M 55.778125 148.892506 \nL 446.4 148.892506 \n\" clip-path=\"url(#pf8ca69ed65)\" style=\"fill: none; stroke: #b0b0b0; stroke-width: 0.8; stroke-linecap: square\"/>\n     </g>\n     <g id=\"line2d_28\">\n      <g>\n       <use xlink:href=\"#m474c4b0df7\" x=\"55.778125\" y=\"148.892506\" style=\"stroke: #000000; stroke-width: 0.8\"/>\n      </g>\n     </g>\n     <g id=\"text_15\">\n      <!-- $\\mathdefault{10^{-11}}$ -->\n      <g transform=\"translate(20.878125 152.691724) scale(0.1 -0.1)\">\n       <use xlink:href=\"#DejaVuSerif-31\" transform=\"translate(0 0.7125)\"/>\n       <use xlink:href=\"#DejaVuSerif-30\" transform=\"translate(63.623047 0.7125)\"/>\n       <use xlink:href=\"#DejaVuSerif-2212\" transform=\"translate(128.154453 37.046875) scale(0.7)\"/>\n       <use xlink:href=\"#DejaVuSerif-31\" transform=\"translate(186.806797 37.046875) scale(0.7)\"/>\n       <use xlink:href=\"#DejaVuSerif-31\" transform=\"translate(231.34293 37.046875) scale(0.7)\"/>\n      </g>\n     </g>\n    </g>\n    <g id=\"ytick_6\">\n     <g id=\"line2d_29\">\n      <path d=\"M 55.778125 116.950891 \nL 446.4 116.950891 \n\" clip-path=\"url(#pf8ca69ed65)\" style=\"fill: none; stroke: #b0b0b0; stroke-width: 0.8; stroke-linecap: square\"/>\n     </g>\n     <g id=\"line2d_30\">\n      <g>\n       <use xlink:href=\"#m474c4b0df7\" x=\"55.778125\" y=\"116.950891\" style=\"stroke: #000000; stroke-width: 0.8\"/>\n      </g>\n     </g>\n     <g id=\"text_16\">\n      <!-- $\\mathdefault{10^{-8}}$ -->\n      <g transform=\"translate(25.378125 120.75011) scale(0.1 -0.1)\">\n       <use xlink:href=\"#DejaVuSerif-31\" transform=\"translate(0 0.7125)\"/>\n       <use xlink:href=\"#DejaVuSerif-30\" transform=\"translate(63.623047 0.7125)\"/>\n       <use xlink:href=\"#DejaVuSerif-2212\" transform=\"translate(128.154453 37.046875) scale(0.7)\"/>\n       <use xlink:href=\"#DejaVuSerif-38\" transform=\"translate(186.806797 37.046875) scale(0.7)\"/>\n      </g>\n     </g>\n    </g>\n    <g id=\"ytick_7\">\n     <g id=\"line2d_31\">\n      <path d=\"M 55.778125 85.009277 \nL 446.4 85.009277 \n\" clip-path=\"url(#pf8ca69ed65)\" style=\"fill: none; stroke: #b0b0b0; stroke-width: 0.8; stroke-linecap: square\"/>\n     </g>\n     <g id=\"line2d_32\">\n      <g>\n       <use xlink:href=\"#m474c4b0df7\" x=\"55.778125\" y=\"85.009277\" style=\"stroke: #000000; stroke-width: 0.8\"/>\n      </g>\n     </g>\n     <g id=\"text_17\">\n      <!-- $\\mathdefault{10^{-5}}$ -->\n      <g transform=\"translate(25.378125 88.808496) scale(0.1 -0.1)\">\n       <use xlink:href=\"#DejaVuSerif-31\" transform=\"translate(0 0.63125)\"/>\n       <use xlink:href=\"#DejaVuSerif-30\" transform=\"translate(63.623047 0.63125)\"/>\n       <use xlink:href=\"#DejaVuSerif-2212\" transform=\"translate(128.154453 36.965625) scale(0.7)\"/>\n       <use xlink:href=\"#DejaVuSerif-35\" transform=\"translate(186.806797 36.965625) scale(0.7)\"/>\n      </g>\n     </g>\n    </g>\n    <g id=\"ytick_8\">\n     <g id=\"line2d_33\">\n      <path d=\"M 55.778125 53.067662 \nL 446.4 53.067662 \n\" clip-path=\"url(#pf8ca69ed65)\" style=\"fill: none; stroke: #b0b0b0; stroke-width: 0.8; stroke-linecap: square\"/>\n     </g>\n     <g id=\"line2d_34\">\n      <g>\n       <use xlink:href=\"#m474c4b0df7\" x=\"55.778125\" y=\"53.067662\" style=\"stroke: #000000; stroke-width: 0.8\"/>\n      </g>\n     </g>\n     <g id=\"text_18\">\n      <!-- $\\mathdefault{10^{-2}}$ -->\n      <g transform=\"translate(25.378125 56.866881) scale(0.1 -0.1)\">\n       <use xlink:href=\"#DejaVuSerif-31\" transform=\"translate(0 0.7125)\"/>\n       <use xlink:href=\"#DejaVuSerif-30\" transform=\"translate(63.623047 0.7125)\"/>\n       <use xlink:href=\"#DejaVuSerif-2212\" transform=\"translate(128.154453 37.046875) scale(0.7)\"/>\n       <use xlink:href=\"#DejaVuSerif-32\" transform=\"translate(186.806797 37.046875) scale(0.7)\"/>\n      </g>\n     </g>\n    </g>\n    <g id=\"text_19\">\n     <!-- $r_{jj}$ -->\n     <g transform=\"translate(13.778125 165.730938) rotate(-90) scale(0.1 -0.1)\">\n      <defs>\n       <path id=\"DejaVuSans-Oblique-72\" d=\"M 2853 2969 \nQ 2766 3016 2653 3041 \nQ 2541 3066 2413 3066 \nQ 1953 3066 1609 2717 \nQ 1266 2369 1153 1784 \nL 800 0 \nL 225 0 \nL 909 3500 \nL 1484 3500 \nL 1375 2956 \nQ 1603 3259 1920 3421 \nQ 2238 3584 2597 3584 \nQ 2691 3584 2781 3573 \nQ 2872 3563 2963 3538 \nL 2853 2969 \nz\n\" transform=\"scale(0.015625)\"/>\n       <path id=\"DejaVuSans-Oblique-6a\" d=\"M 928 3500 \nL 1503 3500 \nL 813 -63 \nL 809 -78 \nQ 694 -675 544 -897 \nQ 403 -1106 132 -1218 \nQ -138 -1331 -506 -1331 \nL -722 -1331 \nL -628 -844 \nL -481 -844 \nQ -144 -844 -1 -703 \nQ 141 -563 238 -63 \nL 928 3500 \nz\nM 1197 4863 \nL 1772 4863 \nL 1631 4134 \nL 1056 4134 \nL 1197 4863 \nz\n\" transform=\"scale(0.015625)\"/>\n      </defs>\n      <use xlink:href=\"#DejaVuSans-Oblique-72\"/>\n      <use xlink:href=\"#DejaVuSans-Oblique-6a\" transform=\"translate(41.113281 -16.40625) scale(0.7)\"/>\n      <use xlink:href=\"#DejaVuSans-Oblique-6a\" transform=\"translate(60.561523 -16.40625) scale(0.7)\"/>\n     </g>\n    </g>\n   </g>\n   <g id=\"line2d_35\">\n    <defs>\n     <path id=\"mf18a96cf72\" d=\"M 0 3 \nC 0.795609 3 1.55874 2.683901 2.12132 2.12132 \nC 2.683901 1.55874 3 0.795609 3 0 \nC 3 -0.795609 2.683901 -1.55874 2.12132 -2.12132 \nC 1.55874 -2.683901 0.795609 -3 0 -3 \nC -0.795609 -3 -1.55874 -2.683901 -2.12132 -2.12132 \nC -2.683901 -1.55874 -3 -0.795609 -3 0 \nC -3 0.795609 -2.683901 1.55874 -2.12132 2.12132 \nC -1.55874 2.683901 -0.795609 3 0 3 \nz\n\" style=\"stroke: #1f77b4\"/>\n    </defs>\n    <g clip-path=\"url(#pf8ca69ed65)\">\n     <use xlink:href=\"#mf18a96cf72\" x=\"73.533665\" y=\"45.863563\" style=\"fill: #1f77b4; stroke: #1f77b4\"/>\n     <use xlink:href=\"#mf18a96cf72\" x=\"78.028738\" y=\"47.262614\" style=\"fill: #1f77b4; stroke: #1f77b4\"/>\n     <use xlink:href=\"#mf18a96cf72\" x=\"82.523811\" y=\"46.840327\" style=\"fill: #1f77b4; stroke: #1f77b4\"/>\n     <use xlink:href=\"#mf18a96cf72\" x=\"87.018885\" y=\"51.197689\" style=\"fill: #1f77b4; stroke: #1f77b4\"/>\n     <use xlink:href=\"#mf18a96cf72\" x=\"91.513958\" y=\"55.880577\" style=\"fill: #1f77b4; stroke: #1f77b4\"/>\n     <use xlink:href=\"#mf18a96cf72\" x=\"96.009032\" y=\"55.844026\" style=\"fill: #1f77b4; stroke: #1f77b4\"/>\n     <use xlink:href=\"#mf18a96cf72\" x=\"100.504105\" y=\"61.137247\" style=\"fill: #1f77b4; stroke: #1f77b4\"/>\n     <use xlink:href=\"#mf18a96cf72\" x=\"104.999178\" y=\"61.031399\" style=\"fill: #1f77b4; stroke: #1f77b4\"/>\n     <use xlink:href=\"#mf18a96cf72\" x=\"109.494252\" y=\"66.942298\" style=\"fill: #1f77b4; stroke: #1f77b4\"/>\n     <use xlink:href=\"#mf18a96cf72\" x=\"113.989325\" y=\"74.462516\" style=\"fill: #1f77b4; stroke: #1f77b4\"/>\n     <use xlink:href=\"#mf18a96cf72\" x=\"118.484398\" y=\"71.341123\" style=\"fill: #1f77b4; stroke: #1f77b4\"/>\n     <use xlink:href=\"#mf18a96cf72\" x=\"122.979472\" y=\"65.594828\" style=\"fill: #1f77b4; stroke: #1f77b4\"/>\n     <use xlink:href=\"#mf18a96cf72\" x=\"127.474545\" y=\"79.825703\" style=\"fill: #1f77b4; stroke: #1f77b4\"/>\n     <use xlink:href=\"#mf18a96cf72\" x=\"131.969618\" y=\"81.920038\" style=\"fill: #1f77b4; stroke: #1f77b4\"/>\n     <use xlink:href=\"#mf18a96cf72\" x=\"136.464692\" y=\"87.440125\" style=\"fill: #1f77b4; stroke: #1f77b4\"/>\n     <use xlink:href=\"#mf18a96cf72\" x=\"140.959765\" y=\"85.391644\" style=\"fill: #1f77b4; stroke: #1f77b4\"/>\n     <use xlink:href=\"#mf18a96cf72\" x=\"145.454839\" y=\"91.933324\" style=\"fill: #1f77b4; stroke: #1f77b4\"/>\n     <use xlink:href=\"#mf18a96cf72\" x=\"149.949912\" y=\"97.033404\" style=\"fill: #1f77b4; stroke: #1f77b4\"/>\n     <use xlink:href=\"#mf18a96cf72\" x=\"154.444985\" y=\"96.981812\" style=\"fill: #1f77b4; stroke: #1f77b4\"/>\n     <use xlink:href=\"#mf18a96cf72\" x=\"158.940059\" y=\"94.225751\" style=\"fill: #1f77b4; stroke: #1f77b4\"/>\n     <use xlink:href=\"#mf18a96cf72\" x=\"163.435132\" y=\"104.820805\" style=\"fill: #1f77b4; stroke: #1f77b4\"/>\n     <use xlink:href=\"#mf18a96cf72\" x=\"167.930205\" y=\"107.255338\" style=\"fill: #1f77b4; stroke: #1f77b4\"/>\n     <use xlink:href=\"#mf18a96cf72\" x=\"172.425279\" y=\"105.334669\" style=\"fill: #1f77b4; stroke: #1f77b4\"/>\n     <use xlink:href=\"#mf18a96cf72\" x=\"176.920352\" y=\"109.894547\" style=\"fill: #1f77b4; stroke: #1f77b4\"/>\n     <use xlink:href=\"#mf18a96cf72\" x=\"181.415425\" y=\"111.495738\" style=\"fill: #1f77b4; stroke: #1f77b4\"/>\n     <use xlink:href=\"#mf18a96cf72\" x=\"185.910499\" y=\"112.245694\" style=\"fill: #1f77b4; stroke: #1f77b4\"/>\n     <use xlink:href=\"#mf18a96cf72\" x=\"190.405572\" y=\"102.248884\" style=\"fill: #1f77b4; stroke: #1f77b4\"/>\n     <use xlink:href=\"#mf18a96cf72\" x=\"194.900645\" y=\"101.77675\" style=\"fill: #1f77b4; stroke: #1f77b4\"/>\n     <use xlink:href=\"#mf18a96cf72\" x=\"199.395719\" y=\"103.570956\" style=\"fill: #1f77b4; stroke: #1f77b4\"/>\n     <use xlink:href=\"#mf18a96cf72\" x=\"203.890792\" y=\"98.522766\" style=\"fill: #1f77b4; stroke: #1f77b4\"/>\n     <use xlink:href=\"#mf18a96cf72\" x=\"208.385866\" y=\"98.434736\" style=\"fill: #1f77b4; stroke: #1f77b4\"/>\n     <use xlink:href=\"#mf18a96cf72\" x=\"212.880939\" y=\"101.67688\" style=\"fill: #1f77b4; stroke: #1f77b4\"/>\n     <use xlink:href=\"#mf18a96cf72\" x=\"217.376012\" y=\"95.814197\" style=\"fill: #1f77b4; stroke: #1f77b4\"/>\n     <use xlink:href=\"#mf18a96cf72\" x=\"221.871086\" y=\"103.525094\" style=\"fill: #1f77b4; stroke: #1f77b4\"/>\n     <use xlink:href=\"#mf18a96cf72\" x=\"226.366159\" y=\"99.376038\" style=\"fill: #1f77b4; stroke: #1f77b4\"/>\n     <use xlink:href=\"#mf18a96cf72\" x=\"230.861232\" y=\"101.409861\" style=\"fill: #1f77b4; stroke: #1f77b4\"/>\n     <use xlink:href=\"#mf18a96cf72\" x=\"235.356306\" y=\"95.938963\" style=\"fill: #1f77b4; stroke: #1f77b4\"/>\n     <use xlink:href=\"#mf18a96cf72\" x=\"239.851379\" y=\"102.050025\" style=\"fill: #1f77b4; stroke: #1f77b4\"/>\n     <use xlink:href=\"#mf18a96cf72\" x=\"244.346452\" y=\"97.147831\" style=\"fill: #1f77b4; stroke: #1f77b4\"/>\n     <use xlink:href=\"#mf18a96cf72\" x=\"248.841526\" y=\"101.311995\" style=\"fill: #1f77b4; stroke: #1f77b4\"/>\n     <use xlink:href=\"#mf18a96cf72\" x=\"253.336599\" y=\"96.793009\" style=\"fill: #1f77b4; stroke: #1f77b4\"/>\n     <use xlink:href=\"#mf18a96cf72\" x=\"257.831673\" y=\"97.005505\" style=\"fill: #1f77b4; stroke: #1f77b4\"/>\n     <use xlink:href=\"#mf18a96cf72\" x=\"262.326746\" y=\"90.433403\" style=\"fill: #1f77b4; stroke: #1f77b4\"/>\n     <use xlink:href=\"#mf18a96cf72\" x=\"266.821819\" y=\"101.696963\" style=\"fill: #1f77b4; stroke: #1f77b4\"/>\n     <use xlink:href=\"#mf18a96cf72\" x=\"271.316893\" y=\"92.095563\" style=\"fill: #1f77b4; stroke: #1f77b4\"/>\n     <use xlink:href=\"#mf18a96cf72\" x=\"275.811966\" y=\"93.768462\" style=\"fill: #1f77b4; stroke: #1f77b4\"/>\n     <use xlink:href=\"#mf18a96cf72\" x=\"280.307039\" y=\"91.463982\" style=\"fill: #1f77b4; stroke: #1f77b4\"/>\n     <use xlink:href=\"#mf18a96cf72\" x=\"284.802113\" y=\"98.324631\" style=\"fill: #1f77b4; stroke: #1f77b4\"/>\n     <use xlink:href=\"#mf18a96cf72\" x=\"289.297186\" y=\"99.811659\" style=\"fill: #1f77b4; stroke: #1f77b4\"/>\n     <use xlink:href=\"#mf18a96cf72\" x=\"293.792259\" y=\"97.033402\" style=\"fill: #1f77b4; stroke: #1f77b4\"/>\n     <use xlink:href=\"#mf18a96cf72\" x=\"298.287333\" y=\"112.909086\" style=\"fill: #1f77b4; stroke: #1f77b4\"/>\n     <use xlink:href=\"#mf18a96cf72\" x=\"302.782406\" y=\"92.711907\" style=\"fill: #1f77b4; stroke: #1f77b4\"/>\n     <use xlink:href=\"#mf18a96cf72\" x=\"307.27748\" y=\"93.24096\" style=\"fill: #1f77b4; stroke: #1f77b4\"/>\n     <use xlink:href=\"#mf18a96cf72\" x=\"311.772553\" y=\"91.735812\" style=\"fill: #1f77b4; stroke: #1f77b4\"/>\n     <use xlink:href=\"#mf18a96cf72\" x=\"316.267626\" y=\"93.571386\" style=\"fill: #1f77b4; stroke: #1f77b4\"/>\n     <use xlink:href=\"#mf18a96cf72\" x=\"320.7627\" y=\"90.819946\" style=\"fill: #1f77b4; stroke: #1f77b4\"/>\n     <use xlink:href=\"#mf18a96cf72\" x=\"325.257773\" y=\"98.425424\" style=\"fill: #1f77b4; stroke: #1f77b4\"/>\n     <use xlink:href=\"#mf18a96cf72\" x=\"329.752846\" y=\"90.282663\" style=\"fill: #1f77b4; stroke: #1f77b4\"/>\n     <use xlink:href=\"#mf18a96cf72\" x=\"334.24792\" y=\"97.064195\" style=\"fill: #1f77b4; stroke: #1f77b4\"/>\n     <use xlink:href=\"#mf18a96cf72\" x=\"338.742993\" y=\"94.176413\" style=\"fill: #1f77b4; stroke: #1f77b4\"/>\n     <use xlink:href=\"#mf18a96cf72\" x=\"343.238066\" y=\"93.652618\" style=\"fill: #1f77b4; stroke: #1f77b4\"/>\n     <use xlink:href=\"#mf18a96cf72\" x=\"347.73314\" y=\"93.245413\" style=\"fill: #1f77b4; stroke: #1f77b4\"/>\n     <use xlink:href=\"#mf18a96cf72\" x=\"352.228213\" y=\"92.643342\" style=\"fill: #1f77b4; stroke: #1f77b4\"/>\n     <use xlink:href=\"#mf18a96cf72\" x=\"356.723286\" y=\"90.779369\" style=\"fill: #1f77b4; stroke: #1f77b4\"/>\n     <use xlink:href=\"#mf18a96cf72\" x=\"361.21836\" y=\"90.378916\" style=\"fill: #1f77b4; stroke: #1f77b4\"/>\n     <use xlink:href=\"#mf18a96cf72\" x=\"365.713433\" y=\"85.728964\" style=\"fill: #1f77b4; stroke: #1f77b4\"/>\n     <use xlink:href=\"#mf18a96cf72\" x=\"370.208507\" y=\"92.01399\" style=\"fill: #1f77b4; stroke: #1f77b4\"/>\n     <use xlink:href=\"#mf18a96cf72\" x=\"374.70358\" y=\"87.349787\" style=\"fill: #1f77b4; stroke: #1f77b4\"/>\n     <use xlink:href=\"#mf18a96cf72\" x=\"379.198653\" y=\"98.611922\" style=\"fill: #1f77b4; stroke: #1f77b4\"/>\n     <use xlink:href=\"#mf18a96cf72\" x=\"383.693727\" y=\"90.954728\" style=\"fill: #1f77b4; stroke: #1f77b4\"/>\n     <use xlink:href=\"#mf18a96cf72\" x=\"388.1888\" y=\"89.738128\" style=\"fill: #1f77b4; stroke: #1f77b4\"/>\n     <use xlink:href=\"#mf18a96cf72\" x=\"392.683873\" y=\"90.831752\" style=\"fill: #1f77b4; stroke: #1f77b4\"/>\n     <use xlink:href=\"#mf18a96cf72\" x=\"397.178947\" y=\"89.143491\" style=\"fill: #1f77b4; stroke: #1f77b4\"/>\n     <use xlink:href=\"#mf18a96cf72\" x=\"401.67402\" y=\"88.413788\" style=\"fill: #1f77b4; stroke: #1f77b4\"/>\n     <use xlink:href=\"#mf18a96cf72\" x=\"406.169093\" y=\"100.040631\" style=\"fill: #1f77b4; stroke: #1f77b4\"/>\n     <use xlink:href=\"#mf18a96cf72\" x=\"410.664167\" y=\"95.496452\" style=\"fill: #1f77b4; stroke: #1f77b4\"/>\n     <use xlink:href=\"#mf18a96cf72\" x=\"415.15924\" y=\"90.367125\" style=\"fill: #1f77b4; stroke: #1f77b4\"/>\n     <use xlink:href=\"#mf18a96cf72\" x=\"419.654314\" y=\"93.530904\" style=\"fill: #1f77b4; stroke: #1f77b4\"/>\n     <use xlink:href=\"#mf18a96cf72\" x=\"424.149387\" y=\"90.354407\" style=\"fill: #1f77b4; stroke: #1f77b4\"/>\n     <use xlink:href=\"#mf18a96cf72\" x=\"428.64446\" y=\"90.171859\" style=\"fill: #1f77b4; stroke: #1f77b4\"/>\n    </g>\n   </g>\n   <g id=\"line2d_36\">\n    <defs>\n     <path id=\"mdc644f4507\" d=\"M 0 -3 \nL -0.673542 -0.927051 \nL -2.85317 -0.927051 \nL -1.089814 0.354102 \nL -1.763356 2.427051 \nL -0 1.145898 \nL 1.763356 2.427051 \nL 1.089814 0.354102 \nL 2.85317 -0.927051 \nL 0.673542 -0.927051 \nz\n\" style=\"stroke: #ff7f0e; stroke-linejoin: bevel\"/>\n    </defs>\n    <g clip-path=\"url(#pf8ca69ed65)\">\n     <use xlink:href=\"#mdc644f4507\" x=\"73.533665\" y=\"45.863563\" style=\"fill: #ff7f0e; stroke: #ff7f0e; stroke-linejoin: bevel\"/>\n     <use xlink:href=\"#mdc644f4507\" x=\"78.028738\" y=\"47.262614\" style=\"fill: #ff7f0e; stroke: #ff7f0e; stroke-linejoin: bevel\"/>\n     <use xlink:href=\"#mdc644f4507\" x=\"82.523811\" y=\"46.840327\" style=\"fill: #ff7f0e; stroke: #ff7f0e; stroke-linejoin: bevel\"/>\n     <use xlink:href=\"#mdc644f4507\" x=\"87.018885\" y=\"51.197689\" style=\"fill: #ff7f0e; stroke: #ff7f0e; stroke-linejoin: bevel\"/>\n     <use xlink:href=\"#mdc644f4507\" x=\"91.513958\" y=\"55.880577\" style=\"fill: #ff7f0e; stroke: #ff7f0e; stroke-linejoin: bevel\"/>\n     <use xlink:href=\"#mdc644f4507\" x=\"96.009032\" y=\"55.844026\" style=\"fill: #ff7f0e; stroke: #ff7f0e; stroke-linejoin: bevel\"/>\n     <use xlink:href=\"#mdc644f4507\" x=\"100.504105\" y=\"61.137247\" style=\"fill: #ff7f0e; stroke: #ff7f0e; stroke-linejoin: bevel\"/>\n     <use xlink:href=\"#mdc644f4507\" x=\"104.999178\" y=\"61.031399\" style=\"fill: #ff7f0e; stroke: #ff7f0e; stroke-linejoin: bevel\"/>\n     <use xlink:href=\"#mdc644f4507\" x=\"109.494252\" y=\"66.942298\" style=\"fill: #ff7f0e; stroke: #ff7f0e; stroke-linejoin: bevel\"/>\n     <use xlink:href=\"#mdc644f4507\" x=\"113.989325\" y=\"74.462516\" style=\"fill: #ff7f0e; stroke: #ff7f0e; stroke-linejoin: bevel\"/>\n     <use xlink:href=\"#mdc644f4507\" x=\"118.484398\" y=\"71.341123\" style=\"fill: #ff7f0e; stroke: #ff7f0e; stroke-linejoin: bevel\"/>\n     <use xlink:href=\"#mdc644f4507\" x=\"122.979472\" y=\"65.594828\" style=\"fill: #ff7f0e; stroke: #ff7f0e; stroke-linejoin: bevel\"/>\n     <use xlink:href=\"#mdc644f4507\" x=\"127.474545\" y=\"79.825703\" style=\"fill: #ff7f0e; stroke: #ff7f0e; stroke-linejoin: bevel\"/>\n     <use xlink:href=\"#mdc644f4507\" x=\"131.969618\" y=\"81.920038\" style=\"fill: #ff7f0e; stroke: #ff7f0e; stroke-linejoin: bevel\"/>\n     <use xlink:href=\"#mdc644f4507\" x=\"136.464692\" y=\"87.440125\" style=\"fill: #ff7f0e; stroke: #ff7f0e; stroke-linejoin: bevel\"/>\n     <use xlink:href=\"#mdc644f4507\" x=\"140.959765\" y=\"85.391644\" style=\"fill: #ff7f0e; stroke: #ff7f0e; stroke-linejoin: bevel\"/>\n     <use xlink:href=\"#mdc644f4507\" x=\"145.454839\" y=\"91.933324\" style=\"fill: #ff7f0e; stroke: #ff7f0e; stroke-linejoin: bevel\"/>\n     <use xlink:href=\"#mdc644f4507\" x=\"149.949912\" y=\"97.033404\" style=\"fill: #ff7f0e; stroke: #ff7f0e; stroke-linejoin: bevel\"/>\n     <use xlink:href=\"#mdc644f4507\" x=\"154.444985\" y=\"96.981813\" style=\"fill: #ff7f0e; stroke: #ff7f0e; stroke-linejoin: bevel\"/>\n     <use xlink:href=\"#mdc644f4507\" x=\"158.940059\" y=\"94.225751\" style=\"fill: #ff7f0e; stroke: #ff7f0e; stroke-linejoin: bevel\"/>\n     <use xlink:href=\"#mdc644f4507\" x=\"163.435132\" y=\"104.820958\" style=\"fill: #ff7f0e; stroke: #ff7f0e; stroke-linejoin: bevel\"/>\n     <use xlink:href=\"#mdc644f4507\" x=\"167.930205\" y=\"107.257356\" style=\"fill: #ff7f0e; stroke: #ff7f0e; stroke-linejoin: bevel\"/>\n     <use xlink:href=\"#mdc644f4507\" x=\"172.425279\" y=\"105.345262\" style=\"fill: #ff7f0e; stroke: #ff7f0e; stroke-linejoin: bevel\"/>\n     <use xlink:href=\"#mdc644f4507\" x=\"176.920352\" y=\"112.428088\" style=\"fill: #ff7f0e; stroke: #ff7f0e; stroke-linejoin: bevel\"/>\n     <use xlink:href=\"#mdc644f4507\" x=\"181.415425\" y=\"111.518264\" style=\"fill: #ff7f0e; stroke: #ff7f0e; stroke-linejoin: bevel\"/>\n     <use xlink:href=\"#mdc644f4507\" x=\"185.910499\" y=\"118.508256\" style=\"fill: #ff7f0e; stroke: #ff7f0e; stroke-linejoin: bevel\"/>\n     <use xlink:href=\"#mdc644f4507\" x=\"190.405572\" y=\"123.769485\" style=\"fill: #ff7f0e; stroke: #ff7f0e; stroke-linejoin: bevel\"/>\n     <use xlink:href=\"#mdc644f4507\" x=\"194.900645\" y=\"116.798119\" style=\"fill: #ff7f0e; stroke: #ff7f0e; stroke-linejoin: bevel\"/>\n     <use xlink:href=\"#mdc644f4507\" x=\"199.395719\" y=\"127.265461\" style=\"fill: #ff7f0e; stroke: #ff7f0e; stroke-linejoin: bevel\"/>\n     <use xlink:href=\"#mdc644f4507\" x=\"203.890792\" y=\"120.595747\" style=\"fill: #ff7f0e; stroke: #ff7f0e; stroke-linejoin: bevel\"/>\n     <use xlink:href=\"#mdc644f4507\" x=\"208.385866\" y=\"134.109533\" style=\"fill: #ff7f0e; stroke: #ff7f0e; stroke-linejoin: bevel\"/>\n     <use xlink:href=\"#mdc644f4507\" x=\"212.880939\" y=\"128.903325\" style=\"fill: #ff7f0e; stroke: #ff7f0e; stroke-linejoin: bevel\"/>\n     <use xlink:href=\"#mdc644f4507\" x=\"217.376012\" y=\"142.935723\" style=\"fill: #ff7f0e; stroke: #ff7f0e; stroke-linejoin: bevel\"/>\n     <use xlink:href=\"#mdc644f4507\" x=\"221.871086\" y=\"145.041441\" style=\"fill: #ff7f0e; stroke: #ff7f0e; stroke-linejoin: bevel\"/>\n     <use xlink:href=\"#mdc644f4507\" x=\"226.366159\" y=\"137.528056\" style=\"fill: #ff7f0e; stroke: #ff7f0e; stroke-linejoin: bevel\"/>\n     <use xlink:href=\"#mdc644f4507\" x=\"230.861232\" y=\"145.442107\" style=\"fill: #ff7f0e; stroke: #ff7f0e; stroke-linejoin: bevel\"/>\n     <use xlink:href=\"#mdc644f4507\" x=\"235.356306\" y=\"149.947345\" style=\"fill: #ff7f0e; stroke: #ff7f0e; stroke-linejoin: bevel\"/>\n     <use xlink:href=\"#mdc644f4507\" x=\"239.851379\" y=\"156.773667\" style=\"fill: #ff7f0e; stroke: #ff7f0e; stroke-linejoin: bevel\"/>\n     <use xlink:href=\"#mdc644f4507\" x=\"244.346452\" y=\"160.894973\" style=\"fill: #ff7f0e; stroke: #ff7f0e; stroke-linejoin: bevel\"/>\n     <use xlink:href=\"#mdc644f4507\" x=\"248.841526\" y=\"156.715372\" style=\"fill: #ff7f0e; stroke: #ff7f0e; stroke-linejoin: bevel\"/>\n     <use xlink:href=\"#mdc644f4507\" x=\"253.336599\" y=\"162.766021\" style=\"fill: #ff7f0e; stroke: #ff7f0e; stroke-linejoin: bevel\"/>\n     <use xlink:href=\"#mdc644f4507\" x=\"257.831673\" y=\"169.129917\" style=\"fill: #ff7f0e; stroke: #ff7f0e; stroke-linejoin: bevel\"/>\n     <use xlink:href=\"#mdc644f4507\" x=\"262.326746\" y=\"168.419359\" style=\"fill: #ff7f0e; stroke: #ff7f0e; stroke-linejoin: bevel\"/>\n     <use xlink:href=\"#mdc644f4507\" x=\"266.821819\" y=\"174.86549\" style=\"fill: #ff7f0e; stroke: #ff7f0e; stroke-linejoin: bevel\"/>\n     <use xlink:href=\"#mdc644f4507\" x=\"271.316893\" y=\"170.644087\" style=\"fill: #ff7f0e; stroke: #ff7f0e; stroke-linejoin: bevel\"/>\n     <use xlink:href=\"#mdc644f4507\" x=\"275.811966\" y=\"184.184904\" style=\"fill: #ff7f0e; stroke: #ff7f0e; stroke-linejoin: bevel\"/>\n     <use xlink:href=\"#mdc644f4507\" x=\"280.307039\" y=\"172.368728\" style=\"fill: #ff7f0e; stroke: #ff7f0e; stroke-linejoin: bevel\"/>\n     <use xlink:href=\"#mdc644f4507\" x=\"284.802113\" y=\"183.171206\" style=\"fill: #ff7f0e; stroke: #ff7f0e; stroke-linejoin: bevel\"/>\n     <use xlink:href=\"#mdc644f4507\" x=\"289.297186\" y=\"186.974525\" style=\"fill: #ff7f0e; stroke: #ff7f0e; stroke-linejoin: bevel\"/>\n     <use xlink:href=\"#mdc644f4507\" x=\"293.792259\" y=\"192.235812\" style=\"fill: #ff7f0e; stroke: #ff7f0e; stroke-linejoin: bevel\"/>\n     <use xlink:href=\"#mdc644f4507\" x=\"298.287333\" y=\"194.50471\" style=\"fill: #ff7f0e; stroke: #ff7f0e; stroke-linejoin: bevel\"/>\n     <use xlink:href=\"#mdc644f4507\" x=\"302.782406\" y=\"198.539534\" style=\"fill: #ff7f0e; stroke: #ff7f0e; stroke-linejoin: bevel\"/>\n     <use xlink:href=\"#mdc644f4507\" x=\"307.27748\" y=\"197.48015\" style=\"fill: #ff7f0e; stroke: #ff7f0e; stroke-linejoin: bevel\"/>\n     <use xlink:href=\"#mdc644f4507\" x=\"311.772553\" y=\"199.399859\" style=\"fill: #ff7f0e; stroke: #ff7f0e; stroke-linejoin: bevel\"/>\n     <use xlink:href=\"#mdc644f4507\" x=\"316.267626\" y=\"199.111659\" style=\"fill: #ff7f0e; stroke: #ff7f0e; stroke-linejoin: bevel\"/>\n     <use xlink:href=\"#mdc644f4507\" x=\"320.7627\" y=\"205.810365\" style=\"fill: #ff7f0e; stroke: #ff7f0e; stroke-linejoin: bevel\"/>\n     <use xlink:href=\"#mdc644f4507\" x=\"325.257773\" y=\"201.490744\" style=\"fill: #ff7f0e; stroke: #ff7f0e; stroke-linejoin: bevel\"/>\n     <use xlink:href=\"#mdc644f4507\" x=\"329.752846\" y=\"204.279914\" style=\"fill: #ff7f0e; stroke: #ff7f0e; stroke-linejoin: bevel\"/>\n     <use xlink:href=\"#mdc644f4507\" x=\"334.24792\" y=\"206.288098\" style=\"fill: #ff7f0e; stroke: #ff7f0e; stroke-linejoin: bevel\"/>\n     <use xlink:href=\"#mdc644f4507\" x=\"338.742993\" y=\"206.307757\" style=\"fill: #ff7f0e; stroke: #ff7f0e; stroke-linejoin: bevel\"/>\n     <use xlink:href=\"#mdc644f4507\" x=\"343.238066\" y=\"207.058218\" style=\"fill: #ff7f0e; stroke: #ff7f0e; stroke-linejoin: bevel\"/>\n     <use xlink:href=\"#mdc644f4507\" x=\"347.73314\" y=\"205.298717\" style=\"fill: #ff7f0e; stroke: #ff7f0e; stroke-linejoin: bevel\"/>\n     <use xlink:href=\"#mdc644f4507\" x=\"352.228213\" y=\"208.643452\" style=\"fill: #ff7f0e; stroke: #ff7f0e; stroke-linejoin: bevel\"/>\n     <use xlink:href=\"#mdc644f4507\" x=\"356.723286\" y=\"209.201437\" style=\"fill: #ff7f0e; stroke: #ff7f0e; stroke-linejoin: bevel\"/>\n     <use xlink:href=\"#mdc644f4507\" x=\"361.21836\" y=\"209.138568\" style=\"fill: #ff7f0e; stroke: #ff7f0e; stroke-linejoin: bevel\"/>\n     <use xlink:href=\"#mdc644f4507\" x=\"365.713433\" y=\"206.872235\" style=\"fill: #ff7f0e; stroke: #ff7f0e; stroke-linejoin: bevel\"/>\n     <use xlink:href=\"#mdc644f4507\" x=\"370.208507\" y=\"208.004776\" style=\"fill: #ff7f0e; stroke: #ff7f0e; stroke-linejoin: bevel\"/>\n     <use xlink:href=\"#mdc644f4507\" x=\"374.70358\" y=\"208.638269\" style=\"fill: #ff7f0e; stroke: #ff7f0e; stroke-linejoin: bevel\"/>\n     <use xlink:href=\"#mdc644f4507\" x=\"379.198653\" y=\"209.749661\" style=\"fill: #ff7f0e; stroke: #ff7f0e; stroke-linejoin: bevel\"/>\n     <use xlink:href=\"#mdc644f4507\" x=\"383.693727\" y=\"208.896046\" style=\"fill: #ff7f0e; stroke: #ff7f0e; stroke-linejoin: bevel\"/>\n     <use xlink:href=\"#mdc644f4507\" x=\"388.1888\" y=\"210.675195\" style=\"fill: #ff7f0e; stroke: #ff7f0e; stroke-linejoin: bevel\"/>\n     <use xlink:href=\"#mdc644f4507\" x=\"392.683873\" y=\"210.347638\" style=\"fill: #ff7f0e; stroke: #ff7f0e; stroke-linejoin: bevel\"/>\n     <use xlink:href=\"#mdc644f4507\" x=\"397.178947\" y=\"212.638695\" style=\"fill: #ff7f0e; stroke: #ff7f0e; stroke-linejoin: bevel\"/>\n     <use xlink:href=\"#mdc644f4507\" x=\"401.67402\" y=\"212.578838\" style=\"fill: #ff7f0e; stroke: #ff7f0e; stroke-linejoin: bevel\"/>\n     <use xlink:href=\"#mdc644f4507\" x=\"406.169093\" y=\"211.054982\" style=\"fill: #ff7f0e; stroke: #ff7f0e; stroke-linejoin: bevel\"/>\n     <use xlink:href=\"#mdc644f4507\" x=\"410.664167\" y=\"214.915447\" style=\"fill: #ff7f0e; stroke: #ff7f0e; stroke-linejoin: bevel\"/>\n     <use xlink:href=\"#mdc644f4507\" x=\"415.15924\" y=\"211.576344\" style=\"fill: #ff7f0e; stroke: #ff7f0e; stroke-linejoin: bevel\"/>\n     <use xlink:href=\"#mdc644f4507\" x=\"419.654314\" y=\"209.974455\" style=\"fill: #ff7f0e; stroke: #ff7f0e; stroke-linejoin: bevel\"/>\n     <use xlink:href=\"#mdc644f4507\" x=\"424.149387\" y=\"213.599884\" style=\"fill: #ff7f0e; stroke: #ff7f0e; stroke-linejoin: bevel\"/>\n     <use xlink:href=\"#mdc644f4507\" x=\"428.64446\" y=\"211.383671\" style=\"fill: #ff7f0e; stroke: #ff7f0e; stroke-linejoin: bevel\"/>\n    </g>\n   </g>\n   <g id=\"line2d_37\">\n    <path d=\"M 73.533665 34.978381 \nL 78.028738 38.183509 \nL 82.523811 41.388637 \nL 87.018885 44.593765 \nL 91.513958 47.798893 \nL 96.009032 51.004021 \nL 100.504105 54.209149 \nL 104.999178 57.414277 \nL 109.494252 60.619405 \nL 113.989325 63.824533 \nL 118.484398 67.029661 \nL 122.979472 70.234789 \nL 127.474545 73.439917 \nL 131.969618 76.645045 \nL 136.464692 79.850173 \nL 140.959765 83.055301 \nL 145.454839 86.260429 \nL 149.949912 89.465557 \nL 154.444985 92.670685 \nL 158.940059 95.875813 \nL 163.435132 99.080941 \nL 167.930205 102.286069 \nL 172.425279 105.491197 \nL 176.920352 108.696325 \nL 181.415425 111.901453 \nL 185.910499 115.106581 \nL 190.405572 118.311709 \nL 194.900645 121.516837 \nL 199.395719 124.721965 \nL 203.890792 127.927093 \nL 208.385866 131.132221 \nL 212.880939 134.337349 \nL 217.376012 137.542477 \nL 221.871086 140.747605 \nL 226.366159 143.952733 \nL 230.861232 147.157861 \nL 235.356306 150.362989 \nL 239.851379 153.568117 \nL 244.346452 156.773245 \nL 248.841526 159.978373 \nL 253.336599 163.183502 \nL 257.831673 166.38863 \nL 262.326746 169.593758 \nL 266.821819 172.798886 \nL 271.316893 176.004014 \nL 275.811966 179.209142 \nL 280.307039 182.41427 \nL 284.802113 185.619398 \nL 289.297186 188.824526 \nL 293.792259 192.029654 \nL 298.287333 195.234782 \nL 302.782406 198.43991 \nL 307.27748 201.645038 \nL 311.772553 204.850166 \nL 316.267626 208.055294 \nL 320.7627 211.260422 \nL 325.257773 214.46555 \nL 329.752846 217.670678 \nL 334.24792 220.875806 \nL 338.742993 224.080934 \nL 343.238066 227.286062 \nL 347.73314 230.49119 \nL 352.228213 233.696318 \nL 356.723286 236.901446 \nL 361.21836 240.106574 \nL 365.713433 243.311702 \nL 370.208507 246.51683 \nL 374.70358 249.721958 \nL 379.198653 252.927086 \nL 383.693727 256.132214 \nL 388.1888 259.337342 \nL 392.683873 262.54247 \nL 397.178947 265.747598 \nL 401.67402 268.952726 \nL 406.169093 272.157854 \nL 410.664167 275.362982 \nL 415.15924 278.56811 \nL 419.654314 281.773238 \nL 424.149387 284.978366 \nL 428.64446 288.183494 \n\" clip-path=\"url(#pf8ca69ed65)\" style=\"fill: none; stroke-dasharray: 5.55,2.4; stroke-dashoffset: 0; stroke: #2ca02c; stroke-width: 1.5\"/>\n   </g>\n   <g id=\"patch_3\">\n    <path d=\"M 55.778125 300.84375 \nL 55.778125 22.318125 \n\" style=\"fill: none; stroke: #000000; stroke-width: 0.8; stroke-linejoin: miter; stroke-linecap: square\"/>\n   </g>\n   <g id=\"patch_4\">\n    <path d=\"M 446.4 300.84375 \nL 446.4 22.318125 \n\" style=\"fill: none; stroke: #000000; stroke-width: 0.8; stroke-linejoin: miter; stroke-linecap: square\"/>\n   </g>\n   <g id=\"patch_5\">\n    <path d=\"M 55.778125 300.84375 \nL 446.4 300.84375 \n\" style=\"fill: none; stroke: #000000; stroke-width: 0.8; stroke-linejoin: miter; stroke-linecap: square\"/>\n   </g>\n   <g id=\"patch_6\">\n    <path d=\"M 55.778125 22.318125 \nL 446.4 22.318125 \n\" style=\"fill: none; stroke: #000000; stroke-width: 0.8; stroke-linejoin: miter; stroke-linecap: square\"/>\n   </g>\n   <g id=\"text_20\">\n    <!-- Diagonal entries of R -->\n    <g transform=\"translate(186.652813 16.318125) scale(0.12 -0.12)\">\n     <defs>\n      <path id=\"DejaVuSerif-44\" d=\"M 1581 331 \nL 2163 331 \nQ 3072 331 3558 850 \nQ 4044 1369 4044 2338 \nQ 4044 3306 3559 3818 \nQ 3075 4331 2163 4331 \nL 1581 4331 \nL 1581 331 \nz\nM 353 0 \nL 353 331 \nL 947 331 \nL 947 4331 \nL 353 4331 \nL 353 4666 \nL 2209 4666 \nQ 3416 4666 4089 4050 \nQ 4763 3434 4763 2338 \nQ 4763 1238 4088 619 \nQ 3413 0 2209 0 \nL 353 0 \nz\n\" transform=\"scale(0.015625)\"/>\n      <path id=\"DejaVuSerif-69\" d=\"M 622 4353 \nQ 622 4497 726 4603 \nQ 831 4709 978 4709 \nQ 1122 4709 1226 4603 \nQ 1331 4497 1331 4353 \nQ 1331 4206 1228 4103 \nQ 1125 4000 978 4000 \nQ 831 4000 726 4103 \nQ 622 4206 622 4353 \nz\nM 1356 331 \nL 1900 331 \nL 1900 0 \nL 231 0 \nL 231 331 \nL 781 331 \nL 781 2988 \nL 231 2988 \nL 231 3322 \nL 1356 3322 \nL 1356 331 \nz\n\" transform=\"scale(0.015625)\"/>\n      <path id=\"DejaVuSerif-61\" d=\"M 2547 1044 \nL 2547 1747 \nL 1806 1747 \nQ 1378 1747 1168 1562 \nQ 959 1378 959 997 \nQ 959 650 1171 447 \nQ 1384 244 1747 244 \nQ 2106 244 2326 466 \nQ 2547 688 2547 1044 \nz\nM 3122 2075 \nL 3122 331 \nL 3634 331 \nL 3634 0 \nL 2547 0 \nL 2547 359 \nQ 2356 128 2106 18 \nQ 1856 -91 1522 -91 \nQ 969 -91 644 203 \nQ 319 497 319 997 \nQ 319 1513 691 1797 \nQ 1063 2081 1741 2081 \nL 2547 2081 \nL 2547 2309 \nQ 2547 2688 2317 2895 \nQ 2088 3103 1672 3103 \nQ 1328 3103 1125 2947 \nQ 922 2791 872 2484 \nL 575 2484 \nL 575 3156 \nQ 875 3284 1158 3348 \nQ 1441 3413 1709 3413 \nQ 2400 3413 2761 3070 \nQ 3122 2728 3122 2075 \nz\n\" transform=\"scale(0.015625)\"/>\n      <path id=\"DejaVuSerif-67\" d=\"M 3359 2988 \nL 3359 72 \nQ 3359 -644 2965 -1033 \nQ 2572 -1422 1844 -1422 \nQ 1516 -1422 1216 -1362 \nQ 916 -1303 641 -1184 \nL 641 -488 \nL 941 -488 \nQ 997 -813 1206 -963 \nQ 1416 -1113 1806 -1113 \nQ 2313 -1113 2548 -827 \nQ 2784 -541 2784 72 \nL 2784 519 \nQ 2616 206 2355 57 \nQ 2094 -91 1709 -91 \nQ 1097 -91 708 395 \nQ 319 881 319 1663 \nQ 319 2444 706 2928 \nQ 1094 3413 1709 3413 \nQ 2094 3413 2355 3264 \nQ 2616 3116 2784 2803 \nL 2784 3322 \nL 3909 3322 \nL 3909 2988 \nL 3359 2988 \nz\nM 2784 1825 \nQ 2784 2422 2554 2737 \nQ 2325 3053 1888 3053 \nQ 1444 3053 1217 2703 \nQ 991 2353 991 1663 \nQ 991 975 1217 622 \nQ 1444 269 1888 269 \nQ 2325 269 2554 583 \nQ 2784 897 2784 1497 \nL 2784 1825 \nz\n\" transform=\"scale(0.015625)\"/>\n      <path id=\"DejaVuSerif-6f\" d=\"M 1925 219 \nQ 2388 219 2623 584 \nQ 2859 950 2859 1663 \nQ 2859 2375 2623 2739 \nQ 2388 3103 1925 3103 \nQ 1463 3103 1227 2739 \nQ 991 2375 991 1663 \nQ 991 950 1228 584 \nQ 1466 219 1925 219 \nz\nM 1925 -91 \nQ 1200 -91 759 389 \nQ 319 869 319 1663 \nQ 319 2456 758 2934 \nQ 1197 3413 1925 3413 \nQ 2653 3413 3092 2934 \nQ 3531 2456 3531 1663 \nQ 3531 869 3092 389 \nQ 2653 -91 1925 -91 \nz\n\" transform=\"scale(0.015625)\"/>\n      <path id=\"DejaVuSerif-6e\" d=\"M 263 0 \nL 263 331 \nL 781 331 \nL 781 2988 \nL 231 2988 \nL 231 3322 \nL 1356 3322 \nL 1356 2731 \nQ 1516 3069 1770 3241 \nQ 2025 3413 2363 3413 \nQ 2913 3413 3172 3097 \nQ 3431 2781 3431 2113 \nL 3431 331 \nL 3944 331 \nL 3944 0 \nL 2356 0 \nL 2356 331 \nL 2853 331 \nL 2853 1931 \nQ 2853 2541 2703 2767 \nQ 2553 2994 2175 2994 \nQ 1775 2994 1565 2701 \nQ 1356 2409 1356 1850 \nL 1356 331 \nL 1856 331 \nL 1856 0 \nL 263 0 \nz\n\" transform=\"scale(0.015625)\"/>\n      <path id=\"DejaVuSerif-6c\" d=\"M 1313 331 \nL 1856 331 \nL 1856 0 \nL 184 0 \nL 184 331 \nL 738 331 \nL 738 4531 \nL 184 4531 \nL 184 4863 \nL 1313 4863 \nL 1313 331 \nz\n\" transform=\"scale(0.015625)\"/>\n      <path id=\"DejaVuSerif-20\" transform=\"scale(0.015625)\"/>\n      <path id=\"DejaVuSerif-65\" d=\"M 3469 1600 \nL 991 1600 \nL 991 1575 \nQ 991 903 1244 561 \nQ 1497 219 1991 219 \nQ 2369 219 2611 417 \nQ 2853 616 2950 1006 \nL 3413 1006 \nQ 3275 459 2904 184 \nQ 2534 -91 1931 -91 \nQ 1203 -91 761 389 \nQ 319 869 319 1663 \nQ 319 2450 753 2931 \nQ 1188 3413 1894 3413 \nQ 2647 3413 3050 2948 \nQ 3453 2484 3469 1600 \nz\nM 2791 1931 \nQ 2772 2513 2545 2808 \nQ 2319 3103 1894 3103 \nQ 1497 3103 1269 2806 \nQ 1041 2509 991 1931 \nL 2791 1931 \nz\n\" transform=\"scale(0.015625)\"/>\n      <path id=\"DejaVuSerif-74\" d=\"M 691 2988 \nL 184 2988 \nL 184 3322 \nL 691 3322 \nL 691 4353 \nL 1269 4353 \nL 1269 3322 \nL 2350 3322 \nL 2350 2988 \nL 1269 2988 \nL 1269 878 \nQ 1269 456 1350 337 \nQ 1431 219 1650 219 \nQ 1875 219 1978 351 \nQ 2081 484 2088 781 \nL 2522 781 \nQ 2497 328 2275 118 \nQ 2053 -91 1600 -91 \nQ 1103 -91 897 129 \nQ 691 350 691 878 \nL 691 2988 \nz\n\" transform=\"scale(0.015625)\"/>\n      <path id=\"DejaVuSerif-72\" d=\"M 3059 3328 \nL 3059 2497 \nL 2728 2497 \nQ 2713 2744 2591 2866 \nQ 2469 2988 2234 2988 \nQ 1809 2988 1582 2694 \nQ 1356 2400 1356 1850 \nL 1356 331 \nL 2022 331 \nL 2022 0 \nL 263 0 \nL 263 331 \nL 781 331 \nL 781 2994 \nL 231 2994 \nL 231 3322 \nL 1356 3322 \nL 1356 2731 \nQ 1525 3078 1790 3245 \nQ 2056 3413 2438 3413 \nQ 2578 3413 2733 3391 \nQ 2888 3369 3059 3328 \nz\n\" transform=\"scale(0.015625)\"/>\n      <path id=\"DejaVuSerif-73\" d=\"M 359 184 \nL 359 959 \nL 691 959 \nQ 703 588 923 403 \nQ 1144 219 1575 219 \nQ 1963 219 2166 364 \nQ 2369 509 2369 788 \nQ 2369 1006 2220 1140 \nQ 2072 1275 1594 1428 \nL 1178 1569 \nQ 750 1706 558 1912 \nQ 366 2119 366 2438 \nQ 366 2894 700 3153 \nQ 1034 3413 1625 3413 \nQ 1888 3413 2178 3344 \nQ 2469 3275 2778 3144 \nL 2778 2419 \nL 2447 2419 \nQ 2434 2741 2221 2922 \nQ 2009 3103 1644 3103 \nQ 1281 3103 1095 2975 \nQ 909 2847 909 2591 \nQ 909 2381 1050 2254 \nQ 1191 2128 1613 1997 \nL 2069 1856 \nQ 2541 1709 2748 1489 \nQ 2956 1269 2956 922 \nQ 2956 450 2595 179 \nQ 2234 -91 1600 -91 \nQ 1278 -91 972 -22 \nQ 666 47 359 184 \nz\n\" transform=\"scale(0.015625)\"/>\n      <path id=\"DejaVuSerif-66\" d=\"M 2753 4078 \nL 2450 4078 \nQ 2447 4313 2317 4434 \nQ 2188 4556 1941 4556 \nQ 1619 4556 1487 4379 \nQ 1356 4203 1356 3750 \nL 1356 3322 \nL 2284 3322 \nL 2284 2988 \nL 1356 2988 \nL 1356 331 \nL 2094 331 \nL 2094 0 \nL 231 0 \nL 231 331 \nL 781 331 \nL 781 2988 \nL 231 2988 \nL 231 3322 \nL 781 3322 \nL 781 3738 \nQ 781 4294 1070 4578 \nQ 1359 4863 1919 4863 \nQ 2128 4863 2337 4825 \nQ 2547 4788 2753 4709 \nL 2753 4078 \nz\n\" transform=\"scale(0.015625)\"/>\n      <path id=\"DejaVuSerif-52\" d=\"M 3066 2316 \nQ 3284 2256 3442 2114 \nQ 3600 1972 3725 1716 \nL 4403 331 \nL 4972 331 \nL 4972 0 \nL 3872 0 \nL 3144 1484 \nQ 2934 1916 2759 2042 \nQ 2584 2169 2278 2169 \nL 1581 2169 \nL 1581 331 \nL 2241 331 \nL 2241 0 \nL 353 0 \nL 353 331 \nL 947 331 \nL 947 4331 \nL 353 4331 \nL 353 4666 \nL 2719 4666 \nQ 3400 4666 3770 4341 \nQ 4141 4016 4141 3419 \nQ 4141 2938 3870 2661 \nQ 3600 2384 3066 2316 \nz\nM 1581 2503 \nL 2503 2503 \nQ 2975 2503 3200 2726 \nQ 3425 2950 3425 3419 \nQ 3425 3888 3200 4109 \nQ 2975 4331 2503 4331 \nL 1581 4331 \nL 1581 2503 \nz\n\" transform=\"scale(0.015625)\"/>\n     </defs>\n     <use xlink:href=\"#DejaVuSerif-44\"/>\n     <use xlink:href=\"#DejaVuSerif-69\" x=\"80.175781\"/>\n     <use xlink:href=\"#DejaVuSerif-61\" x=\"112.158203\"/>\n     <use xlink:href=\"#DejaVuSerif-67\" x=\"171.777344\"/>\n     <use xlink:href=\"#DejaVuSerif-6f\" x=\"235.791016\"/>\n     <use xlink:href=\"#DejaVuSerif-6e\" x=\"295.996094\"/>\n     <use xlink:href=\"#DejaVuSerif-61\" x=\"360.400391\"/>\n     <use xlink:href=\"#DejaVuSerif-6c\" x=\"420.019531\"/>\n     <use xlink:href=\"#DejaVuSerif-20\" x=\"452.001953\"/>\n     <use xlink:href=\"#DejaVuSerif-65\" x=\"483.789062\"/>\n     <use xlink:href=\"#DejaVuSerif-6e\" x=\"542.96875\"/>\n     <use xlink:href=\"#DejaVuSerif-74\" x=\"607.373047\"/>\n     <use xlink:href=\"#DejaVuSerif-72\" x=\"647.558594\"/>\n     <use xlink:href=\"#DejaVuSerif-69\" x=\"695.361328\"/>\n     <use xlink:href=\"#DejaVuSerif-65\" x=\"727.34375\"/>\n     <use xlink:href=\"#DejaVuSerif-73\" x=\"786.523438\"/>\n     <use xlink:href=\"#DejaVuSerif-20\" x=\"837.841797\"/>\n     <use xlink:href=\"#DejaVuSerif-6f\" x=\"869.628906\"/>\n     <use xlink:href=\"#DejaVuSerif-66\" x=\"929.833984\"/>\n     <use xlink:href=\"#DejaVuSerif-20\" x=\"966.845703\"/>\n     <use xlink:href=\"#DejaVuSerif-52\" x=\"998.632812\"/>\n    </g>\n   </g>\n   <g id=\"legend_1\">\n    <g id=\"patch_7\">\n     <path d=\"M 344.303125 74.3525 \nL 439.4 74.3525 \nQ 441.4 74.3525 441.4 72.3525 \nL 441.4 29.318125 \nQ 441.4 27.318125 439.4 27.318125 \nL 344.303125 27.318125 \nQ 342.303125 27.318125 342.303125 29.318125 \nL 342.303125 72.3525 \nQ 342.303125 74.3525 344.303125 74.3525 \nz\n\" style=\"fill: #ffffff; opacity: 0.8; stroke: #cccccc; stroke-linejoin: miter\"/>\n    </g>\n    <g id=\"line2d_38\">\n     <g>\n      <use xlink:href=\"#mf18a96cf72\" x=\"356.303125\" y=\"35.416563\" style=\"fill: #1f77b4; stroke: #1f77b4\"/>\n     </g>\n    </g>\n    <g id=\"text_21\">\n     <!-- Classical GS -->\n     <g transform=\"translate(374.303125 38.916563) scale(0.1 -0.1)\">\n      <defs>\n       <path id=\"DejaVuSerif-43\" d=\"M 4513 1234 \nQ 4306 581 3820 245 \nQ 3334 -91 2591 -91 \nQ 2134 -91 1743 65 \nQ 1353 222 1050 525 \nQ 700 875 529 1320 \nQ 359 1766 359 2328 \nQ 359 3416 987 4083 \nQ 1616 4750 2644 4750 \nQ 3025 4750 3456 4650 \nQ 3888 4550 4384 4347 \nL 4384 3272 \nL 4031 3272 \nQ 3916 3859 3567 4137 \nQ 3219 4416 2591 4416 \nQ 1844 4416 1459 3886 \nQ 1075 3356 1075 2328 \nQ 1075 1303 1459 773 \nQ 1844 244 2591 244 \nQ 3113 244 3450 492 \nQ 3788 741 3938 1234 \nL 4513 1234 \nz\n\" transform=\"scale(0.015625)\"/>\n       <path id=\"DejaVuSerif-63\" d=\"M 3291 997 \nQ 3169 466 2822 187 \nQ 2475 -91 1925 -91 \nQ 1200 -91 759 389 \nQ 319 869 319 1663 \nQ 319 2459 759 2936 \nQ 1200 3413 1925 3413 \nQ 2241 3413 2553 3339 \nQ 2866 3266 3181 3116 \nL 3181 2266 \nL 2847 2266 \nQ 2781 2703 2561 2903 \nQ 2341 3103 1931 3103 \nQ 1466 3103 1228 2742 \nQ 991 2381 991 1663 \nQ 991 944 1227 581 \nQ 1463 219 1931 219 \nQ 2303 219 2525 412 \nQ 2747 606 2828 997 \nL 3291 997 \nz\n\" transform=\"scale(0.015625)\"/>\n       <path id=\"DejaVuSerif-47\" d=\"M 4097 3272 \nQ 3988 3856 3641 4136 \nQ 3294 4416 2675 4416 \nQ 1869 4416 1472 3897 \nQ 1075 3378 1075 2328 \nQ 1075 1300 1484 772 \nQ 1894 244 2688 244 \nQ 3041 244 3362 331 \nQ 3684 419 3975 594 \nL 3975 1797 \nL 3097 1797 \nL 3097 2131 \nL 4609 2131 \nL 4609 391 \nQ 4194 150 3714 29 \nQ 3234 -91 2688 -91 \nQ 1631 -91 995 570 \nQ 359 1231 359 2328 \nQ 359 3434 996 4092 \nQ 1634 4750 2713 4750 \nQ 3113 4750 3539 4658 \nQ 3966 4566 4447 4378 \nL 4447 3272 \nL 4097 3272 \nz\n\" transform=\"scale(0.015625)\"/>\n       <path id=\"DejaVuSerif-53\" d=\"M 594 225 \nL 594 1288 \nL 953 1284 \nQ 969 753 1261 498 \nQ 1553 244 2150 244 \nQ 2706 244 2998 464 \nQ 3291 684 3291 1106 \nQ 3291 1444 3114 1625 \nQ 2938 1806 2369 1978 \nL 1753 2163 \nQ 1084 2366 811 2669 \nQ 538 2972 538 3500 \nQ 538 4094 959 4422 \nQ 1381 4750 2144 4750 \nQ 2469 4750 2856 4679 \nQ 3244 4609 3681 4475 \nL 3681 3481 \nL 3328 3481 \nQ 3275 3975 2998 4195 \nQ 2722 4416 2156 4416 \nQ 1663 4416 1405 4214 \nQ 1147 4013 1147 3628 \nQ 1147 3294 1340 3103 \nQ 1534 2913 2163 2725 \nL 2741 2553 \nQ 3375 2363 3645 2067 \nQ 3916 1772 3916 1275 \nQ 3916 597 3481 253 \nQ 3047 -91 2188 -91 \nQ 1803 -91 1404 -12 \nQ 1006 66 594 225 \nz\n\" transform=\"scale(0.015625)\"/>\n      </defs>\n      <use xlink:href=\"#DejaVuSerif-43\"/>\n      <use xlink:href=\"#DejaVuSerif-6c\" x=\"76.513672\"/>\n      <use xlink:href=\"#DejaVuSerif-61\" x=\"108.496094\"/>\n      <use xlink:href=\"#DejaVuSerif-73\" x=\"168.115234\"/>\n      <use xlink:href=\"#DejaVuSerif-73\" x=\"219.433594\"/>\n      <use xlink:href=\"#DejaVuSerif-69\" x=\"270.751953\"/>\n      <use xlink:href=\"#DejaVuSerif-63\" x=\"302.734375\"/>\n      <use xlink:href=\"#DejaVuSerif-61\" x=\"358.740234\"/>\n      <use xlink:href=\"#DejaVuSerif-6c\" x=\"418.359375\"/>\n      <use xlink:href=\"#DejaVuSerif-20\" x=\"450.341797\"/>\n      <use xlink:href=\"#DejaVuSerif-47\" x=\"482.128906\"/>\n      <use xlink:href=\"#DejaVuSerif-53\" x=\"562.011719\"/>\n     </g>\n    </g>\n    <g id=\"line2d_39\">\n     <g>\n      <use xlink:href=\"#mdc644f4507\" x=\"356.303125\" y=\"50.094688\" style=\"fill: #ff7f0e; stroke: #ff7f0e; stroke-linejoin: bevel\"/>\n     </g>\n    </g>\n    <g id=\"text_22\">\n     <!-- Modified GS -->\n     <g transform=\"translate(374.303125 53.594688) scale(0.1 -0.1)\">\n      <defs>\n       <path id=\"DejaVuSerif-4d\" d=\"M 353 0 \nL 353 331 \nL 947 331 \nL 947 4331 \nL 319 4331 \nL 319 4666 \nL 1678 4666 \nL 3316 1344 \nL 4953 4666 \nL 6228 4666 \nL 6228 4331 \nL 5606 4331 \nL 5606 331 \nL 6203 331 \nL 6203 0 \nL 4378 0 \nL 4378 331 \nL 4972 331 \nL 4972 3938 \nL 3372 684 \nL 2931 684 \nL 1331 3938 \nL 1331 331 \nL 1925 331 \nL 1925 0 \nL 353 0 \nz\n\" transform=\"scale(0.015625)\"/>\n       <path id=\"DejaVuSerif-64\" d=\"M 3359 331 \nL 3909 331 \nL 3909 0 \nL 2784 0 \nL 2784 519 \nQ 2616 206 2355 57 \nQ 2094 -91 1709 -91 \nQ 1097 -91 708 395 \nQ 319 881 319 1663 \nQ 319 2444 706 2928 \nQ 1094 3413 1709 3413 \nQ 2094 3413 2355 3264 \nQ 2616 3116 2784 2803 \nL 2784 4531 \nL 2241 4531 \nL 2241 4863 \nL 3359 4863 \nL 3359 331 \nz\nM 2784 1497 \nL 2784 1825 \nQ 2784 2422 2554 2737 \nQ 2325 3053 1888 3053 \nQ 1444 3053 1217 2703 \nQ 991 2353 991 1663 \nQ 991 975 1217 622 \nQ 1444 269 1888 269 \nQ 2325 269 2554 583 \nQ 2784 897 2784 1497 \nz\n\" transform=\"scale(0.015625)\"/>\n      </defs>\n      <use xlink:href=\"#DejaVuSerif-4d\"/>\n      <use xlink:href=\"#DejaVuSerif-6f\" x=\"102.392578\"/>\n      <use xlink:href=\"#DejaVuSerif-64\" x=\"162.597656\"/>\n      <use xlink:href=\"#DejaVuSerif-69\" x=\"226.611328\"/>\n      <use xlink:href=\"#DejaVuSerif-66\" x=\"258.59375\"/>\n      <use xlink:href=\"#DejaVuSerif-69\" x=\"295.605469\"/>\n      <use xlink:href=\"#DejaVuSerif-65\" x=\"327.587891\"/>\n      <use xlink:href=\"#DejaVuSerif-64\" x=\"386.767578\"/>\n      <use xlink:href=\"#DejaVuSerif-20\" x=\"450.78125\"/>\n      <use xlink:href=\"#DejaVuSerif-47\" x=\"482.568359\"/>\n      <use xlink:href=\"#DejaVuSerif-53\" x=\"562.451172\"/>\n     </g>\n    </g>\n    <g id=\"line2d_40\">\n     <path d=\"M 346.303125 64.772813 \nL 356.303125 64.772813 \nL 366.303125 64.772813 \n\" style=\"fill: none; stroke-dasharray: 5.55,2.4; stroke-dashoffset: 0; stroke: #2ca02c; stroke-width: 1.5\"/>\n    </g>\n    <g id=\"text_23\">\n     <!-- $2^{-j}$ -->\n     <g transform=\"translate(374.303125 68.272813) scale(0.1 -0.1)\">\n      <defs>\n       <path id=\"DejaVuSans-32\" d=\"M 1228 531 \nL 3431 531 \nL 3431 0 \nL 469 0 \nL 469 531 \nQ 828 903 1448 1529 \nQ 2069 2156 2228 2338 \nQ 2531 2678 2651 2914 \nQ 2772 3150 2772 3378 \nQ 2772 3750 2511 3984 \nQ 2250 4219 1831 4219 \nQ 1534 4219 1204 4116 \nQ 875 4013 500 3803 \nL 500 4441 \nQ 881 4594 1212 4672 \nQ 1544 4750 1819 4750 \nQ 2544 4750 2975 4387 \nQ 3406 4025 3406 3419 \nQ 3406 3131 3298 2873 \nQ 3191 2616 2906 2266 \nQ 2828 2175 2409 1742 \nQ 1991 1309 1228 531 \nz\n\" transform=\"scale(0.015625)\"/>\n       <path id=\"DejaVuSans-2212\" d=\"M 678 2272 \nL 4684 2272 \nL 4684 1741 \nL 678 1741 \nL 678 2272 \nz\n\" transform=\"scale(0.015625)\"/>\n      </defs>\n      <use xlink:href=\"#DejaVuSans-32\" transform=\"translate(0 0.529687)\"/>\n      <use xlink:href=\"#DejaVuSans-2212\" transform=\"translate(64.580078 38.810937) scale(0.7)\"/>\n      <use xlink:href=\"#DejaVuSans-Oblique-6a\" transform=\"translate(123.232422 38.810937) scale(0.7)\"/>\n     </g>\n    </g>\n   </g>\n  </g>\n </g>\n <defs>\n  <clipPath id=\"pf8ca69ed65\">\n   <rect x=\"55.778125\" y=\"22.318125\" width=\"390.621875\" height=\"278.525625\"/>\n  </clipPath>\n </defs>\n</svg>\n",
      "text/plain": [
       "<Figure size 640x480 with 1 Axes>"
      ]
     },
     "metadata": {},
     "output_type": "display_data"
    }
   ],
   "source": [
    "plt.semilogy(np.diag(Rc),'o',label='Classical GS')\n",
    "plt.semilogy(np.diag(Rm),'*',label='Modified GS')\n",
    "plt.semilogy(2.0**np.arange(-1,-81,-1),'--',label='$2^{-j}$')\n",
    "plt.xlabel(\"j\"); plt.ylabel(\"$r_{jj}$\")\n",
    "plt.title(\"Diagonal entries of R\")\n",
    "plt.grid(True); plt.legend();"
   ]
  },
  {
   "cell_type": "markdown",
   "id": "cb3c5f3f",
   "metadata": {},
   "source": [
    "## A $2 \\times 2$ example: numerical loss of orthogonality\n",
    "\n",
    "The `qr` function in `numpy` uses Housholder triangularization. We test it on a matrix whose columns are almost parallel and compare with GS algorithm."
   ]
  },
  {
   "cell_type": "code",
   "execution_count": 31,
   "id": "f554b8c1",
   "metadata": {
    "scrolled": true
   },
   "outputs": [
    {
     "name": "stdout",
     "output_type": "stream",
     "text": [
      "Householder QR =  2.3411870786352597e-16\n",
      "Modified GS QR =  3.254726094493924e-11\n"
     ]
    }
   ],
   "source": [
    "A = np.array([[0.70000, 0.70711],\n",
    "              [0.70001, 0.70711]])\n",
    "Q, R = np.linalg.qr(A)\n",
    "print('Householder QR = ',np.linalg.norm(Q.T @ Q - np.eye(2)))\n",
    "Q, R = mgs(A)\n",
    "print('Modified GS QR = ',np.linalg.norm(Q.T @ Q - np.eye(2)))"
   ]
  },
  {
   "cell_type": "markdown",
   "id": "01e26b01",
   "metadata": {},
   "source": [
    "The orthonormality of columns of $Q$ is not accurate to machine precision using the modified GS algorithm."
   ]
  },
  {
   "cell_type": "markdown",
   "id": "bbbe75ab",
   "metadata": {},
   "source": [
    "## Householder triangularization\n",
    "\n",
    "The Householder method returns the full QR factorization. In the Algorithm given in the book, $R$ is computed in place of $A$, but here we make a copy and then modify it, because we want to keep $A$ for verification."
   ]
  },
  {
   "cell_type": "code",
   "execution_count": 32,
   "id": "19ce2bba",
   "metadata": {},
   "outputs": [],
   "source": [
    "# We need sign function with sign(0) = 1\n",
    "def sign(x):\n",
    "    if x >= 0.0:\n",
    "        return 1.0\n",
    "    else:\n",
    "        return -1.0\n",
    "\n",
    "def house(A):    \n",
    "    # Algorithm 10.1\n",
    "    R = A.copy()\n",
    "    m, n = A.shape\n",
    "    V = []\n",
    "    for k in range(n):\n",
    "        x = R[k:m,k]\n",
    "        e1 = np.zeros_like(x); e1[0] = 1.0\n",
    "        v = sign(x[0]) * np.linalg.norm(x) * e1 + x\n",
    "        v = v / np.linalg.norm(v); V.append(v)\n",
    "        for j in range(k,n):\n",
    "            R[k:m,j] = R[k:m,j] - 2.0 * v * np.dot(v, R[k:m,j])\n",
    "    \n",
    "    # Algorithm 10.3\n",
    "    # Compute Q as Q*I\n",
    "    Q = np.empty((m,m))\n",
    "    for i in range(m): # Compute i'th column of Q\n",
    "        x = np.zeros(m)\n",
    "        x[i] = 1.0\n",
    "        for k in range(n-1,-1,-1):\n",
    "            x[k:m] = x[k:m] - 2.0 * np.dot(V[k],x[k:m]) * V[k]\n",
    "        Q[:,i] = x\n",
    "        \n",
    "    return Q, R"
   ]
  },
  {
   "cell_type": "markdown",
   "id": "04d84ecf",
   "metadata": {},
   "source": [
    "Let us test the above method."
   ]
  },
  {
   "cell_type": "code",
   "execution_count": 33,
   "id": "1a03979d",
   "metadata": {},
   "outputs": [],
   "source": [
    "m, n = 10, 5\n",
    "A = 2 * np.random.rand(m,n) - 1\n",
    "Q, R = house(A)"
   ]
  },
  {
   "cell_type": "markdown",
   "id": "c4dc6959",
   "metadata": {},
   "source": [
    "Check that $A=QR$ is satisfied"
   ]
  },
  {
   "cell_type": "code",
   "execution_count": 34,
   "id": "3c7194a0",
   "metadata": {
    "scrolled": true
   },
   "outputs": [
    {
     "data": {
      "text/plain": [
       "1.648919224296393e-15"
      ]
     },
     "execution_count": 34,
     "metadata": {},
     "output_type": "execute_result"
    }
   ],
   "source": [
    "np.linalg.norm(A - Q @ R)"
   ]
  },
  {
   "cell_type": "markdown",
   "id": "5e3eda5f",
   "metadata": {},
   "source": [
    "Chect that columns of $Q$ are orthonormal"
   ]
  },
  {
   "cell_type": "code",
   "execution_count": 35,
   "id": "9eb5a1e4",
   "metadata": {},
   "outputs": [
    {
     "data": {
      "text/plain": [
       "1.5368965942199538e-15"
      ]
     },
     "execution_count": 35,
     "metadata": {},
     "output_type": "execute_result"
    }
   ],
   "source": [
    "np.linalg.norm(Q.T @ Q - np.eye(m))"
   ]
  },
  {
   "cell_type": "markdown",
   "id": "0cb80a0c",
   "metadata": {},
   "source": [
    "## A $2 \\times 2$ example: numerical loss of orthogonality\n",
    "\n",
    "We repeat the previous test using our own implementation of Householder."
   ]
  },
  {
   "cell_type": "code",
   "execution_count": 36,
   "id": "279f06fb",
   "metadata": {},
   "outputs": [
    {
     "name": "stdout",
     "output_type": "stream",
     "text": [
      "Householder QR =  1.111052298468932e-16\n",
      "Modified GS QR =  3.254726094493924e-11\n"
     ]
    }
   ],
   "source": [
    "A = np.array([[0.70000, 0.70711],\n",
    "              [0.70001, 0.70711]])\n",
    "Q, R = house(A)\n",
    "print('Householder QR = ', np.linalg.norm(Q.T @ Q - np.eye(2)))\n",
    "Q, R = mgs(A)\n",
    "print('Modified GS QR = ',np.linalg.norm(Q.T @ Q - np.eye(2)))"
   ]
  }
 ],
 "metadata": {
  "kernelspec": {
   "display_name": "Python 3.10.6 ('base')",
   "language": "python",
   "name": "python3"
  },
  "language_info": {
   "codemirror_mode": {
    "name": "ipython",
    "version": 3
   },
   "file_extension": ".py",
   "mimetype": "text/x-python",
   "name": "python",
   "nbconvert_exporter": "python",
   "pygments_lexer": "ipython3",
   "version": "3.10.6"
  },
  "vscode": {
   "interpreter": {
    "hash": "c6e4e9f98eb68ad3b7c296f83d20e6de614cb42e90992a65aa266555a3137d0d"
   }
  }
 },
 "nbformat": 4,
 "nbformat_minor": 5
}
