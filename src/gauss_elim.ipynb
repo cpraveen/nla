{
 "cells": [
  {
   "cell_type": "markdown",
   "id": "0bb8950c",
   "metadata": {},
   "source": [
    "$\\newcommand{\\re}{\\mathbb{R}}$\n",
    "# Gaussian elimination\n",
    "Given $A \\in \\re^{m \\times m}$, we want to write it as\n",
    "\n",
    "$$\n",
    "A = L U\n",
    "$$\n",
    "\n",
    "where $L$ is lower triangular and $U$ is upper triangular."
   ]
  },
  {
   "cell_type": "code",
   "execution_count": 15,
   "id": "84ea0ec9",
   "metadata": {},
   "outputs": [],
   "source": [
    "%config InlineBackend.figure_format = 'svg'\n",
    "import numpy as np\n",
    "import matplotlib.pyplot as plt"
   ]
  },
  {
   "cell_type": "markdown",
   "id": "c4aa6138",
   "metadata": {},
   "source": [
    "## Gaussian elimination without pivoting"
   ]
  },
  {
   "cell_type": "markdown",
   "id": "6e6b3c46",
   "metadata": {},
   "source": [
    "We now implement Algorithm 20.1."
   ]
  },
  {
   "cell_type": "code",
   "execution_count": 16,
   "id": "3b974c01",
   "metadata": {},
   "outputs": [],
   "source": [
    "def LU(A):\n",
    "    m = A.shape[0]\n",
    "    U = A.copy(); L = np.eye(m)\n",
    "    for k in range(m-1):\n",
    "        for j in range(k+1,m):\n",
    "            L[j,k] = U[j,k] / U[k,k]\n",
    "            U[j,k:] = U[j,k:] - L[j,k] * U[k,k:]\n",
    "    return L, U"
   ]
  },
  {
   "cell_type": "markdown",
   "id": "597840cf",
   "metadata": {},
   "source": [
    "Generate a random matrix and compute the decomposition"
   ]
  },
  {
   "cell_type": "code",
   "execution_count": 17,
   "id": "0128c75f",
   "metadata": {},
   "outputs": [],
   "source": [
    "m = 10\n",
    "A = 2 * np.random.rand(m,m) - 1\n",
    "L, U = LU(A)"
   ]
  },
  {
   "cell_type": "markdown",
   "id": "492873d8",
   "metadata": {},
   "source": [
    "Test that $A = L U$ is satisfied, compute $\\| A - L U \\|$"
   ]
  },
  {
   "cell_type": "code",
   "execution_count": 18,
   "id": "d1bce2ed",
   "metadata": {
    "scrolled": false
   },
   "outputs": [
    {
     "data": {
      "text/plain": [
       "1.4721408350624578e-13"
      ]
     },
     "execution_count": 18,
     "metadata": {},
     "output_type": "execute_result"
    }
   ],
   "source": [
    "np.linalg.norm(A - L @ U)"
   ]
  },
  {
   "cell_type": "markdown",
   "id": "436e4031",
   "metadata": {},
   "source": [
    "## Solution using LU decomposition\n",
    "\n",
    "This performs performs solution of\n",
    "$$\n",
    "LUx=b\n",
    "$$\n",
    "in two steps. In first step, solve\n",
    "$$\n",
    "Ly = b\n",
    "$$\n",
    "using\n",
    "$$\n",
    "y_i = \\frac{1}{L_{ii}} \\left[b_i - \\sum_{j=0}^{i-1} L_{ij} y_j\\right], \\qquad i=0,1,\\ldots,m-1\n",
    "$$\n",
    "Note that $L_{ii}=1$, so we can drop the division step. In second step, solve\n",
    "$$\n",
    "Ux = y\n",
    "$$\n",
    "using\n",
    "$$\n",
    "x_i = \\frac{1}{U_{ii}}\\left[y_i - \\sum_{j=i+1}^{m-1} U_{ij} x_j \\right], \\qquad i=m-1,m-2,\\ldots,0\n",
    "$$"
   ]
  },
  {
   "cell_type": "code",
   "execution_count": 19,
   "id": "93e04297",
   "metadata": {},
   "outputs": [],
   "source": [
    "def LUSolve(L,U,b):\n",
    "    m = L.shape[0]\n",
    "    # solve Ly = b\n",
    "    y = np.empty_like(b)\n",
    "    for i in range(m):\n",
    "        y[i] = b[i] - L[i,0:i].dot(y[0:i])\n",
    "    # solve Ux = y\n",
    "    x = np.empty_like(b)\n",
    "    for i in range(m-1,-1,-1):\n",
    "        x[i] = (y[i] - U[i,i+1:m].dot(x[i+1:m]))/U[i,i]\n",
    "    return x"
   ]
  },
  {
   "cell_type": "markdown",
   "id": "cf82f5d5",
   "metadata": {},
   "source": [
    "Create a random right hand side vector $b$ and solve $A x = b$."
   ]
  },
  {
   "cell_type": "code",
   "execution_count": 20,
   "id": "76bc5e79",
   "metadata": {},
   "outputs": [
    {
     "name": "stdout",
     "output_type": "stream",
     "text": [
      "7.732516367787124e-13\n"
     ]
    }
   ],
   "source": [
    "b = np.random.rand(m)\n",
    "x = LUSolve(L,U,b)\n",
    "print(np.linalg.norm(A@x - b))"
   ]
  },
  {
   "cell_type": "markdown",
   "id": "38d42b9c",
   "metadata": {},
   "source": [
    "## Example\n",
    "\n",
    "Solve $A x = b$ with \n",
    "\n",
    "$$\n",
    "A = \\begin{bmatrix}\n",
    "10^{-20} & 1 \\\\\n",
    "1 & 1 \\end{bmatrix}, \\qquad\n",
    "b = \\begin{bmatrix}\n",
    "1 \\\\ 0 \\end{bmatrix}\n",
    "$$\n",
    "\n",
    "whose exact solution is\n",
    "\n",
    "$$\n",
    "x \\approx \\begin{bmatrix} -1 \\\\ 1 \\end{bmatrix}\n",
    "$$"
   ]
  },
  {
   "cell_type": "code",
   "execution_count": 21,
   "id": "460d1bf9",
   "metadata": {},
   "outputs": [
    {
     "name": "stdout",
     "output_type": "stream",
     "text": [
      "x    =  [0. 1.]\n",
      "Ax-b =  [0. 1.]\n"
     ]
    }
   ],
   "source": [
    "A = np.array([[1.0e-20,  1.0],\n",
    "              [1.0,      1.0]])\n",
    "L, U = LU(A)\n",
    "b = np.array([1.0, 0.0])\n",
    "x = LUSolve(L,U,b)\n",
    "print('x    = ', x)\n",
    "print('Ax-b = ', A@x-b)"
   ]
  },
  {
   "cell_type": "markdown",
   "id": "3ff9754f",
   "metadata": {},
   "source": [
    "If we interchange the two equations, then"
   ]
  },
  {
   "cell_type": "code",
   "execution_count": 22,
   "id": "460d1bf9",
   "metadata": {},
   "outputs": [
    {
     "name": "stdout",
     "output_type": "stream",
     "text": [
      "x    =  [-1.  1.]\n",
      "Ax-b =  [0. 0.]\n"
     ]
    }
   ],
   "source": [
    "A = np.array([[1.0,      1.0],\n",
    "              [1.0e-20,  1.0]])\n",
    "L, U = LU(A)\n",
    "b = np.array([0.0, 1.0])\n",
    "x = LUSolve(L,U,b)\n",
    "print('x    = ', x)\n",
    "print('Ax-b = ', A@x-b)"
   ]
  },
  {
   "cell_type": "markdown",
   "id": "f6fa8d89",
   "metadata": {},
   "source": [
    "## Gaussian elimination with pivoting"
   ]
  }
 ],
 "metadata": {
  "kernelspec": {
   "display_name": "Python 3 (ipykernel)",
   "language": "python",
   "name": "python3"
  },
  "language_info": {
   "codemirror_mode": {
    "name": "ipython",
    "version": 3
   },
   "file_extension": ".py",
   "mimetype": "text/x-python",
   "name": "python",
   "nbconvert_exporter": "python",
   "pygments_lexer": "ipython3",
   "version": "3.10.6"
  },
  "vscode": {
   "interpreter": {
    "hash": "c6e4e9f98eb68ad3b7c296f83d20e6de614cb42e90992a65aa266555a3137d0d"
   }
  }
 },
 "nbformat": 4,
 "nbformat_minor": 5
}
