{
 "cells": [
  {
   "cell_type": "markdown",
   "id": "0bb8950c",
   "metadata": {},
   "source": [
    "$\\newcommand{\\re}{\\mathbb{R}}$\n",
    "# Gaussian elimination\n",
    "Given $A \\in \\re^{m \\times m}$, we want to write it as\n",
    "\n",
    "$$\n",
    "A = L U\n",
    "$$\n",
    "\n",
    "where $L$ is lower triangular and $U$ is upper triangular."
   ]
  },
  {
   "cell_type": "code",
   "execution_count": 1,
   "id": "84ea0ec9",
   "metadata": {},
   "outputs": [],
   "source": [
    "import numpy as np"
   ]
  },
  {
   "cell_type": "markdown",
   "id": "c4aa6138",
   "metadata": {},
   "source": [
    "## Gaussian elimination without pivoting"
   ]
  },
  {
   "cell_type": "markdown",
   "id": "6e6b3c46",
   "metadata": {},
   "source": [
    "We now implement Algorithm 20.1."
   ]
  },
  {
   "cell_type": "code",
   "execution_count": 2,
   "id": "3b974c01",
   "metadata": {},
   "outputs": [],
   "source": [
    "def LU(A):\n",
    "    m = A.shape[0]\n",
    "    U = A.copy(); L = np.eye(m)\n",
    "    for k in range(m-1):\n",
    "        for j in range(k+1,m):\n",
    "            L[j,k] = U[j,k] / U[k,k]\n",
    "            U[j,k:] = U[j,k:] - L[j,k] * U[k,k:]\n",
    "    return L, U"
   ]
  },
  {
   "cell_type": "markdown",
   "id": "597840cf",
   "metadata": {},
   "source": [
    "Generate a random matrix and compute the decomposition"
   ]
  },
  {
   "cell_type": "code",
   "execution_count": 3,
   "id": "0128c75f",
   "metadata": {},
   "outputs": [],
   "source": [
    "m = 10\n",
    "A = 2 * np.random.rand(m,m) - 1\n",
    "L, U = LU(A)"
   ]
  },
  {
   "cell_type": "markdown",
   "id": "492873d8",
   "metadata": {},
   "source": [
    "Test that $A = L U$ is satisfied, compute $\\max| A - L U |$ over all elements"
   ]
  },
  {
   "cell_type": "code",
   "execution_count": 4,
   "id": "d1bce2ed",
   "metadata": {},
   "outputs": [
    {
     "name": "stdout",
     "output_type": "stream",
     "text": [
      "max|A-LU| =  5.928590951498336e-14\n"
     ]
    }
   ],
   "source": [
    "print('max|A-LU| = ', np.abs(A - L @ U).max())"
   ]
  },
  {
   "cell_type": "markdown",
   "id": "436e4031",
   "metadata": {},
   "source": [
    "## Solution using LU decomposition\n",
    "\n",
    "This performs performs solution of\n",
    "$$\n",
    "LUx=b\n",
    "$$\n",
    "in two steps. \n",
    "\n",
    "In first step, solve\n",
    "$$\n",
    "Ly = b\n",
    "$$\n",
    "using\n",
    "$$\n",
    "y_i = \\frac{1}{L_{ii}} \\left[b_i - \\sum_{j=0}^{i-1} L_{ij} y_j\\right], \\qquad i=0,1,\\ldots,m-1\n",
    "$$\n",
    "Note that $L_{ii}=1$, so we can drop the division step. \n",
    "\n",
    "In second step, solve\n",
    "$$\n",
    "Ux = y\n",
    "$$\n",
    "using\n",
    "$$\n",
    "x_i = \\frac{1}{U_{ii}}\\left[y_i - \\sum_{j=i+1}^{m-1} U_{ij} x_j \\right], \\qquad i=m-1,m-2,\\ldots,0\n",
    "$$"
   ]
  },
  {
   "cell_type": "code",
   "execution_count": 5,
   "id": "93e04297",
   "metadata": {},
   "outputs": [],
   "source": [
    "def LUSolve(L,U,b):\n",
    "    m = L.shape[0]\n",
    "    # solve Ly = b\n",
    "    y = np.empty_like(b)\n",
    "    for i in range(m):\n",
    "        y[i] = b[i] - np.dot(L[i,0:i], y[0:i])\n",
    "    # solve Ux = y\n",
    "    x = np.empty_like(b)\n",
    "    for i in range(m-1,-1,-1):\n",
    "        x[i] = (y[i] - np.dot(U[i,i+1:m],x[i+1:m])) / U[i,i]\n",
    "    return x"
   ]
  },
  {
   "cell_type": "markdown",
   "id": "cf82f5d5",
   "metadata": {},
   "source": [
    "Create a random right hand side vector $b$ and solve $A x = b$."
   ]
  },
  {
   "cell_type": "code",
   "execution_count": 6,
   "id": "76bc5e79",
   "metadata": {},
   "outputs": [
    {
     "name": "stdout",
     "output_type": "stream",
     "text": [
      "||Ax-b|| =  1.1834977442504169e-13\n"
     ]
    }
   ],
   "source": [
    "b = np.random.rand(m)\n",
    "x = LUSolve(L,U,b)\n",
    "print('||Ax-b|| = ',np.linalg.norm(A@x - b, np.inf))"
   ]
  },
  {
   "cell_type": "markdown",
   "id": "112bb0c1",
   "metadata": {},
   "source": [
    "**Minimizing memory:** We have used two vectors `x` and `y` to implement the solution but we can manage with only one. We solve as\n",
    "\n",
    " 1) $x = L^{-1} b$\n",
    " 1) $x = U^{-1} x$\n",
    "\n",
    "In the second step, we can overwrite into $x$ during backward substition since $U$ is upper triagular.\n",
    "\n",
    "```python\n",
    "def LUSolve(L,U,b):\n",
    "    m = L.shape[0]\n",
    "    x = np.empty_like(b)\n",
    "    # solve Ly = b\n",
    "    y = x           # y is a pointer to x\n",
    "    for i in range(m):\n",
    "        y[i] = b[i] - np.dot(L[i,0:i], y[0:i])\n",
    "    # solve Ux = y\n",
    "    for i in range(m-1,-1,-1):\n",
    "        x[i] = (y[i] - np.dot(U[i,i+1:m],x[i+1:m])) / U[i,i]\n",
    "    return x\n",
    "```"
   ]
  },
  {
   "cell_type": "markdown",
   "id": "38d42b9c",
   "metadata": {},
   "source": [
    "## Example: failure of Gaussian elimination\n",
    "\n",
    "Solve $A x = b$ with \n",
    "\n",
    "$$\n",
    "A = \\begin{bmatrix}\n",
    "10^{-20} & 1 \\\\\n",
    "1 & 1 \\end{bmatrix}, \\qquad\n",
    "b = \\begin{bmatrix}\n",
    "1 \\\\ 0 \\end{bmatrix}\n",
    "$$\n",
    "\n",
    "whose exact solution is\n",
    "\n",
    "$$\n",
    "x = \\frac{1}{1 - 10^{-20}} \\begin{bmatrix} -1 \\\\ 1 \\end{bmatrix}\n",
    "\\approx \\begin{bmatrix} -1 \\\\ 1 \\end{bmatrix}\n",
    "$$"
   ]
  },
  {
   "cell_type": "code",
   "execution_count": 7,
   "id": "460d1bf9",
   "metadata": {},
   "outputs": [
    {
     "name": "stdout",
     "output_type": "stream",
     "text": [
      "x    =  [0. 1.]\n",
      "Ax-b =  [0. 1.]\n"
     ]
    }
   ],
   "source": [
    "A = np.array([[1.0e-20,  1.0],\n",
    "              [1.0,      1.0]])\n",
    "L, U = LU(A)\n",
    "b = np.array([1.0, 0.0])\n",
    "x = LUSolve(L,U,b)\n",
    "print('x    = ', x)\n",
    "print('Ax-b = ', A@x-b)"
   ]
  },
  {
   "cell_type": "markdown",
   "id": "3ff9754f",
   "metadata": {},
   "source": [
    "If we interchange the two equations, then"
   ]
  },
  {
   "cell_type": "code",
   "execution_count": 8,
   "id": "ad382a1d",
   "metadata": {},
   "outputs": [
    {
     "name": "stdout",
     "output_type": "stream",
     "text": [
      "x    =  [-1.  1.]\n",
      "Ax-b =  [0. 0.]\n"
     ]
    }
   ],
   "source": [
    "A = np.array([[1.0,      1.0],\n",
    "              [1.0e-20,  1.0]])\n",
    "L, U = LU(A)\n",
    "b = np.array([0.0, 1.0])\n",
    "x = LUSolve(L,U,b)\n",
    "print('x    = ', x)\n",
    "print('Ax-b = ', A@x-b)"
   ]
  },
  {
   "cell_type": "markdown",
   "id": "f6fa8d89",
   "metadata": {},
   "source": [
    "## Gaussian elimination with partial pivoting\n",
    "\n",
    "The rows are swapped in the pivoting step and the decomposition is of the form\n",
    "\n",
    "$$\n",
    "P A = L U\n",
    "$$\n",
    "\n",
    "where $P$ is a permutation matrix. In the code, we store a permuation vector rather than a matrix."
   ]
  },
  {
   "cell_type": "code",
   "execution_count": 9,
   "id": "3f94af30",
   "metadata": {},
   "outputs": [],
   "source": [
    "def PLU(A):\n",
    "    m = A.shape[0]\n",
    "    U = A.copy(); L = np.eye(m)\n",
    "    P = np.arange(m,dtype=int) # Permutation matrix\n",
    "    for k in range(m-1):\n",
    "        i = np.argmax(np.abs(U[k:m,k])) + k\n",
    "        U[[k,i],k:m] = U[[i,k],k:m] # swap row i and k\n",
    "        L[[k,i],0:k] = L[[i,k],0:k] # swap row i and k\n",
    "        P[[k,i]] = P[[i,k]]         # swap row i and k\n",
    "        for j in range(k+1,m):\n",
    "            L[j,k] = U[j,k] / U[k,k]\n",
    "            U[j,k:m] = U[j,k:m] - L[j,k] * U[k,k:m]\n",
    "    return L, U, P"
   ]
  },
  {
   "cell_type": "markdown",
   "id": "46d2dbd5",
   "metadata": {},
   "source": [
    "Now we test the above function for LU decomposition."
   ]
  },
  {
   "cell_type": "code",
   "execution_count": 10,
   "id": "d0df58d8",
   "metadata": {},
   "outputs": [
    {
     "name": "stdout",
     "output_type": "stream",
     "text": [
      "A =\n",
      " [[0.29659426 0.15741413 0.14600162]\n",
      " [0.30959818 0.71729376 0.16346723]\n",
      " [0.29512193 0.55579611 0.37240921]]\n",
      "L =\n",
      " [[1.         0.         0.        ]\n",
      " [0.95799743 1.         0.        ]\n",
      " [0.95324181 0.24154402 1.        ]]\n",
      "U =\n",
      " [[ 0.30959818  0.71729376  0.16346723]\n",
      " [ 0.         -0.52975145 -0.01059957]\n",
      " [ 0.          0.          0.21914568]]\n",
      "P =\n",
      " [1 0 2]\n",
      "Pm=\n",
      " [[0. 1. 0.]\n",
      " [1. 0. 0.]\n",
      " [0. 0. 1.]]\n",
      "PA-LU =\n",
      " [[0. 0. 0.]\n",
      " [0. 0. 0.]\n",
      " [0. 0. 0.]]\n"
     ]
    }
   ],
   "source": [
    "m = 3\n",
    "A = np.random.rand(m, m)\n",
    "L, U, P = PLU(A)\n",
    "print(\"A =\\n\", A)\n",
    "print(\"L =\\n\", L)\n",
    "print(\"U =\\n\", U)\n",
    "print(\"P =\\n\", P)\n",
    "\n",
    "# Create a permutation matrix from the P vector\n",
    "Pm = np.zeros((m, m))\n",
    "for i in range(m):\n",
    "    Pm[i, P[i]] = 1.0\n",
    "print(\"Pm=\\n\", Pm)\n",
    "print(\"PA-LU =\\n\", Pm@A - L@U)"
   ]
  },
  {
   "cell_type": "markdown",
   "id": "d26b64da",
   "metadata": {},
   "source": [
    "When we solve, we have to permute the right hand side vector $b$."
   ]
  },
  {
   "cell_type": "code",
   "execution_count": 11,
   "id": "68c9e146",
   "metadata": {},
   "outputs": [],
   "source": [
    "def PLUSolve(L,U,P,b):\n",
    "    m = L.shape[0]\n",
    "    # solve Ly = b\n",
    "    y = np.empty_like(b)\n",
    "    for i in range(m):\n",
    "        y[i] = b[P[i]] - np.dot(L[i,0:i], y[0:i])\n",
    "    # solve Ux = y\n",
    "    x = np.empty_like(b)\n",
    "    for i in range(m-1,-1,-1):\n",
    "        x[i] = (y[i] - np.dot(U[i,i+1:m], x[i+1:m])) / U[i,i]\n",
    "    return x"
   ]
  },
  {
   "cell_type": "markdown",
   "id": "53ee9fae",
   "metadata": {},
   "source": [
    "## Example: revisit failure case"
   ]
  },
  {
   "cell_type": "code",
   "execution_count": 12,
   "id": "aa3f0c73",
   "metadata": {},
   "outputs": [
    {
     "name": "stdout",
     "output_type": "stream",
     "text": [
      "x    =  [-1.  1.]\n",
      "Ax-b =  [0. 0.]\n"
     ]
    }
   ],
   "source": [
    "A = np.array([[1.0e-20,  1.0],\n",
    "              [1.0,      1.0]])\n",
    "L, U, P = PLU(A)\n",
    "b = np.array([1.0, 0.0])\n",
    "x = PLUSolve(L,U,P,b)\n",
    "print('x    = ', x)\n",
    "print('Ax-b = ', A@x-b)"
   ]
  },
  {
   "cell_type": "markdown",
   "id": "c30d1262",
   "metadata": {},
   "source": [
    "## Example\n",
    "\n",
    "We try a problem with a random matrix and right hand side."
   ]
  },
  {
   "cell_type": "code",
   "execution_count": 13,
   "id": "0805285f",
   "metadata": {},
   "outputs": [
    {
     "name": "stdout",
     "output_type": "stream",
     "text": [
      "||Ax-b|| =  6.661338147750939e-16\n"
     ]
    }
   ],
   "source": [
    "m = 10\n",
    "A = 2 * np.random.rand(m,m) - 1\n",
    "L, U, P = PLU(A)\n",
    "b = np.random.rand(m)\n",
    "x = PLUSolve(L,U,P,b)\n",
    "print('||Ax-b|| = ',np.linalg.norm(A@x - b, np.inf))"
   ]
  },
  {
   "cell_type": "markdown",
   "id": "f8500aac",
   "metadata": {},
   "source": [
    "Here is the permutation vector."
   ]
  },
  {
   "cell_type": "code",
   "execution_count": 14,
   "id": "123cd074",
   "metadata": {},
   "outputs": [
    {
     "name": "stdout",
     "output_type": "stream",
     "text": [
      "P =  [5 8 0 2 1 4 9 3 6 7]\n"
     ]
    }
   ],
   "source": [
    "print('P = ',P)"
   ]
  }
 ],
 "metadata": {
  "kernelspec": {
   "display_name": "Python 3 (ipykernel)",
   "language": "python",
   "name": "python3"
  },
  "language_info": {
   "codemirror_mode": {
    "name": "ipython",
    "version": 3
   },
   "file_extension": ".py",
   "mimetype": "text/x-python",
   "name": "python",
   "nbconvert_exporter": "python",
   "pygments_lexer": "ipython3",
   "version": "3.10.7"
  },
  "vscode": {
   "interpreter": {
    "hash": "c6e4e9f98eb68ad3b7c296f83d20e6de614cb42e90992a65aa266555a3137d0d"
   }
  }
 },
 "nbformat": 4,
 "nbformat_minor": 5
}
