{
 "cells": [
  {
   "cell_type": "markdown",
   "id": "0bb8950c",
   "metadata": {},
   "source": [
    "$\\newcommand{\\re}{\\mathbb{R}}$\n",
    "# Triangular systems\n",
    "Given $L \\in \\re^{m \\times m}$ lower-triangular, non-singular matrix, we want to solve\n",
    "\n",
    "$$\n",
    "L x = b\n",
    "$$\n",
    "\n",
    "The $i$'th equation is\n",
    "\n",
    "$$\n",
    "\\sum_{j=0}^{m-1} L_{ij} x_j = b_i, \\qquad 0 \\le i \\le m-1\n",
    "$$\n",
    "\n",
    "and since $L$ is lower-triangular, this simplifies to\n",
    "\n",
    "$$\n",
    "\\sum_{j=0}^{i} L_{ij} x_j = b_i\n",
    "$$\n",
    "\n",
    "which can be solved for $x_i$\n",
    "\n",
    "$$\n",
    "x_i = \\frac{1}{L_{ii}} \\left[b_i - \\sum_{j=0}^{i-1} L_{ij} x_j\\right]\n",
    "$$\n",
    "\n",
    "We can solve using forward-substitution, i.e., solve for $x_0$, then $x_1$, and so on.\n",
    "\n",
    "**Forward-substitution**: For $i=0,1,2,\\ldots,m-1$\n",
    "\n",
    "$$\n",
    "x_i = \\frac{1}{L_{ii}} \\left[b_i - \\sum_{j=0}^{i-1} L_{ij} x_j\\right]\n",
    "$$\n",
    "\n",
    "Since $L$ is non-singular, the diagonal entries are non-zero, $L_{ii} \\ne 0$."
   ]
  },
  {
   "cell_type": "code",
   "execution_count": 9,
   "id": "84ea0ec9",
   "metadata": {},
   "outputs": [],
   "source": [
    "%config InlineBackend.figure_format = 'svg'\n",
    "import numpy as np\n",
    "import matplotlib.pyplot as plt"
   ]
  },
  {
   "cell_type": "markdown",
   "id": "436e4031",
   "metadata": {},
   "source": [
    "We can compute the sum\n",
    "\n",
    "$$\n",
    "\\sum_{j=0}^{i-1} L_{ij} x_j\n",
    "$$\n",
    "\n",
    "using a `for` loop, but this is slow in Python. Instead, we can compute it as a dot product\n",
    "\n",
    "$$\n",
    "\\sum_{j=0}^{i-1} L_{ij} x_j = \\texttt{np.dot(L[i,0:i], x[0:i])}\n",
    "$$\n"
   ]
  },
  {
   "cell_type": "code",
   "execution_count": 10,
   "id": "93e04297",
   "metadata": {},
   "outputs": [],
   "source": [
    "def LSolve(L,b):\n",
    "    m = L.shape[0]\n",
    "    # solve Lx = b\n",
    "    x = np.empty_like(b)\n",
    "    for i in range(m):\n",
    "        x[i] = (b[i] - np.dot(L[i,0:i], x[0:i])) / L[i,i]\n",
    "    return x"
   ]
  },
  {
   "cell_type": "markdown",
   "id": "cf82f5d5",
   "metadata": {},
   "source": [
    "Create a random matrix and right hand side vector $b$ and solve $L x = b$."
   ]
  },
  {
   "cell_type": "code",
   "execution_count": 11,
   "id": "76bc5e79",
   "metadata": {},
   "outputs": [
    {
     "name": "stdout",
     "output_type": "stream",
     "text": [
      "||Lx-b|| =  8.659739592076221e-15\n"
     ]
    }
   ],
   "source": [
    "m = 10\n",
    "A = np.random.rand(m,m)\n",
    "L = np.tril(A)\n",
    "b = np.random.rand(m)\n",
    "x = LSolve(L,b)\n",
    "print('||Lx-b|| = ',np.linalg.norm(L@x - b,np.inf))"
   ]
  },
  {
   "cell_type": "markdown",
   "id": "b2e8cd2c",
   "metadata": {},
   "source": [
    "## Exercise\n",
    "Write a code to solve an upper-triangular, non-singular system and test it."
   ]
  }
 ],
 "metadata": {
  "kernelspec": {
   "display_name": "Python 3 (ipykernel)",
   "language": "python",
   "name": "python3"
  },
  "language_info": {
   "codemirror_mode": {
    "name": "ipython",
    "version": 3
   },
   "file_extension": ".py",
   "mimetype": "text/x-python",
   "name": "python",
   "nbconvert_exporter": "python",
   "pygments_lexer": "ipython3",
   "version": "3.10.6"
  },
  "vscode": {
   "interpreter": {
    "hash": "c6e4e9f98eb68ad3b7c296f83d20e6de614cb42e90992a65aa266555a3137d0d"
   }
  }
 },
 "nbformat": 4,
 "nbformat_minor": 5
}
