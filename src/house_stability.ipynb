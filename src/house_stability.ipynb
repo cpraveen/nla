{
 "cells": [
  {
   "cell_type": "markdown",
   "id": "1d29c5fe",
   "metadata": {},
   "source": [
    "# Stability of Householder triangularization"
   ]
  },
  {
   "cell_type": "code",
   "execution_count": 51,
   "id": "c3fea2cd",
   "metadata": {},
   "outputs": [],
   "source": [
    "from numpy import triu,abs\n",
    "from numpy.linalg import qr, norm\n",
    "from numpy.random import normal"
   ]
  },
  {
   "cell_type": "markdown",
   "id": "e0db6530-1032-472b-820b-c30072e2d995",
   "metadata": {},
   "source": [
    "Construct a random upper-triangular $R$, a random unitary $Q$, form $A=Q R$ and compute its QR decomposition."
   ]
  },
  {
   "cell_type": "code",
   "execution_count": 52,
   "id": "6bf94229",
   "metadata": {},
   "outputs": [],
   "source": [
    "n = 50    # n x n matrix\n",
    "R = triu(normal(0,1,(n,n)))\n",
    "Q, X = qr(normal(0,1,(n,n)))\n",
    "A = Q@R\n",
    "Q2, R2 = qr(A)"
   ]
  },
  {
   "cell_type": "markdown",
   "id": "84f36d2f-9fab-44ee-9321-1ad206329d6e",
   "metadata": {},
   "source": [
    "How accurate are the computed QR factors ?"
   ]
  },
  {
   "cell_type": "code",
   "execution_count": 53,
   "id": "208e3f06",
   "metadata": {},
   "outputs": [
    {
     "name": "stdout",
     "output_type": "stream",
     "text": [
      "0.013962420329076235\n",
      "0.0028576920995369293\n"
     ]
    }
   ],
   "source": [
    "print(norm(Q2 - Q))\n",
    "print(abs(Q2-Q).max())"
   ]
  },
  {
   "cell_type": "code",
   "execution_count": 54,
   "id": "5c2d134a",
   "metadata": {},
   "outputs": [
    {
     "name": "stdout",
     "output_type": "stream",
     "text": [
      "0.00029350040940546735\n",
      "0.0024650635424556195\n"
     ]
    }
   ],
   "source": [
    "print(norm(R2 - R) / norm(R))\n",
    "print(abs(R2-R).max() / abs(R).max())"
   ]
  },
  {
   "cell_type": "markdown",
   "id": "f7a7d613-c888-41a5-bef7-5d003f2e5a93",
   "metadata": {},
   "source": [
    "Very inaccurate !!! But the product"
   ]
  },
  {
   "cell_type": "code",
   "execution_count": 55,
   "id": "011ba826",
   "metadata": {},
   "outputs": [
    {
     "name": "stdout",
     "output_type": "stream",
     "text": [
      "6.723891191507885e-16\n",
      "1.0912093301258994e-15\n"
     ]
    }
   ],
   "source": [
    "print(norm(A - Q2@R2) / norm(A))\n",
    "print(abs(A - Q2@R2).max() / abs(A).max())"
   ]
  },
  {
   "cell_type": "markdown",
   "id": "ca886fb6-28a2-4d71-9ef3-f0d4c59340ac",
   "metadata": {},
   "source": [
    "is accurate to machine precision !!! The errors in the factors seem to be very special and cancel out in the product.\n",
    "\n",
    "If we form factors which are equally or more accurate but have random errors"
   ]
  },
  {
   "cell_type": "code",
   "execution_count": 56,
   "id": "6e980c5e",
   "metadata": {},
   "outputs": [
    {
     "name": "stdout",
     "output_type": "stream",
     "text": [
      "7.35739238991906e-05\n",
      "0.00012349777958519422\n"
     ]
    }
   ],
   "source": [
    "Q3 = Q + 1e-5 * normal(0, 1, (n, n))\n",
    "R3 = R + 1e-5 * normal(0, 1, (n, n))\n",
    "print(norm(A - Q3@R3) / norm(A))\n",
    "print(abs(A - Q3@R3).max() / abs(A).max())"
   ]
  },
  {
   "cell_type": "markdown",
   "id": "ecff7dd9-c55d-4e1b-a1e2-4a088490105c",
   "metadata": {},
   "source": [
    "they dont provide such a good approximation."
   ]
  }
 ],
 "metadata": {
  "kernelspec": {
   "display_name": "Python 3 (ipykernel)",
   "language": "python",
   "name": "python3"
  },
  "language_info": {
   "codemirror_mode": {
    "name": "ipython",
    "version": 3
   },
   "file_extension": ".py",
   "mimetype": "text/x-python",
   "name": "python",
   "nbconvert_exporter": "python",
   "pygments_lexer": "ipython3",
   "version": "3.12.9"
  },
  "vscode": {
   "interpreter": {
    "hash": "c6e4e9f98eb68ad3b7c296f83d20e6de614cb42e90992a65aa266555a3137d0d"
   }
  }
 },
 "nbformat": 4,
 "nbformat_minor": 5
}
