{
 "cells": [
  {
   "cell_type": "markdown",
   "id": "1d29c5fe",
   "metadata": {},
   "source": [
    "# Stability of Householder triangularization"
   ]
  },
  {
   "cell_type": "code",
   "execution_count": 8,
   "id": "c3fea2cd",
   "metadata": {},
   "outputs": [],
   "source": [
    "from numpy import triu\n",
    "from numpy.linalg import qr, norm\n",
    "from numpy.random import normal"
   ]
  },
  {
   "cell_type": "code",
   "execution_count": 9,
   "id": "6bf94229",
   "metadata": {},
   "outputs": [],
   "source": [
    "R = triu(normal(0,1,(50,50))) \n",
    "Q,X = qr(normal(0,1,(50,50))) \n",
    "A=Q@R\n",
    "Q2,R2 = qr(A)"
   ]
  },
  {
   "cell_type": "code",
   "execution_count": 10,
   "id": "208e3f06",
   "metadata": {},
   "outputs": [
    {
     "data": {
      "text/plain": [
       "0.00010026160644514372"
      ]
     },
     "execution_count": 10,
     "metadata": {},
     "output_type": "execute_result"
    }
   ],
   "source": [
    "norm(Q2-Q)"
   ]
  },
  {
   "cell_type": "code",
   "execution_count": 11,
   "id": "5c2d134a",
   "metadata": {},
   "outputs": [
    {
     "data": {
      "text/plain": [
       "1.1310957123825302e-06"
      ]
     },
     "execution_count": 11,
     "metadata": {},
     "output_type": "execute_result"
    }
   ],
   "source": [
    "norm(R2-R)/norm(R)"
   ]
  },
  {
   "cell_type": "code",
   "execution_count": 12,
   "id": "011ba826",
   "metadata": {},
   "outputs": [
    {
     "data": {
      "text/plain": [
       "5.848823030461114e-16"
      ]
     },
     "execution_count": 12,
     "metadata": {},
     "output_type": "execute_result"
    }
   ],
   "source": [
    "norm(A-Q2@R2)/norm(A)"
   ]
  },
  {
   "cell_type": "code",
   "execution_count": 13,
   "id": "6e980c5e",
   "metadata": {},
   "outputs": [
    {
     "data": {
      "text/plain": [
       "0.0007262924663089722"
      ]
     },
     "execution_count": 13,
     "metadata": {},
     "output_type": "execute_result"
    }
   ],
   "source": [
    "Q3 = Q + 1e-4 * normal(0, 1, (50, 50))\n",
    "R3 = R + 1e-4 * normal(0, 1, (50, 50))\n",
    "norm(A-Q3@R3)/norm(A)"
   ]
  }
 ],
 "metadata": {
  "kernelspec": {
   "display_name": "Python 3.9.13 ('base')",
   "language": "python",
   "name": "python3"
  },
  "language_info": {
   "codemirror_mode": {
    "name": "ipython",
    "version": 3
   },
   "file_extension": ".py",
   "mimetype": "text/x-python",
   "name": "python",
   "nbconvert_exporter": "python",
   "pygments_lexer": "ipython3",
   "version": "3.10.6"
  },
  "vscode": {
   "interpreter": {
    "hash": "c6e4e9f98eb68ad3b7c296f83d20e6de614cb42e90992a65aa266555a3137d0d"
   }
  }
 },
 "nbformat": 4,
 "nbformat_minor": 5
}
