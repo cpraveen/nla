{
 "cells": [
  {
   "cell_type": "markdown",
   "id": "0bb8950c",
   "metadata": {},
   "source": [
    "$\\newcommand{\\re}{\\mathbb{R}}$\n",
    "# Cholesky factorization\n",
    "Given a spd $A \\in \\re^{m \\times m}$, we want to write it as\n",
    "\n",
    "$$\n",
    "A = R^\\top R\n",
    "$$\n",
    "\n",
    "where $R$ is upper triangular matrix."
   ]
  },
  {
   "cell_type": "code",
   "execution_count": 1,
   "id": "84ea0ec9",
   "metadata": {},
   "outputs": [],
   "source": [
    "%config InlineBackend.figure_format = 'svg'\n",
    "import numpy as np\n",
    "import matplotlib.pyplot as plt"
   ]
  },
  {
   "cell_type": "markdown",
   "id": "9e02f059",
   "metadata": {},
   "source": [
    "The function returns the factor $R$ which is an upper-triangular matrix."
   ]
  },
  {
   "cell_type": "code",
   "execution_count": 2,
   "id": "639840ae",
   "metadata": {},
   "outputs": [],
   "source": [
    "def cholesky(A):\n",
    "    m = A.shape[0]\n",
    "    R = A.copy()\n",
    "    for k in range(m):\n",
    "        for j in range(k+1,m):\n",
    "            R[j,j:m] = R[j,j:m] - R[k,j:m] * (R[k,j] / R[k,k])\n",
    "        R[k,k:m] = R[k,k:m] / np.sqrt(R[k,k])\n",
    "    return np.triu(R)"
   ]
  },
  {
   "cell_type": "markdown",
   "id": "597840cf",
   "metadata": {},
   "source": [
    "Generate a random spd matrix"
   ]
  },
  {
   "cell_type": "code",
   "execution_count": 3,
   "id": "0128c75f",
   "metadata": {},
   "outputs": [],
   "source": [
    "m = 4\n",
    "A = 2 * np.random.rand(m,m) - 1\n",
    "A = A.T @ A"
   ]
  },
  {
   "cell_type": "markdown",
   "id": "14146720",
   "metadata": {},
   "source": [
    "and compute its Cholesky decomposition."
   ]
  },
  {
   "cell_type": "code",
   "execution_count": 4,
   "id": "d7c499b5",
   "metadata": {},
   "outputs": [
    {
     "name": "stdout",
     "output_type": "stream",
     "text": [
      "max|A - R.T * R| =  4.440892098500626e-16\n"
     ]
    }
   ],
   "source": [
    "R = cholesky(A)\n",
    "print('max|A - R.T * R| = ', np.abs(A - R.T@R).max())"
   ]
  }
 ],
 "metadata": {
  "kernelspec": {
   "display_name": "Python 3 (ipykernel)",
   "language": "python",
   "name": "python3"
  },
  "language_info": {
   "codemirror_mode": {
    "name": "ipython",
    "version": 3
   },
   "file_extension": ".py",
   "mimetype": "text/x-python",
   "name": "python",
   "nbconvert_exporter": "python",
   "pygments_lexer": "ipython3",
   "version": "3.10.6"
  },
  "vscode": {
   "interpreter": {
    "hash": "c6e4e9f98eb68ad3b7c296f83d20e6de614cb42e90992a65aa266555a3137d0d"
   }
  }
 },
 "nbformat": 4,
 "nbformat_minor": 5
}
