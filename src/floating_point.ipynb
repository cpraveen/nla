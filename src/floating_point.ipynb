{
 "cells": [
  {
   "cell_type": "markdown",
   "id": "0bb8950c",
   "metadata": {},
   "source": [
    "# Floating point system"
   ]
  },
  {
   "cell_type": "code",
   "execution_count": 1,
   "id": "cfaf17e5",
   "metadata": {},
   "outputs": [
    {
     "name": "stdout",
     "output_type": "stream",
     "text": [
      "sys.float_info(max=1.7976931348623157e+308, max_exp=1024, max_10_exp=308, min=2.2250738585072014e-308, min_exp=-1021, min_10_exp=-307, dig=15, mant_dig=53, epsilon=2.220446049250313e-16, radix=2, rounds=1)\n"
     ]
    }
   ],
   "source": [
    "import sys\n",
    "print(sys.float_info)"
   ]
  },
  {
   "cell_type": "code",
   "execution_count": 2,
   "id": "9cbb9551",
   "metadata": {},
   "outputs": [
    {
     "name": "stdout",
     "output_type": "stream",
     "text": [
      "Smallest number = 2.2250738585072014e-308\n",
      "Largest  number = 1.7976931348623157e+308\n",
      "2 * Unit round  = 2.220446049250313e-16\n"
     ]
    }
   ],
   "source": [
    "print('Smallest number =', sys.float_info.min)\n",
    "print('Largest  number =', sys.float_info.max)\n",
    "print('2 * Unit round  =', sys.float_info.epsilon)"
   ]
  },
  {
   "cell_type": "markdown",
   "id": "24f397d2",
   "metadata": {},
   "source": [
    "## Demonstration of unit round\n",
    "\n",
    "By default, Python computes in double precision where the unit round is\n",
    "\n",
    "$$\n",
    "u = 2^{-53}\n",
    "$$"
   ]
  },
  {
   "cell_type": "code",
   "execution_count": 3,
   "id": "609cc475",
   "metadata": {},
   "outputs": [
    {
     "name": "stdout",
     "output_type": "stream",
     "text": [
      "u                =     1.1102230246251565404236316680908203125000e-16\n",
      "one              =     1.0000000000000000000000000000000000000000\n",
      "one + u          =     1.0000000000000000000000000000000000000000\n",
      "one + 1.000001*u =     1.0000000000000002220446049250313080847263\n",
      "one + 2*u        =     1.0000000000000002220446049250313080847263\n"
     ]
    }
   ],
   "source": [
    "one = 1.0\n",
    "u = 2.0**(-53)\n",
    "\n",
    "x1 = one + u\n",
    "x2 = one + 1.000001*u\n",
    "x3 = one + 2.0*u\n",
    "\n",
    "print(\"u                = %50.40e\" % u)\n",
    "print(\"one              = %46.40f\" % one)\n",
    "print(\"one + u          = %46.40f\" % x1)\n",
    "print(\"one + 1.000001*u = %46.40f\" % x2)\n",
    "print(\"one + 2*u        = %46.40f\" % x3)"
   ]
  },
  {
   "cell_type": "markdown",
   "id": "41e2d7ea",
   "metadata": {},
   "source": [
    "We see that $1+u$ is rounded down to $1$, while $1 + 1.000001 u$ is rounded up to the next floating point number which is $1 + 2u$."
   ]
  },
  {
   "cell_type": "markdown",
   "id": "70e18dd5",
   "metadata": {},
   "source": [
    "## Compute unit round"
   ]
  },
  {
   "cell_type": "code",
   "execution_count": 4,
   "id": "f13f5558",
   "metadata": {},
   "outputs": [
    {
     "name": "stdout",
     "output_type": "stream",
     "text": [
      "Computed    unit round = 1.11022302462516e-16\n",
      "Theoretical unit round = 1.11022302462516e-16\n",
      "From python sys        = 1.11022302462516e-16\n"
     ]
    }
   ],
   "source": [
    "one   = 1.0\n",
    "delta = 1.0\n",
    "\n",
    "x = one + delta\n",
    "while x > one:\n",
    "    delta /= 2\n",
    "    x = one + delta\n",
    "\n",
    "print(\"Computed    unit round = %20.14e\" % delta)\n",
    "print(\"Theoretical unit round = %20.14e\" % 2.0**(-53))\n",
    "print(\"From python sys        = %20.14e\" % (sys.float_info.epsilon/2))"
   ]
  },
  {
   "cell_type": "markdown",
   "id": "5c70e6f6",
   "metadata": {},
   "source": [
    "## Representing integers in floating point system\n",
    "\n",
    "Not all integers can be exactly represented in floating point system. For example, in single precision, the integer\n",
    "\n",
    "$$\n",
    "2^{23+1} + 1 = 16777217\n",
    "$$\n",
    "\n",
    "cannot be exactly represented."
   ]
  },
  {
   "cell_type": "code",
   "execution_count": 1,
   "id": "2fc746ca",
   "metadata": {},
   "outputs": [
    {
     "name": "stdout",
     "output_type": "stream",
     "text": [
      "16777215 is  16777215.0\n",
      "16777216 is  16777216.0\n",
      "16777217 is  16777216.0\n",
      "16777218 is  16777218.0\n",
      "16777219 is  16777220.0\n"
     ]
    }
   ],
   "source": [
    "from numpy import float32\n",
    "print(\"16777215 is \", float32(16777215.0))\n",
    "print(\"16777216 is \", float32(16777216.0))\n",
    "print(\"16777217 is \", float32(16777217.0))\n",
    "print(\"16777218 is \", float32(16777218.0))\n",
    "print(\"16777219 is \", float32(16777219.0))"
   ]
  },
  {
   "cell_type": "code",
   "execution_count": 6,
   "id": "405e2976",
   "metadata": {},
   "outputs": [
    {
     "name": "stdout",
     "output_type": "stream",
     "text": [
      "1.6777216000000000000000000e+07\n"
     ]
    }
   ],
   "source": [
    "print(\"%30.25e\" % float32(16777217.0))"
   ]
  },
  {
   "cell_type": "markdown",
   "id": "9c630b0b",
   "metadata": {},
   "source": [
    "## More examples\n",
    "\n",
    "Also see examples here https://github.com/cpraveen/na/tree/master/computer_arithmetic"
   ]
  }
 ],
 "metadata": {
  "kernelspec": {
   "display_name": "Python 3 (ipykernel)",
   "language": "python",
   "name": "python3"
  },
  "language_info": {
   "codemirror_mode": {
    "name": "ipython",
    "version": 3
   },
   "file_extension": ".py",
   "mimetype": "text/x-python",
   "name": "python",
   "nbconvert_exporter": "python",
   "pygments_lexer": "ipython3",
   "version": "3.10.8"
  },
  "vscode": {
   "interpreter": {
    "hash": "c6e4e9f98eb68ad3b7c296f83d20e6de614cb42e90992a65aa266555a3137d0d"
   }
  }
 },
 "nbformat": 4,
 "nbformat_minor": 5
}
