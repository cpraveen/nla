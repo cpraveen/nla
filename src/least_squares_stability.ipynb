{
 "cells": [
  {
   "cell_type": "markdown",
   "id": "1d29c5fe",
   "metadata": {},
   "source": [
    "# Stability of least squares algorithms"
   ]
  },
  {
   "cell_type": "code",
   "execution_count": 1,
   "id": "c3fea2cd",
   "metadata": {},
   "outputs": [],
   "source": [
    "from numpy import linspace,empty,exp,sin,arcsin,column_stack\n",
    "from numpy.linalg import lstsq,norm,solve,qr,svd\n",
    "from qr import mgs,house"
   ]
  },
  {
   "cell_type": "code",
   "execution_count": 2,
   "id": "d2aeaab1",
   "metadata": {},
   "outputs": [],
   "source": [
    "m, n = 100, 15\n",
    "t = linspace(0,1,m)\n",
    "A = empty((m,n))\n",
    "for i in range(n):\n",
    "    A[:,i] = t**i\n",
    "b = exp(sin(4*t))\n",
    "b = b/2006.787453080206"
   ]
  },
  {
   "cell_type": "code",
   "execution_count": 3,
   "id": "6f269426",
   "metadata": {},
   "outputs": [
    {
     "name": "stdout",
     "output_type": "stream",
     "text": [
      "kappa = 2.2718e+10\n",
      "theta = 3.7461e-06\n",
      "eta   = 2.1036e+05\n"
     ]
    }
   ],
   "source": [
    "x,_,_,s = lstsq(A,b,rcond=None); y = A @ x\n",
    "kappa = s.max() / s.min()\n",
    "print('kappa = %10.4e' % kappa)\n",
    "theta = arcsin(norm(b-y)/norm(b))\n",
    "print('theta = %10.4e' % theta)\n",
    "eta   = s.max() * norm(x) / norm(y)\n",
    "print('eta   = %10.4e' % eta)"
   ]
  },
  {
   "cell_type": "code",
   "execution_count": 4,
   "id": "ad665a85",
   "metadata": {},
   "outputs": [
    {
     "name": "stdout",
     "output_type": "stream",
     "text": [
      "\n",
      "numpy.linalg.qr\n",
      "x_15, x_15-1 = 0.9999999514700865 -4.85299135322137e-08\n"
     ]
    }
   ],
   "source": [
    "# numpy.linalg.qr\n",
    "Q,R = qr(A)\n",
    "x = solve(R, Q.T @ b)\n",
    "print('\\nnumpy.linalg.qr')\n",
    "print('x_15, x_15-1 =',x[-1], x[-1]-1)"
   ]
  },
  {
   "cell_type": "code",
   "execution_count": 5,
   "id": "4b1ca8eb",
   "metadata": {},
   "outputs": [
    {
     "name": "stdout",
     "output_type": "stream",
     "text": [
      "\n",
      "numpy.linalg.qr augmented\n",
      "x_15, x_15-1 = 0.9999999514805099 -4.85194900923247e-08\n"
     ]
    }
   ],
   "source": [
    "# numpy.linalg.qr augmented\n",
    "Q2,R2 = qr(column_stack((A,b)))\n",
    "Qb = R2[0:n,n]   # Last column of R2\n",
    "R  = R2[0:n,0:n]\n",
    "x = solve(R,Qb)\n",
    "print('\\nnumpy.linalg.qr augmented')\n",
    "print('x_15, x_15-1 =',x[-1], x[-1]-1)"
   ]
  },
  {
   "cell_type": "code",
   "execution_count": 6,
   "id": "a6f75089",
   "metadata": {},
   "outputs": [
    {
     "name": "stdout",
     "output_type": "stream",
     "text": [
      "\n",
      "Householder triangularization\n",
      "x_15, x_15-1 = 0.9999997622165047 -2.377834953382063e-07\n"
     ]
    }
   ],
   "source": [
    "# Householder triangularization\n",
    "Q,R = house(A,mode='reduced')\n",
    "x = solve(R, Q.T @ b)\n",
    "print('\\nHouseholder triangularization')\n",
    "print('x_15, x_15-1 =',x[-1], x[-1]-1)\n"
   ]
  },
  {
   "cell_type": "code",
   "execution_count": 7,
   "id": "94084beb",
   "metadata": {},
   "outputs": [
    {
     "name": "stdout",
     "output_type": "stream",
     "text": [
      "\n",
      "Modified GS\n",
      "x_15, x_15-1 = 0.943853356170208 -0.05614664382979195\n"
     ]
    }
   ],
   "source": [
    "# Modified GS\n",
    "Q, R = mgs(A)\n",
    "x = solve(R, Q.T@b)\n",
    "print('\\nModified GS')\n",
    "print('x_15, x_15-1 =',x[-1], x[-1]-1)"
   ]
  },
  {
   "cell_type": "code",
   "execution_count": 8,
   "id": "ed512c82",
   "metadata": {},
   "outputs": [
    {
     "name": "stdout",
     "output_type": "stream",
     "text": [
      "\n",
      "Modified GS augmented\n",
      "x_15, x_15-1 = 1.0000000397100135 3.971001349967196e-08\n"
     ]
    }
   ],
   "source": [
    "# Modified GS, augmented\n",
    "Q2,R2 = mgs(column_stack((A,b)))\n",
    "Qb = R2[0:n,n]   # Last column of R2\n",
    "R  = R2[0:n,0:n]\n",
    "x = solve(R,Qb)\n",
    "print('\\nModified GS augmented')\n",
    "print('x_15, x_15-1 =',x[-1], x[-1]-1)"
   ]
  },
  {
   "cell_type": "code",
   "execution_count": 9,
   "id": "bf13f3a1",
   "metadata": {},
   "outputs": [
    {
     "name": "stdout",
     "output_type": "stream",
     "text": [
      "\n",
      "Normal equations\n",
      "x_15, x_15-1 = 0.5409332976351735 -0.4590667023648265\n"
     ]
    }
   ],
   "source": [
    "# Normal equation\n",
    "x = solve(A.T@A, A.T@b)\n",
    "print('\\nNormal equations')\n",
    "print('x_15, x_15-1 =',x[-1], x[-1]-1)"
   ]
  },
  {
   "cell_type": "code",
   "execution_count": 10,
   "id": "5a237ad3",
   "metadata": {},
   "outputs": [
    {
     "name": "stdout",
     "output_type": "stream",
     "text": [
      "\n",
      "SVD\n",
      "x_15,x_15-1= 0.9999999514733525 -4.8526647478119855e-08\n"
     ]
    }
   ],
   "source": [
    "# SVD\n",
    "U,S,VT = svd(A,full_matrices=False) # reduced SVD\n",
    "x = VT.T @ ((U.T@b)/S)\n",
    "print('\\nSVD')\n",
    "print('x_15,x_15-1=',x[-1], x[-1]-1)"
   ]
  }
 ],
 "metadata": {
  "kernelspec": {
   "display_name": "Python 3.9.13 ('base')",
   "language": "python",
   "name": "python3"
  },
  "language_info": {
   "codemirror_mode": {
    "name": "ipython",
    "version": 3
   },
   "file_extension": ".py",
   "mimetype": "text/x-python",
   "name": "python",
   "nbconvert_exporter": "python",
   "pygments_lexer": "ipython3",
   "version": "3.10.6"
  },
  "vscode": {
   "interpreter": {
    "hash": "c6e4e9f98eb68ad3b7c296f83d20e6de614cb42e90992a65aa266555a3137d0d"
   }
  }
 },
 "nbformat": 4,
 "nbformat_minor": 5
}
