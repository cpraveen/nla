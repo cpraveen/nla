{
 "cells": [
  {
   "cell_type": "markdown",
   "id": "1d29c5fe",
   "metadata": {},
   "source": [
    "# Stability of Householder triangularization"
   ]
  },
  {
   "cell_type": "code",
   "execution_count": 9,
   "id": "c3fea2cd",
   "metadata": {},
   "outputs": [],
   "source": [
    "from numpy import triu\n",
    "from numpy.linalg import qr, norm\n",
    "from numpy.random import normal"
   ]
  },
  {
   "cell_type": "markdown",
   "id": "e0db6530-1032-472b-820b-c30072e2d995",
   "metadata": {},
   "source": [
    "Construct a random upper-triangular $R$, a random unitary $Q$, form $A=Q R$ and compute its QR decomposition."
   ]
  },
  {
   "cell_type": "code",
   "execution_count": 10,
   "id": "6bf94229",
   "metadata": {},
   "outputs": [],
   "source": [
    "n = 50    # n x n matrix\n",
    "R = triu(normal(0,1,(n,n)))\n",
    "Q, X = qr(normal(0,1,(n,n)))\n",
    "A = Q@R\n",
    "Q2, R2 = qr(A)"
   ]
  },
  {
   "cell_type": "markdown",
   "id": "84f36d2f-9fab-44ee-9321-1ad206329d6e",
   "metadata": {},
   "source": [
    "How accurate are the computed QR factors ?"
   ]
  },
  {
   "cell_type": "code",
   "execution_count": 11,
   "id": "208e3f06",
   "metadata": {},
   "outputs": [
    {
     "data": {
      "text/plain": [
       "np.float64(7.610541847399847e-05)"
      ]
     },
     "execution_count": 11,
     "metadata": {},
     "output_type": "execute_result"
    }
   ],
   "source": [
    "norm(Q2 - Q)"
   ]
  },
  {
   "cell_type": "code",
   "execution_count": 12,
   "id": "5c2d134a",
   "metadata": {},
   "outputs": [
    {
     "data": {
      "text/plain": [
       "np.float64(3.469184000518013e-06)"
      ]
     },
     "execution_count": 12,
     "metadata": {},
     "output_type": "execute_result"
    }
   ],
   "source": [
    "norm(R2 - R) / norm(R)"
   ]
  },
  {
   "cell_type": "markdown",
   "id": "f7a7d613-c888-41a5-bef7-5d003f2e5a93",
   "metadata": {},
   "source": [
    "Very inaccurate !!! But the product"
   ]
  },
  {
   "cell_type": "code",
   "execution_count": 13,
   "id": "011ba826",
   "metadata": {},
   "outputs": [
    {
     "data": {
      "text/plain": [
       "np.float64(6.909160473616151e-16)"
      ]
     },
     "execution_count": 13,
     "metadata": {},
     "output_type": "execute_result"
    }
   ],
   "source": [
    "norm(A - Q2@R2) / norm(A)"
   ]
  },
  {
   "cell_type": "markdown",
   "id": "ca886fb6-28a2-4d71-9ef3-f0d4c59340ac",
   "metadata": {},
   "source": [
    "is accurate to machine precision !!! The errors in the factors seem to be very special and cancel out in the product.\n",
    "\n",
    "If we form factors which are equally or more accurate but have random errors"
   ]
  },
  {
   "cell_type": "code",
   "execution_count": 14,
   "id": "6e980c5e",
   "metadata": {},
   "outputs": [
    {
     "data": {
      "text/plain": [
       "np.float64(7.145532978544857e-05)"
      ]
     },
     "execution_count": 14,
     "metadata": {},
     "output_type": "execute_result"
    }
   ],
   "source": [
    "Q3 = Q + 1e-5 * normal(0, 1, (n, n))\n",
    "R3 = R + 1e-5 * normal(0, 1, (n, n))\n",
    "norm(A - Q3@R3) / norm(A)"
   ]
  },
  {
   "cell_type": "markdown",
   "id": "ecff7dd9-c55d-4e1b-a1e2-4a088490105c",
   "metadata": {},
   "source": [
    "they dont provide such a good approximation."
   ]
  }
 ],
 "metadata": {
  "kernelspec": {
   "display_name": "Python 3 (ipykernel)",
   "language": "python",
   "name": "python3"
  },
  "language_info": {
   "codemirror_mode": {
    "name": "ipython",
    "version": 3
   },
   "file_extension": ".py",
   "mimetype": "text/x-python",
   "name": "python",
   "nbconvert_exporter": "python",
   "pygments_lexer": "ipython3",
   "version": "3.12.8"
  },
  "vscode": {
   "interpreter": {
    "hash": "c6e4e9f98eb68ad3b7c296f83d20e6de614cb42e90992a65aa266555a3137d0d"
   }
  }
 },
 "nbformat": 4,
 "nbformat_minor": 5
}
