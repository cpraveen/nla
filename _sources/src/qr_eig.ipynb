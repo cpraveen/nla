{
 "cells": [
  {
   "cell_type": "markdown",
   "id": "2bfa6211-9c8f-41ec-96f4-2b60d0e15d60",
   "metadata": {},
   "source": [
    "# QR algorithm for eigenvalues"
   ]
  },
  {
   "cell_type": "code",
   "execution_count": 13,
   "id": "a3a3ffd6-b364-400d-9400-b6a2978ed661",
   "metadata": {
    "tags": []
   },
   "outputs": [],
   "source": [
    "import numpy as np\n",
    "from numpy.linalg import qr, eig\n",
    "from scipy.linalg import hessenberg"
   ]
  },
  {
   "cell_type": "markdown",
   "id": "c86a69f2-3572-4f5b-a427-394c53507b0f",
   "metadata": {},
   "source": [
    "## Pure QR algorithm"
   ]
  },
  {
   "cell_type": "code",
   "execution_count": 14,
   "id": "fa7fd5ca-1d4a-4463-96f1-defebd4f0ed8",
   "metadata": {
    "tags": []
   },
   "outputs": [],
   "source": [
    "# Algorithm 28.1\n",
    "def qr_pure(A, maxiter=1000, tol=1e-12):\n",
    "    for k in range(maxiter):\n",
    "        Q, R = qr(A)\n",
    "        A = R @ Q\n",
    "        sub_diag = np.diag(A,-1)\n",
    "        if np.abs(sub_diag).max() < tol:\n",
    "            print('Converged in iterations = ', k+1)\n",
    "            return A\n",
    "    print('Did not converge in maxiter =', maxiter)\n",
    "    return A"
   ]
  },
  {
   "cell_type": "code",
   "execution_count": 15,
   "id": "fe5194b2-37ca-4bc2-b6b9-00967adfc01c",
   "metadata": {
    "tags": []
   },
   "outputs": [
    {
     "name": "stdout",
     "output_type": "stream",
     "text": [
      "Eigenvalues =  [ 2.41775195 -0.38553385  0.26736926  0.55740553  0.74489269]\n"
     ]
    }
   ],
   "source": [
    "m = 5\n",
    "B = np.random.random((m,m))\n",
    "A = 0.5 * (B + B.T)\n",
    "evals,evecs = eig(A)\n",
    "print('Eigenvalues = ', evals)"
   ]
  },
  {
   "cell_type": "code",
   "execution_count": 16,
   "id": "f9786afe-68bf-4723-bcc2-222bd843cc45",
   "metadata": {
    "tags": []
   },
   "outputs": [
    {
     "name": "stdout",
     "output_type": "stream",
     "text": [
      "Converged in iterations =  83\n",
      "[[ 2.41775195  0.         -0.         -0.          0.        ]\n",
      " [ 0.          0.74489269 -0.          0.          0.        ]\n",
      " [ 0.         -0.          0.55740553  0.         -0.        ]\n",
      " [ 0.          0.          0.         -0.38553385  0.        ]\n",
      " [ 0.         -0.         -0.          0.          0.26736926]]\n"
     ]
    }
   ],
   "source": [
    "D = qr_pure(A.copy())\n",
    "print(np.array_str(D,suppress_small=True))"
   ]
  },
  {
   "cell_type": "markdown",
   "id": "d90e157b-c038-470c-ab35-12ea0d1e7110",
   "metadata": {},
   "source": [
    "Eigenvalues appear on diagonal with decreasing magnitude."
   ]
  },
  {
   "cell_type": "markdown",
   "id": "dfb51f09-2a24-4005-bd63-b3e2fe7aa60a",
   "metadata": {},
   "source": [
    "## Practical QR algorithm\n",
    "\n",
    "We perform an initial reduction to Hessenberg form and use shifted QR with Rayleigh-quotient shifts."
   ]
  },
  {
   "cell_type": "code",
   "execution_count": 17,
   "id": "79b5ffe9-3416-4e5b-9fc5-24cc10c00f4f",
   "metadata": {},
   "outputs": [],
   "source": [
    "# Algorithm 28.2\n",
    "def qr_with_shifts(A, maxiter=1000, tol=1e-12):\n",
    "    m = A.shape[0]\n",
    "    H = hessenberg(A)\n",
    "    for k in range(maxiter):\n",
    "        mu = H[-1,-1]\n",
    "        Q, R = qr(H - mu*np.eye(m))\n",
    "        H = R @ Q + mu * np.eye(m)\n",
    "        sub_diag = np.diag(H,-1)\n",
    "        if np.abs(sub_diag).max() < tol:\n",
    "            print('Converged in iterations = ', k+1)\n",
    "            return H\n",
    "    print('Did not converge in maxiter =', maxiter)\n",
    "    return H"
   ]
  },
  {
   "cell_type": "markdown",
   "id": "71e350e9-5089-4289-a437-751c8e833093",
   "metadata": {},
   "source": [
    "**TODO**: Add deflation step."
   ]
  },
  {
   "cell_type": "code",
   "execution_count": 18,
   "id": "70e75fb2-5af5-47ee-be81-5f953e34647a",
   "metadata": {
    "tags": []
   },
   "outputs": [
    {
     "name": "stdout",
     "output_type": "stream",
     "text": [
      "Converged in iterations =  58\n",
      "[[ 2.41775195  0.          0.         -0.         -0.        ]\n",
      " [-0.         -0.38553385 -0.          0.         -0.        ]\n",
      " [ 0.         -0.          0.26736926  0.          0.        ]\n",
      " [ 0.          0.          0.          0.74489269 -0.        ]\n",
      " [ 0.          0.          0.          0.          0.55740553]]\n"
     ]
    }
   ],
   "source": [
    "D = qr_with_shifts(A.copy())\n",
    "print(np.array_str(D,suppress_small=True))"
   ]
  },
  {
   "cell_type": "markdown",
   "id": "5d5cd977-0641-4967-b778-bafd9a0f909d",
   "metadata": {},
   "source": [
    "The convergence is usually faster than pure QR. The eigenvalues may not be ordered in any particular way on the diagonal."
   ]
  }
 ],
 "metadata": {
  "kernelspec": {
   "display_name": "Python 3 (ipykernel)",
   "language": "python",
   "name": "python3"
  },
  "language_info": {
   "codemirror_mode": {
    "name": "ipython",
    "version": 3
   },
   "file_extension": ".py",
   "mimetype": "text/x-python",
   "name": "python",
   "nbconvert_exporter": "python",
   "pygments_lexer": "ipython3",
   "version": "3.10.8"
  }
 },
 "nbformat": 4,
 "nbformat_minor": 5
}
